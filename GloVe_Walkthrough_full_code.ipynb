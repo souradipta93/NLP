{
  "nbformat": 4,
  "nbformat_minor": 0,
  "metadata": {
    "colab": {
      "name": "5_GloVe_Walkthrough_full_code.ipynb",
      "provenance": [],
      "collapsed_sections": [],
      "include_colab_link": true
    },
    "kernelspec": {
      "display_name": "Python 3",
      "language": "python",
      "name": "python3"
    },
    "language_info": {
      "codemirror_mode": {
        "name": "ipython",
        "version": 3
      },
      "file_extension": ".py",
      "mimetype": "text/x-python",
      "name": "python",
      "nbconvert_exporter": "python",
      "pygments_lexer": "ipython3",
      "version": "3.8.5"
    }
  },
  "cells": [
    {
      "cell_type": "markdown",
      "metadata": {
        "id": "view-in-github",
        "colab_type": "text"
      },
      "source": [
        "<a href=\"https://colab.research.google.com/github/souradipta93/NLP/blob/main/GloVe_Walkthrough_full_code.ipynb\" target=\"_parent\"><img src=\"https://colab.research.google.com/assets/colab-badge.svg\" alt=\"Open In Colab\"/></a>"
      ]
    },
    {
      "cell_type": "markdown",
      "metadata": {
        "id": "qWkctLllvtD6"
      },
      "source": [
        "### Package Version\n",
        "- gensim==3.6.0"
      ]
    },
    {
      "cell_type": "markdown",
      "metadata": {
        "id": "kOCDNk-oAuzP"
      },
      "source": [
        "# GloVe: Global Vectors for Word Representation\n",
        "GloVe is an unsupervised learning algorithm for obtaining vector representations for words. Training is performed on aggregated global word-word co-occurrence statistics from a corpus, and the resulting representations showcase interesting linear substructures of the word vector space."
      ]
    },
    {
      "cell_type": "markdown",
      "metadata": {
        "id": "dc4YpyxDDnHv"
      },
      "source": [
        "### Download pre-trained word vectors\n",
        "\n",
        "Pre-trained word vectors. This data is made available under the Public Domain Dedication and License v1.0 whose full text can be found at: http://www.opendatacommons.org/licenses/pddl/1.0/.\n",
        "\n",
        "- Wikipedia 2014 + Gigaword 5 (6B tokens, 400K vocab, uncased, 50d, 100d, 200d, & 300d vectors, 822 MB download): [glove.6B.zip](http://nlp.stanford.edu/data/glove.6B.zip)\n",
        "- Common Crawl (42B tokens, 1.9M vocab, uncased, 300d vectors, 1.75 GB download): glove.42B.300d.zip\n",
        "- Common Crawl (840B tokens, 2.2M vocab, cased, 300d vectors, 2.03 GB download): glove.840B.300d.zip\n",
        "- Twitter (2B tweets, 27B tokens, 1.2M vocab, uncased, 25d, 50d, 100d, & 200d vectors, 1.42 GB download): glove.twitter.27B.zip"
      ]
    },
    {
      "cell_type": "markdown",
      "metadata": {
        "id": "efC1x2BMDapB"
      },
      "source": [
        "### Load GloVe Embeddings\n",
        "- We need to convert the GloVe file format to the word2vec file format\n",
        "- We will generate a word2vec file"
      ]
    },
    {
      "cell_type": "code",
      "metadata": {
        "id": "wY5Sw3XF__T1"
      },
      "source": [
        "from gensim.scripts.glove2word2vec import glove2word2vec\n",
        "\n",
        "glove_file = 'glove.6B.300d.txt'\n",
        "output_file_word2vec = 'glove.6B.300d.txt.word2vec'\n",
        "glove2word2vec(glove_file, output_file_word2vec)"
      ],
      "execution_count": null,
      "outputs": []
    },
    {
      "cell_type": "markdown",
      "metadata": {
        "id": "FC6ew1lXl0Th"
      },
      "source": [
        "- We have created a file named `glove.6B.300d.txt.word2vec`\n",
        "- Now we can load this like a word2vec file"
      ]
    },
    {
      "cell_type": "code",
      "metadata": {
        "id": "CEheq9a9eanr"
      },
      "source": [
        "from gensim.models import KeyedVectors\n",
        "\n",
        "file_name = 'glove.6B.300d.txt.word2vec'\n",
        "model = KeyedVectors.load_word2vec_format(file_name, binary=False)"
      ],
      "execution_count": null,
      "outputs": []
    },
    {
      "cell_type": "markdown",
      "metadata": {
        "id": "z1Me_fRTnOLZ"
      },
      "source": [
        "### Check out what the embedding looks like\n",
        "- Let's take one word and check it's embedding"
      ]
    },
    {
      "cell_type": "code",
      "metadata": {
        "id": "lAD5up54m0ky"
      },
      "source": [
        "word_embedding = model['cat']\n",
        "print(\"Shape: {}\".format(word_embedding.shape))\n",
        "print(\"Word Embedding: {}\".format(word_embedding))"
      ],
      "execution_count": null,
      "outputs": []
    },
    {
      "cell_type": "markdown",
      "metadata": {
        "id": "f-VnwtMSoKzb"
      },
      "source": [
        "### What happens if a word is out of the dictionary?"
      ]
    },
    {
      "cell_type": "code",
      "metadata": {
        "id": "61sK_hDjnukt"
      },
      "source": [
        "word = 'pending'\n",
        "if word in model:\n",
        "  print('{} is in the model'.format(word))\n",
        "else:\n",
        "  print('{} is NOT in the model'.format(word))"
      ],
      "execution_count": null,
      "outputs": []
    },
    {
      "cell_type": "markdown",
      "metadata": {
        "id": "mCEnqfRcofxs"
      },
      "source": [
        "### Check the words most similar to a particular word"
      ]
    },
    {
      "cell_type": "code",
      "metadata": {
        "id": "JXzdsOenoW74"
      },
      "source": [
        "model.most_similar(positive=['learning'])"
      ],
      "execution_count": null,
      "outputs": []
    },
    {
      "cell_type": "markdown",
      "metadata": {
        "id": "xSpk_bK0pA2N"
      },
      "source": [
        "### Check the words that are like X but unlike Y"
      ]
    },
    {
      "cell_type": "code",
      "metadata": {
        "id": "baV-fkpJpA2R"
      },
      "source": [
        "model.most_similar(positive=['woman', 'king'], negative=['man'])"
      ],
      "execution_count": null,
      "outputs": []
    },
    {
      "cell_type": "markdown",
      "metadata": {
        "id": "pL7IwoYrqBCv"
      },
      "source": [
        "### Which word from the given list doesn’t go with the others?"
      ]
    },
    {
      "cell_type": "code",
      "metadata": {
        "id": "tnynYYfNom3W"
      },
      "source": [
        "model.doesnt_match(\"breakfast cereal dinner lunch\".split())"
      ],
      "execution_count": null,
      "outputs": []
    },
    {
      "cell_type": "markdown",
      "metadata": {
        "id": "EdCf_yMxrcqH"
      },
      "source": [
        "### Compute cosine similarity between two words"
      ]
    },
    {
      "cell_type": "code",
      "metadata": {
        "id": "4sPiNAL1qd7M"
      },
      "source": [
        "model.similarity('woman', 'man')"
      ],
      "execution_count": null,
      "outputs": []
    },
    {
      "cell_type": "code",
      "metadata": {
        "id": "Mb12d2yGrkSy"
      },
      "source": [
        "model.similarity('woman', 'woman')"
      ],
      "execution_count": null,
      "outputs": []
    },
    {
      "cell_type": "code",
      "metadata": {
        "id": "VJd7iLDiun-2"
      },
      "source": [
        "model.similarity('apple', 'google')"
      ],
      "execution_count": null,
      "outputs": []
    },
    {
      "cell_type": "code",
      "metadata": {
        "id": "LjSZfb1ruuox"
      },
      "source": [
        "model.similarity('apple', 'orange')"
      ],
      "execution_count": null,
      "outputs": []
    },
    {
      "cell_type": "markdown",
      "metadata": {
        "id": "VcaTlt4puK5v"
      },
      "source": [
        "### Compute cosine similarity between two sets of words"
      ]
    },
    {
      "cell_type": "code",
      "metadata": {
        "id": "hYTNHIO5uP8w"
      },
      "source": [
        "model.n_similarity(['man', 'woman'], ['girl', 'boy'])"
      ],
      "execution_count": null,
      "outputs": []
    },
    {
      "cell_type": "code",
      "metadata": {
        "id": "wuaRW1JGuhz2"
      },
      "source": [
        "model.n_similarity(['google', 'amazon'], ['facebook', 'microsoft'])"
      ],
      "execution_count": null,
      "outputs": []
    },
    {
      "cell_type": "markdown",
      "metadata": {
        "id": "xEjqamckr6f0"
      },
      "source": [
        "### Find the top-N most similar words by vector"
      ]
    },
    {
      "cell_type": "code",
      "metadata": {
        "id": "OTY8l1r8rod8"
      },
      "source": [
        "model.similar_by_vector(model['king'] - model['queen'] + model['woman'], topn=3)"
      ],
      "execution_count": null,
      "outputs": []
    },
    {
      "cell_type": "code",
      "metadata": {
        "id": "HLBtaL0GtcDl"
      },
      "source": [
        ""
      ],
      "execution_count": null,
      "outputs": []
    }
  ]
}