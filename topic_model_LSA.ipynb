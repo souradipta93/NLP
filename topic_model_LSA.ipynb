{
  "nbformat": 4,
  "nbformat_minor": 0,
  "metadata": {
    "kernelspec": {
      "display_name": "Python 3",
      "language": "python",
      "name": "python3"
    },
    "language_info": {
      "codemirror_mode": {
        "name": "ipython",
        "version": 3
      },
      "file_extension": ".py",
      "mimetype": "text/x-python",
      "name": "python",
      "nbconvert_exporter": "python",
      "pygments_lexer": "ipython3",
      "version": "3.8.5"
    },
    "colab": {
      "name": "topic_model_LSA.ipynb",
      "provenance": [],
      "include_colab_link": true
    }
  },
  "cells": [
    {
      "cell_type": "markdown",
      "metadata": {
        "id": "view-in-github",
        "colab_type": "text"
      },
      "source": [
        "<a href=\"https://colab.research.google.com/github/souradipta93/NLP/blob/main/topic_model_LSA.ipynb\" target=\"_parent\"><img src=\"https://colab.research.google.com/assets/colab-badge.svg\" alt=\"Open In Colab\"/></a>"
      ]
    },
    {
      "cell_type": "code",
      "metadata": {
        "id": "yatt9gn8C04v"
      },
      "source": [
        "import pandas as pd\n",
        "\n",
        "from sklearn.decomposition import LatentDirichletAllocation, TruncatedSVD\n",
        "from sklearn.feature_extraction.text import CountVectorizer\n",
        "from sklearn.feature_extraction.text import TfidfVectorizer\n",
        "\n",
        "import nltk\n",
        "#nltk.download()\n",
        "\n",
        "import re\n",
        "#remove stopwords\n",
        "from nltk.corpus import stopwords\n",
        "stop_words = set(stopwords.words(\"english\"))\n",
        "\n",
        "from nltk.stem.wordnet import WordNetLemmatizer "
      ],
      "execution_count": null,
      "outputs": []
    },
    {
      "cell_type": "code",
      "metadata": {
        "id": "w0l0HCnLC04y"
      },
      "source": [
        "movie = pd.read_csv('imdb1.csv')"
      ],
      "execution_count": null,
      "outputs": []
    },
    {
      "cell_type": "code",
      "metadata": {
        "id": "Ck5GgdW1C04z",
        "outputId": "63d44021-b616-4ee3-a25e-73675dd8538d"
      },
      "source": [
        "movie.head()"
      ],
      "execution_count": null,
      "outputs": [
        {
          "output_type": "execute_result",
          "data": {
            "text/html": [
              "<div>\n",
              "<style scoped>\n",
              "    .dataframe tbody tr th:only-of-type {\n",
              "        vertical-align: middle;\n",
              "    }\n",
              "\n",
              "    .dataframe tbody tr th {\n",
              "        vertical-align: top;\n",
              "    }\n",
              "\n",
              "    .dataframe thead th {\n",
              "        text-align: right;\n",
              "    }\n",
              "</style>\n",
              "<table border=\"1\" class=\"dataframe\">\n",
              "  <thead>\n",
              "    <tr style=\"text-align: right;\">\n",
              "      <th></th>\n",
              "      <th>review</th>\n",
              "      <th>sentiment</th>\n",
              "    </tr>\n",
              "  </thead>\n",
              "  <tbody>\n",
              "    <tr>\n",
              "      <th>0</th>\n",
              "      <td>Ron Hall pulls a triple threat as he writes, d...</td>\n",
              "      <td>negative</td>\n",
              "    </tr>\n",
              "    <tr>\n",
              "      <th>1</th>\n",
              "      <td>The first in the series was brilliant, easily ...</td>\n",
              "      <td>negative</td>\n",
              "    </tr>\n",
              "    <tr>\n",
              "      <th>2</th>\n",
              "      <td>I LOVED this movie because Bobbie Phillips can...</td>\n",
              "      <td>positive</td>\n",
              "    </tr>\n",
              "    <tr>\n",
              "      <th>3</th>\n",
              "      <td>I was @ 13 yrs of age when I saw this greatly ...</td>\n",
              "      <td>positive</td>\n",
              "    </tr>\n",
              "    <tr>\n",
              "      <th>4</th>\n",
              "      <td>The Coen Brothers have truly outdone themselve...</td>\n",
              "      <td>positive</td>\n",
              "    </tr>\n",
              "  </tbody>\n",
              "</table>\n",
              "</div>"
            ],
            "text/plain": [
              "                                              review sentiment\n",
              "0  Ron Hall pulls a triple threat as he writes, d...  negative\n",
              "1  The first in the series was brilliant, easily ...  negative\n",
              "2  I LOVED this movie because Bobbie Phillips can...  positive\n",
              "3  I was @ 13 yrs of age when I saw this greatly ...  positive\n",
              "4  The Coen Brothers have truly outdone themselve...  positive"
            ]
          },
          "metadata": {
            "tags": []
          },
          "execution_count": 8
        }
      ]
    },
    {
      "cell_type": "code",
      "metadata": {
        "id": "pJeez9x0C040",
        "outputId": "94a6eafe-34e1-46fe-fa03-2b1b50e6116a"
      },
      "source": [
        "movie.shape"
      ],
      "execution_count": null,
      "outputs": [
        {
          "output_type": "execute_result",
          "data": {
            "text/plain": [
              "(2000, 2)"
            ]
          },
          "metadata": {
            "tags": []
          },
          "execution_count": 9
        }
      ]
    },
    {
      "cell_type": "code",
      "metadata": {
        "id": "QsM60GQhC041"
      },
      "source": [
        "#Adding custom stop words\n",
        "new_words = [\"some\",\"one\",\"like\",\"time\",\"br\",\"movie\",\"film\",\"could\",\"good\",'even', 'get', 'would',\n",
        "             'make', 'really', 'see', 'well', 'much', 'great', 'first', 'people', 'also', 'bad', \n",
        "             'show', 'way', 'thing', 'made', 'go', 'think', 'know', 'watch','look','many']\n",
        "stop_words = stop_words.union(new_words)"
      ],
      "execution_count": null,
      "outputs": []
    },
    {
      "cell_type": "code",
      "metadata": {
        "id": "V9kibkH-C041"
      },
      "source": [
        "#Text pre-processing\n",
        "corpus = []\n",
        "for i in range(0, movie.shape[0]):\n",
        "    #Remove punctuations\n",
        "    text = re.sub('[^a-zA-Z]', ' ', movie['review'][i])\n",
        "    \n",
        "    #Convert to lowercase\n",
        "    text = text.lower()\n",
        "    ##Convert to list from string\n",
        "    text = text.split()\n",
        "    ##Lemmatizing\n",
        "    lm = WordNetLemmatizer() \n",
        "       \n",
        "    \n",
        "    text = [lm.lemmatize(word) for word in text if not word in stop_words] \n",
        "    text = \" \".join(text)\n",
        "    corpus.append(text)"
      ],
      "execution_count": null,
      "outputs": []
    },
    {
      "cell_type": "code",
      "metadata": {
        "id": "_mdWZbWUC042"
      },
      "source": [
        "## Count vectoriser \n",
        "tfidf = TfidfVectorizer(max_df=0.9,\n",
        "                        stop_words=stop_words)\n",
        "data_vectorized = tfidf.fit_transform(corpus)"
      ],
      "execution_count": null,
      "outputs": []
    },
    {
      "cell_type": "code",
      "metadata": {
        "id": "H3dcKPh3C042",
        "outputId": "7fe9c2fc-eaa6-4abf-fc24-a37b36554556"
      },
      "source": [
        "print(data_vectorized.shape)"
      ],
      "execution_count": null,
      "outputs": [
        {
          "output_type": "stream",
          "text": [
            "(2000, 21984)\n"
          ],
          "name": "stdout"
        }
      ]
    },
    {
      "cell_type": "code",
      "metadata": {
        "id": "pa9NSMj_C043",
        "outputId": "61763923-74e6-4102-9887-d12d2e9ff38c"
      },
      "source": [
        "# Build a Latent Dirichlet Allocation Model\n",
        "\n",
        "lsa_model = TruncatedSVD(n_components=5, \n",
        "                         algorithm='randomized', \n",
        "                         n_iter=100, \n",
        "                         random_state=122)\n",
        "\n",
        "lsa_movie = lsa_model.fit_transform(data_vectorized)\n",
        "\n",
        "print(lsa_movie.shape)  # (NO_DOCUMENTS, NO_TOPICS)"
      ],
      "execution_count": null,
      "outputs": [
        {
          "output_type": "stream",
          "text": [
            "(2000, 5)\n"
          ],
          "name": "stdout"
        }
      ]
    },
    {
      "cell_type": "code",
      "metadata": {
        "id": "uYFAOHS5C043",
        "outputId": "4c40c50e-73c2-48e9-8890-005715550bc2"
      },
      "source": [
        "#Function to print topic and top 8 words in the topic\n",
        "def print_topics(model, vectorizer, top_n=8):\n",
        "    for idx, topic in enumerate(model.components_):\n",
        "        print(\"Topic %d:\" % (idx))\n",
        "        \n",
        "        print([(tfidf.get_feature_names()[i], topic[i])\n",
        "                        for i in topic.argsort()[:-top_n - 1:-1]])\n",
        " \n",
        "print_topics(lsa_model, tfidf)"
      ],
      "execution_count": null,
      "outputs": [
        {
          "output_type": "stream",
          "text": [
            "Topic 0:\n",
            "[('character', 0.14566058660680198), ('story', 0.12720111978111562), ('scene', 0.11512288654653778), ('acting', 0.09938736787428365), ('actor', 0.09687422452193512), ('plot', 0.09637554805006708), ('seen', 0.09421751479425959), ('life', 0.09296823192592164)]\n",
            "Topic 1:\n",
            "[('worst', 0.19755692284191495), ('acting', 0.17836265491996142), ('ever', 0.17518276829469645), ('waste', 0.17310339384349455), ('horror', 0.1550266489615715), ('stupid', 0.12352639064618959), ('terrible', 0.11667020553802594), ('awful', 0.11625179044320433)]\n",
            "Topic 2:\n",
            "[('horror', 0.43830887116797496), ('zombie', 0.12638104365445096), ('house', 0.10362522999147163), ('vampire', 0.09579483403618068), ('effect', 0.0956790203833514), ('scary', 0.09381140492708936), ('creepy', 0.08939879299467823), ('ghost', 0.08601968911547767)]\n",
            "Topic 3:\n",
            "[('funny', 0.26547537470198634), ('kid', 0.23698350462245457), ('child', 0.14627452768058125), ('year', 0.13108401389224478), ('family', 0.12098520968502469), ('fun', 0.12012533672428408), ('love', 0.1090762856075124), ('old', 0.1053584379421567)]\n",
            "Topic 4:\n",
            "[('funny', 0.3570257231866194), ('comedy', 0.2824326252304309), ('role', 0.1475371147572587), ('laugh', 0.12776975411630506), ('play', 0.11982739852796366), ('fun', 0.11614864651318786), ('actor', 0.10929775817514466), ('episode', 0.10741961827152403)]\n"
          ],
          "name": "stdout"
        }
      ]
    },
    {
      "cell_type": "code",
      "metadata": {
        "id": "uIJZL9lSC044",
        "outputId": "8a710141-4936-439b-98e9-48675d3ee6e8"
      },
      "source": [
        "n_top_words = 10\n",
        "\n",
        "for topic_idx, topic in enumerate(lsa_model.components_):\n",
        "  print(\"Topic {}:\".format(topic_idx), end = ' ')\n",
        "  print(\" \".join([tfidf.get_feature_names()[i] for i in topic.argsort()[:-n_top_words - 1:-1]]))"
      ],
      "execution_count": null,
      "outputs": [
        {
          "output_type": "stream",
          "text": [
            "Topic 0: character story scene acting actor plot seen life better love\n",
            "Topic 1: worst acting ever waste horror stupid terrible awful watching seen\n",
            "Topic 2: horror zombie house vampire effect scary creepy ghost gore blood\n",
            "Topic 3: funny kid child year family fun love old remember guy\n",
            "Topic 4: funny comedy role laugh play fun actor episode joke cast\n"
          ],
          "name": "stdout"
        }
      ]
    },
    {
      "cell_type": "code",
      "metadata": {
        "id": "6yHo7zwIC044"
      },
      "source": [
        ""
      ],
      "execution_count": null,
      "outputs": []
    }
  ]
}