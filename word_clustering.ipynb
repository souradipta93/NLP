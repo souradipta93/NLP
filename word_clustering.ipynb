{
  "nbformat": 4,
  "nbformat_minor": 0,
  "metadata": {
    "kernelspec": {
      "display_name": "Python 3",
      "language": "python",
      "name": "python3"
    },
    "language_info": {
      "codemirror_mode": {
        "name": "ipython",
        "version": 3
      },
      "file_extension": ".py",
      "mimetype": "text/x-python",
      "name": "python",
      "nbconvert_exporter": "python",
      "pygments_lexer": "ipython3",
      "version": "3.8.5"
    },
    "colab": {
      "name": "word_clustering_v03.ipynb",
      "provenance": [],
      "include_colab_link": true
    }
  },
  "cells": [
    {
      "cell_type": "markdown",
      "metadata": {
        "id": "view-in-github",
        "colab_type": "text"
      },
      "source": [
        "<a href=\"https://colab.research.google.com/github/souradipta93/NLP/blob/main/word_clustering.ipynb\" target=\"_parent\"><img src=\"https://colab.research.google.com/assets/colab-badge.svg\" alt=\"Open In Colab\"/></a>"
      ]
    },
    {
      "cell_type": "code",
      "metadata": {
        "id": "JDO9qq_pC7_t"
      },
      "source": [
        "import pandas as pd\n",
        "import re"
      ],
      "execution_count": 1,
      "outputs": []
    },
    {
      "cell_type": "code",
      "metadata": {
        "id": "xAEX0HJtC7_w",
        "outputId": "989bba3c-5bd0-4fbf-e470-b45c4137e262",
        "colab": {
          "base_uri": "https://localhost:8080/"
        }
      },
      "source": [
        "data1 = pd.read_csv('bbctext.csv')\n",
        "data1.shape"
      ],
      "execution_count": 2,
      "outputs": [
        {
          "output_type": "execute_result",
          "data": {
            "text/plain": [
              "(2225, 2)"
            ]
          },
          "metadata": {
            "tags": []
          },
          "execution_count": 2
        }
      ]
    },
    {
      "cell_type": "code",
      "metadata": {
        "id": "fMBXjIobC7_x",
        "outputId": "86fd82a2-2e90-4001-8054-97bee399bf1e",
        "colab": {
          "base_uri": "https://localhost:8080/"
        }
      },
      "source": [
        "data1.columns"
      ],
      "execution_count": 3,
      "outputs": [
        {
          "output_type": "execute_result",
          "data": {
            "text/plain": [
              "Index(['category', 'text'], dtype='object')"
            ]
          },
          "metadata": {
            "tags": []
          },
          "execution_count": 3
        }
      ]
    },
    {
      "cell_type": "code",
      "metadata": {
        "id": "E3WuigSzC7_y"
      },
      "source": [
        "import nltk\n",
        "#nltk.download()"
      ],
      "execution_count": 4,
      "outputs": []
    },
    {
      "cell_type": "code",
      "metadata": {
        "id": "rhDhO38_C7_y",
        "outputId": "9af81f3c-ea05-4429-8c95-8d29f7e3550a",
        "colab": {
          "base_uri": "https://localhost:8080/"
        }
      },
      "source": [
        "#remove stopwords\n",
        "import nltk\n",
        "nltk.download('stopwords')\n",
        "from nltk.corpus import stopwords\n",
        "stop_words = set(stopwords.words(\"english\"))"
      ],
      "execution_count": 7,
      "outputs": [
        {
          "output_type": "stream",
          "text": [
            "[nltk_data] Downloading package stopwords to /root/nltk_data...\n",
            "[nltk_data]   Package stopwords is already up-to-date!\n"
          ],
          "name": "stdout"
        }
      ]
    },
    {
      "cell_type": "code",
      "metadata": {
        "id": "VmX1op68C7_z"
      },
      "source": [
        "#Adding custom stop words\n",
        "new_words=[]\n",
        "new_words = [\"some\",\"one\",\"like\",\"time\",\"br\",\"could\",\"good\",'even', 'get', 'would',\n",
        "             'make', 'really', 'see', 'well', 'much', 'great', 'first', 'people', 'also', 'bad', \n",
        "             'show', 'way', 'thing', 'made', 'go', 'think', 'know', 'look','many', 'see', 'seen',\n",
        "            'http','com', 'code', 'gt', 'lt', 'li', 'ol', 'ul', 'image', 'stack', 'imgur', 'div']\n",
        "stop_words = stop_words.union(new_words)"
      ],
      "execution_count": 8,
      "outputs": []
    },
    {
      "cell_type": "code",
      "metadata": {
        "id": "MxCNSCP0C7_z"
      },
      "source": [
        "#Lemmatisation\n",
        "from nltk.stem.wordnet import WordNetLemmatizer"
      ],
      "execution_count": 9,
      "outputs": []
    },
    {
      "cell_type": "code",
      "metadata": {
        "id": "ZScW6qd6C7_z"
      },
      "source": [
        "data1['text'] = data1['text'].astype(str)"
      ],
      "execution_count": 10,
      "outputs": []
    },
    {
      "cell_type": "code",
      "metadata": {
        "id": "xqJ220uMC7_0",
        "outputId": "69e462d1-3897-49cf-834b-699e97d1d613",
        "colab": {
          "base_uri": "https://localhost:8080/"
        }
      },
      "source": [
        "nltk.download('wordnet')\n",
        "corpus = []\n",
        "for i in range(0, data1.shape[0]):\n",
        "    #Remove punctuations\n",
        "    text = re.sub('[^a-zA-Z]', ' ', data1['text'][i])\n",
        "    \n",
        "    #Convert to lowercase\n",
        "    text = text.lower()\n",
        "    ##Convert to list from string\n",
        "    text = text.split()\n",
        "    ##Lemmatizing\n",
        "    lm = WordNetLemmatizer() \n",
        "       \n",
        "    \n",
        "    text = [lm.lemmatize(word) for word in text if not word in stop_words] \n",
        "    text = \" \".join(text)\n",
        "    corpus.append(text)"
      ],
      "execution_count": 12,
      "outputs": [
        {
          "output_type": "stream",
          "text": [
            "[nltk_data] Downloading package wordnet to /root/nltk_data...\n",
            "[nltk_data]   Unzipping corpora/wordnet.zip.\n"
          ],
          "name": "stdout"
        }
      ]
    },
    {
      "cell_type": "code",
      "metadata": {
        "id": "PrPucH2VC7_0",
        "outputId": "9e7dfba6-0a95-4317-f7fe-e57f749d8621",
        "colab": {
          "base_uri": "https://localhost:8080/",
          "height": 137
        }
      },
      "source": [
        "corpus[300]"
      ],
      "execution_count": 13,
      "outputs": [
        {
          "output_type": "execute_result",
          "data": {
            "application/vnd.google.colaboratory.intrinsic+json": {
              "type": "string"
            },
            "text/plain": [
              "'star pay tribute actor davis hollywood star including spike lee burt reynolds oscar nominee alan alda paid tribute actor ossie davis funeral new york veteran star ossie davis known civil right activist died miami age february friend family including actress ruby dee wife year gathered riverside church saturday present service former u president bill clinton singer harry belafonte gave eulogy president united state said mr clinton gave gave year old found dead last weekend hotel room florida making film police said appeared died natural cause davis acting debut starring sidney poiter frequently collaborated director spike lee starring seven lee film including jungle fever right malcolm x attallah shabazz daughter activist malcolm x recalled famous eulogy delivered davis father funeral harlem come bid farewell finest hope said quoting man knew uncle ossie ditto ossie hero still said aviator star alan alda family friend forty year ossie beauty want badly someday dignity little anyway added burt reynolds davis co star tv comedy evening shade midday funeral score harlem resident formed queue outside church pay respect davis hard fathom longer able call wisdom humour loyalty moral strength guide u choice yet battle yet fought said belafonte ardent civil right activist friend davis year fortunate long'"
            ]
          },
          "metadata": {
            "tags": []
          },
          "execution_count": 13
        }
      ]
    },
    {
      "cell_type": "code",
      "metadata": {
        "id": "8wDAUwweC7_1"
      },
      "source": [
        "from sklearn.feature_extraction.text import TfidfVectorizer"
      ],
      "execution_count": 14,
      "outputs": []
    },
    {
      "cell_type": "code",
      "metadata": {
        "id": "TzvucRhIC7_1"
      },
      "source": [
        "## Applying tf-idf vectoriser to the corpus\n",
        "\n",
        "from sklearn.feature_extraction.text import TfidfVectorizer\n",
        "# Fit the tf-idf model\n",
        "tfv = TfidfVectorizer(stop_words=stop_words, ngram_range=(1,2), min_df = 0.0005)"
      ],
      "execution_count": 15,
      "outputs": []
    },
    {
      "cell_type": "code",
      "metadata": {
        "id": "L3MJhGVTC7_1",
        "outputId": "c9e69423-e7e2-4378-c26d-5752d7c6bbad",
        "colab": {
          "base_uri": "https://localhost:8080/"
        }
      },
      "source": [
        "# tokenize and build vocab\n",
        "tfmat = tfv.fit_transform(corpus)\n",
        "tfmat.shape"
      ],
      "execution_count": 16,
      "outputs": [
        {
          "output_type": "execute_result",
          "data": {
            "text/plain": [
              "(2225, 76608)"
            ]
          },
          "metadata": {
            "tags": []
          },
          "execution_count": 16
        }
      ]
    },
    {
      "cell_type": "code",
      "metadata": {
        "id": "9Qh95sPxC7_2"
      },
      "source": [
        "feature_names=tfv.get_feature_names()"
      ],
      "execution_count": 17,
      "outputs": []
    },
    {
      "cell_type": "code",
      "metadata": {
        "id": "e_KfbXu9C7_2",
        "outputId": "12aca324-cbdb-46ee-ffef-7aad460718f8",
        "colab": {
          "base_uri": "https://localhost:8080/"
        }
      },
      "source": [
        "from sklearn.cluster import KMeans\n",
        "\n",
        "num_clusters = 5\n",
        "\n",
        "km = KMeans(n_clusters=num_clusters)\n",
        "\n",
        "%time km.fit(tfmat)\n",
        "\n",
        "clusters = km.labels_.tolist()"
      ],
      "execution_count": 18,
      "outputs": [
        {
          "output_type": "stream",
          "text": [
            "CPU times: user 1min 12s, sys: 15.6 s, total: 1min 27s\n",
            "Wall time: 1min 10s\n"
          ],
          "name": "stdout"
        }
      ]
    },
    {
      "cell_type": "code",
      "metadata": {
        "id": "IO8RMVs7C7_2",
        "outputId": "57044558-0c9c-4cdf-86b7-de23da1c15d5",
        "colab": {
          "base_uri": "https://localhost:8080/",
          "height": 195
        }
      },
      "source": [
        "df = pd.DataFrame(data1['text'])\n",
        "df['category']=data1['category']\n",
        "df['cluster']=clusters\n",
        "df.head()"
      ],
      "execution_count": 19,
      "outputs": [
        {
          "output_type": "execute_result",
          "data": {
            "text/html": [
              "<div>\n",
              "<style scoped>\n",
              "    .dataframe tbody tr th:only-of-type {\n",
              "        vertical-align: middle;\n",
              "    }\n",
              "\n",
              "    .dataframe tbody tr th {\n",
              "        vertical-align: top;\n",
              "    }\n",
              "\n",
              "    .dataframe thead th {\n",
              "        text-align: right;\n",
              "    }\n",
              "</style>\n",
              "<table border=\"1\" class=\"dataframe\">\n",
              "  <thead>\n",
              "    <tr style=\"text-align: right;\">\n",
              "      <th></th>\n",
              "      <th>text</th>\n",
              "      <th>category</th>\n",
              "      <th>cluster</th>\n",
              "    </tr>\n",
              "  </thead>\n",
              "  <tbody>\n",
              "    <tr>\n",
              "      <th>0</th>\n",
              "      <td>tv future in the hands of viewers with home th...</td>\n",
              "      <td>tech</td>\n",
              "      <td>4</td>\n",
              "    </tr>\n",
              "    <tr>\n",
              "      <th>1</th>\n",
              "      <td>worldcom boss  left books alone  former worldc...</td>\n",
              "      <td>business</td>\n",
              "      <td>2</td>\n",
              "    </tr>\n",
              "    <tr>\n",
              "      <th>2</th>\n",
              "      <td>tigers wary of farrell  gamble  leicester say ...</td>\n",
              "      <td>sport</td>\n",
              "      <td>1</td>\n",
              "    </tr>\n",
              "    <tr>\n",
              "      <th>3</th>\n",
              "      <td>yeading face newcastle in fa cup premiership s...</td>\n",
              "      <td>sport</td>\n",
              "      <td>1</td>\n",
              "    </tr>\n",
              "    <tr>\n",
              "      <th>4</th>\n",
              "      <td>ocean s twelve raids box office ocean s twelve...</td>\n",
              "      <td>entertainment</td>\n",
              "      <td>0</td>\n",
              "    </tr>\n",
              "  </tbody>\n",
              "</table>\n",
              "</div>"
            ],
            "text/plain": [
              "                                                text       category  cluster\n",
              "0  tv future in the hands of viewers with home th...           tech        4\n",
              "1  worldcom boss  left books alone  former worldc...       business        2\n",
              "2  tigers wary of farrell  gamble  leicester say ...          sport        1\n",
              "3  yeading face newcastle in fa cup premiership s...          sport        1\n",
              "4  ocean s twelve raids box office ocean s twelve...  entertainment        0"
            ]
          },
          "metadata": {
            "tags": []
          },
          "execution_count": 19
        }
      ]
    },
    {
      "cell_type": "code",
      "metadata": {
        "id": "4F2QP7XbC7_3",
        "outputId": "2a8b4070-f74e-4475-8f12-dd4df78f5bac",
        "colab": {
          "base_uri": "https://localhost:8080/"
        }
      },
      "source": [
        "df['cluster'].value_counts()"
      ],
      "execution_count": 20,
      "outputs": [
        {
          "output_type": "execute_result",
          "data": {
            "text/plain": [
              "2    614\n",
              "1    520\n",
              "4    391\n",
              "3    350\n",
              "0    350\n",
              "Name: cluster, dtype: int64"
            ]
          },
          "metadata": {
            "tags": []
          },
          "execution_count": 20
        }
      ]
    },
    {
      "cell_type": "code",
      "metadata": {
        "id": "NH-9umRsC7_3",
        "outputId": "33b91140-f652-41c1-d3d5-13e8104859ed",
        "colab": {
          "base_uri": "https://localhost:8080/",
          "height": 225
        }
      },
      "source": [
        "ct_cluster =pd.crosstab(index=df['cluster'],\n",
        "           columns=df['category'],\n",
        "           values=df['cluster'],\n",
        "           aggfunc='count',\n",
        "           normalize='index').round(3)\n",
        "ct_cluster"
      ],
      "execution_count": 21,
      "outputs": [
        {
          "output_type": "execute_result",
          "data": {
            "text/html": [
              "<div>\n",
              "<style scoped>\n",
              "    .dataframe tbody tr th:only-of-type {\n",
              "        vertical-align: middle;\n",
              "    }\n",
              "\n",
              "    .dataframe tbody tr th {\n",
              "        vertical-align: top;\n",
              "    }\n",
              "\n",
              "    .dataframe thead th {\n",
              "        text-align: right;\n",
              "    }\n",
              "</style>\n",
              "<table border=\"1\" class=\"dataframe\">\n",
              "  <thead>\n",
              "    <tr style=\"text-align: right;\">\n",
              "      <th>category</th>\n",
              "      <th>business</th>\n",
              "      <th>entertainment</th>\n",
              "      <th>politics</th>\n",
              "      <th>sport</th>\n",
              "      <th>tech</th>\n",
              "    </tr>\n",
              "    <tr>\n",
              "      <th>cluster</th>\n",
              "      <th></th>\n",
              "      <th></th>\n",
              "      <th></th>\n",
              "      <th></th>\n",
              "      <th></th>\n",
              "    </tr>\n",
              "  </thead>\n",
              "  <tbody>\n",
              "    <tr>\n",
              "      <th>0</th>\n",
              "      <td>0.000</td>\n",
              "      <td>0.989</td>\n",
              "      <td>0.000</td>\n",
              "      <td>0.003</td>\n",
              "      <td>0.009</td>\n",
              "    </tr>\n",
              "    <tr>\n",
              "      <th>1</th>\n",
              "      <td>0.000</td>\n",
              "      <td>0.008</td>\n",
              "      <td>0.027</td>\n",
              "      <td>0.960</td>\n",
              "      <td>0.006</td>\n",
              "    </tr>\n",
              "    <tr>\n",
              "      <th>2</th>\n",
              "      <td>0.816</td>\n",
              "      <td>0.049</td>\n",
              "      <td>0.086</td>\n",
              "      <td>0.018</td>\n",
              "      <td>0.031</td>\n",
              "    </tr>\n",
              "    <tr>\n",
              "      <th>3</th>\n",
              "      <td>0.009</td>\n",
              "      <td>0.000</td>\n",
              "      <td>0.989</td>\n",
              "      <td>0.000</td>\n",
              "      <td>0.003</td>\n",
              "    </tr>\n",
              "    <tr>\n",
              "      <th>4</th>\n",
              "      <td>0.015</td>\n",
              "      <td>0.015</td>\n",
              "      <td>0.010</td>\n",
              "      <td>0.000</td>\n",
              "      <td>0.959</td>\n",
              "    </tr>\n",
              "  </tbody>\n",
              "</table>\n",
              "</div>"
            ],
            "text/plain": [
              "category  business  entertainment  politics  sport   tech\n",
              "cluster                                                  \n",
              "0            0.000          0.989     0.000  0.003  0.009\n",
              "1            0.000          0.008     0.027  0.960  0.006\n",
              "2            0.816          0.049     0.086  0.018  0.031\n",
              "3            0.009          0.000     0.989  0.000  0.003\n",
              "4            0.015          0.015     0.010  0.000  0.959"
            ]
          },
          "metadata": {
            "tags": []
          },
          "execution_count": 21
        }
      ]
    },
    {
      "cell_type": "code",
      "metadata": {
        "id": "d5lIfje-C7_3",
        "outputId": "762080fc-cc82-4477-9721-c8269bcb5ff0",
        "colab": {
          "base_uri": "https://localhost:8080/"
        }
      },
      "source": [
        "order_centroids = km.cluster_centers_.argsort()[:, ::-1]\n",
        "order_centroids"
      ],
      "execution_count": 22,
      "outputs": [
        {
          "output_type": "execute_result",
          "data": {
            "text/plain": [
              "array([[24535,  4574,  6175, ..., 47733, 47732,     0],\n",
              "       [27088, 21377, 49810, ..., 46772, 46771, 38303],\n",
              "       [57441,  7157, 12844, ..., 36241, 36240, 76607],\n",
              "       [43304, 36219, 20710, ..., 46403, 46402,     0],\n",
              "       [42365, 49024, 27088, ..., 43590, 43589, 38303]])"
            ]
          },
          "metadata": {
            "tags": []
          },
          "execution_count": 22
        }
      ]
    },
    {
      "cell_type": "code",
      "metadata": {
        "id": "8bk_gRhlC7_4",
        "outputId": "19b09826-7e12-4623-8cba-f8e3f7b7c120",
        "colab": {
          "base_uri": "https://localhost:8080/",
          "height": 244
        }
      },
      "source": [
        "df_centroids = pd.DataFrame(order_centroids)\n",
        "df_centroids.head()"
      ],
      "execution_count": 23,
      "outputs": [
        {
          "output_type": "execute_result",
          "data": {
            "text/html": [
              "<div>\n",
              "<style scoped>\n",
              "    .dataframe tbody tr th:only-of-type {\n",
              "        vertical-align: middle;\n",
              "    }\n",
              "\n",
              "    .dataframe tbody tr th {\n",
              "        vertical-align: top;\n",
              "    }\n",
              "\n",
              "    .dataframe thead th {\n",
              "        text-align: right;\n",
              "    }\n",
              "</style>\n",
              "<table border=\"1\" class=\"dataframe\">\n",
              "  <thead>\n",
              "    <tr style=\"text-align: right;\">\n",
              "      <th></th>\n",
              "      <th>0</th>\n",
              "      <th>1</th>\n",
              "      <th>2</th>\n",
              "      <th>3</th>\n",
              "      <th>4</th>\n",
              "      <th>5</th>\n",
              "      <th>6</th>\n",
              "      <th>7</th>\n",
              "      <th>8</th>\n",
              "      <th>9</th>\n",
              "      <th>10</th>\n",
              "      <th>11</th>\n",
              "      <th>12</th>\n",
              "      <th>13</th>\n",
              "      <th>14</th>\n",
              "      <th>15</th>\n",
              "      <th>16</th>\n",
              "      <th>17</th>\n",
              "      <th>18</th>\n",
              "      <th>19</th>\n",
              "      <th>20</th>\n",
              "      <th>21</th>\n",
              "      <th>22</th>\n",
              "      <th>23</th>\n",
              "      <th>24</th>\n",
              "      <th>25</th>\n",
              "      <th>26</th>\n",
              "      <th>27</th>\n",
              "      <th>28</th>\n",
              "      <th>29</th>\n",
              "      <th>30</th>\n",
              "      <th>31</th>\n",
              "      <th>32</th>\n",
              "      <th>33</th>\n",
              "      <th>34</th>\n",
              "      <th>35</th>\n",
              "      <th>36</th>\n",
              "      <th>37</th>\n",
              "      <th>38</th>\n",
              "      <th>39</th>\n",
              "      <th>...</th>\n",
              "      <th>76568</th>\n",
              "      <th>76569</th>\n",
              "      <th>76570</th>\n",
              "      <th>76571</th>\n",
              "      <th>76572</th>\n",
              "      <th>76573</th>\n",
              "      <th>76574</th>\n",
              "      <th>76575</th>\n",
              "      <th>76576</th>\n",
              "      <th>76577</th>\n",
              "      <th>76578</th>\n",
              "      <th>76579</th>\n",
              "      <th>76580</th>\n",
              "      <th>76581</th>\n",
              "      <th>76582</th>\n",
              "      <th>76583</th>\n",
              "      <th>76584</th>\n",
              "      <th>76585</th>\n",
              "      <th>76586</th>\n",
              "      <th>76587</th>\n",
              "      <th>76588</th>\n",
              "      <th>76589</th>\n",
              "      <th>76590</th>\n",
              "      <th>76591</th>\n",
              "      <th>76592</th>\n",
              "      <th>76593</th>\n",
              "      <th>76594</th>\n",
              "      <th>76595</th>\n",
              "      <th>76596</th>\n",
              "      <th>76597</th>\n",
              "      <th>76598</th>\n",
              "      <th>76599</th>\n",
              "      <th>76600</th>\n",
              "      <th>76601</th>\n",
              "      <th>76602</th>\n",
              "      <th>76603</th>\n",
              "      <th>76604</th>\n",
              "      <th>76605</th>\n",
              "      <th>76606</th>\n",
              "      <th>76607</th>\n",
              "    </tr>\n",
              "  </thead>\n",
              "  <tbody>\n",
              "    <tr>\n",
              "      <th>0</th>\n",
              "      <td>24535</td>\n",
              "      <td>4574</td>\n",
              "      <td>6175</td>\n",
              "      <td>64387</td>\n",
              "      <td>5119</td>\n",
              "      <td>47056</td>\n",
              "      <td>725</td>\n",
              "      <td>43602</td>\n",
              "      <td>75793</td>\n",
              "      <td>57441</td>\n",
              "      <td>1843</td>\n",
              "      <td>10907</td>\n",
              "      <td>24211</td>\n",
              "      <td>62119</td>\n",
              "      <td>63136</td>\n",
              "      <td>70457</td>\n",
              "      <td>770</td>\n",
              "      <td>18416</td>\n",
              "      <td>12482</td>\n",
              "      <td>45353</td>\n",
              "      <td>45636</td>\n",
              "      <td>43177</td>\n",
              "      <td>51620</td>\n",
              "      <td>69126</td>\n",
              "      <td>44673</td>\n",
              "      <td>70806</td>\n",
              "      <td>43723</td>\n",
              "      <td>62157</td>\n",
              "      <td>56663</td>\n",
              "      <td>7427</td>\n",
              "      <td>32651</td>\n",
              "      <td>7728</td>\n",
              "      <td>8141</td>\n",
              "      <td>56742</td>\n",
              "      <td>74731</td>\n",
              "      <td>51838</td>\n",
              "      <td>30923</td>\n",
              "      <td>7718</td>\n",
              "      <td>10093</td>\n",
              "      <td>10360</td>\n",
              "      <td>...</td>\n",
              "      <td>47696</td>\n",
              "      <td>47694</td>\n",
              "      <td>47693</td>\n",
              "      <td>47692</td>\n",
              "      <td>47690</td>\n",
              "      <td>47689</td>\n",
              "      <td>47688</td>\n",
              "      <td>47727</td>\n",
              "      <td>47729</td>\n",
              "      <td>47730</td>\n",
              "      <td>47746</td>\n",
              "      <td>47759</td>\n",
              "      <td>47758</td>\n",
              "      <td>47757</td>\n",
              "      <td>47756</td>\n",
              "      <td>47755</td>\n",
              "      <td>47754</td>\n",
              "      <td>47753</td>\n",
              "      <td>47752</td>\n",
              "      <td>47751</td>\n",
              "      <td>47750</td>\n",
              "      <td>47749</td>\n",
              "      <td>47748</td>\n",
              "      <td>47747</td>\n",
              "      <td>47745</td>\n",
              "      <td>47731</td>\n",
              "      <td>47744</td>\n",
              "      <td>47743</td>\n",
              "      <td>47742</td>\n",
              "      <td>47741</td>\n",
              "      <td>47740</td>\n",
              "      <td>47739</td>\n",
              "      <td>47738</td>\n",
              "      <td>47737</td>\n",
              "      <td>47736</td>\n",
              "      <td>47735</td>\n",
              "      <td>47734</td>\n",
              "      <td>47733</td>\n",
              "      <td>47732</td>\n",
              "      <td>0</td>\n",
              "    </tr>\n",
              "    <tr>\n",
              "      <th>1</th>\n",
              "      <td>27088</td>\n",
              "      <td>21377</td>\n",
              "      <td>49810</td>\n",
              "      <td>74562</td>\n",
              "      <td>57441</td>\n",
              "      <td>40458</td>\n",
              "      <td>67406</td>\n",
              "      <td>15655</td>\n",
              "      <td>24721</td>\n",
              "      <td>12000</td>\n",
              "      <td>33392</td>\n",
              "      <td>75793</td>\n",
              "      <td>10514</td>\n",
              "      <td>73178</td>\n",
              "      <td>49656</td>\n",
              "      <td>61634</td>\n",
              "      <td>59734</td>\n",
              "      <td>75324</td>\n",
              "      <td>12114</td>\n",
              "      <td>4770</td>\n",
              "      <td>11019</td>\n",
              "      <td>34294</td>\n",
              "      <td>57049</td>\n",
              "      <td>59817</td>\n",
              "      <td>36569</td>\n",
              "      <td>28305</td>\n",
              "      <td>70584</td>\n",
              "      <td>29662</td>\n",
              "      <td>37197</td>\n",
              "      <td>62344</td>\n",
              "      <td>26313</td>\n",
              "      <td>72616</td>\n",
              "      <td>42169</td>\n",
              "      <td>3689</td>\n",
              "      <td>46279</td>\n",
              "      <td>46528</td>\n",
              "      <td>76111</td>\n",
              "      <td>62364</td>\n",
              "      <td>74505</td>\n",
              "      <td>53287</td>\n",
              "      <td>...</td>\n",
              "      <td>46734</td>\n",
              "      <td>46733</td>\n",
              "      <td>46732</td>\n",
              "      <td>46731</td>\n",
              "      <td>46730</td>\n",
              "      <td>46729</td>\n",
              "      <td>46728</td>\n",
              "      <td>46727</td>\n",
              "      <td>46764</td>\n",
              "      <td>46766</td>\n",
              "      <td>46812</td>\n",
              "      <td>46767</td>\n",
              "      <td>46811</td>\n",
              "      <td>46810</td>\n",
              "      <td>46808</td>\n",
              "      <td>46807</td>\n",
              "      <td>46806</td>\n",
              "      <td>46805</td>\n",
              "      <td>46804</td>\n",
              "      <td>46798</td>\n",
              "      <td>46797</td>\n",
              "      <td>46796</td>\n",
              "      <td>46795</td>\n",
              "      <td>46794</td>\n",
              "      <td>46793</td>\n",
              "      <td>46791</td>\n",
              "      <td>46790</td>\n",
              "      <td>46789</td>\n",
              "      <td>46788</td>\n",
              "      <td>46787</td>\n",
              "      <td>46783</td>\n",
              "      <td>46782</td>\n",
              "      <td>46781</td>\n",
              "      <td>46780</td>\n",
              "      <td>46778</td>\n",
              "      <td>46776</td>\n",
              "      <td>46774</td>\n",
              "      <td>46772</td>\n",
              "      <td>46771</td>\n",
              "      <td>38303</td>\n",
              "    </tr>\n",
              "    <tr>\n",
              "      <th>2</th>\n",
              "      <td>57441</td>\n",
              "      <td>7157</td>\n",
              "      <td>12844</td>\n",
              "      <td>75793</td>\n",
              "      <td>25036</td>\n",
              "      <td>5180</td>\n",
              "      <td>40137</td>\n",
              "      <td>58589</td>\n",
              "      <td>29374</td>\n",
              "      <td>61115</td>\n",
              "      <td>20321</td>\n",
              "      <td>43304</td>\n",
              "      <td>51415</td>\n",
              "      <td>46241</td>\n",
              "      <td>53635</td>\n",
              "      <td>51966</td>\n",
              "      <td>28688</td>\n",
              "      <td>20229</td>\n",
              "      <td>11201</td>\n",
              "      <td>21985</td>\n",
              "      <td>14894</td>\n",
              "      <td>2629</td>\n",
              "      <td>19001</td>\n",
              "      <td>8828</td>\n",
              "      <td>14727</td>\n",
              "      <td>44673</td>\n",
              "      <td>42737</td>\n",
              "      <td>76483</td>\n",
              "      <td>64610</td>\n",
              "      <td>16525</td>\n",
              "      <td>56402</td>\n",
              "      <td>1745</td>\n",
              "      <td>65105</td>\n",
              "      <td>36569</td>\n",
              "      <td>70806</td>\n",
              "      <td>32921</td>\n",
              "      <td>22615</td>\n",
              "      <td>29216</td>\n",
              "      <td>34993</td>\n",
              "      <td>24821</td>\n",
              "      <td>...</td>\n",
              "      <td>36226</td>\n",
              "      <td>36225</td>\n",
              "      <td>36222</td>\n",
              "      <td>36263</td>\n",
              "      <td>36221</td>\n",
              "      <td>36220</td>\n",
              "      <td>63434</td>\n",
              "      <td>36218</td>\n",
              "      <td>36217</td>\n",
              "      <td>36216</td>\n",
              "      <td>36215</td>\n",
              "      <td>63435</td>\n",
              "      <td>36213</td>\n",
              "      <td>36212</td>\n",
              "      <td>36236</td>\n",
              "      <td>36237</td>\n",
              "      <td>36238</td>\n",
              "      <td>36239</td>\n",
              "      <td>36262</td>\n",
              "      <td>63432</td>\n",
              "      <td>36260</td>\n",
              "      <td>36258</td>\n",
              "      <td>36257</td>\n",
              "      <td>36256</td>\n",
              "      <td>36255</td>\n",
              "      <td>36254</td>\n",
              "      <td>36253</td>\n",
              "      <td>36252</td>\n",
              "      <td>36251</td>\n",
              "      <td>36249</td>\n",
              "      <td>36248</td>\n",
              "      <td>36247</td>\n",
              "      <td>36246</td>\n",
              "      <td>36245</td>\n",
              "      <td>36244</td>\n",
              "      <td>36243</td>\n",
              "      <td>36242</td>\n",
              "      <td>36241</td>\n",
              "      <td>36240</td>\n",
              "      <td>76607</td>\n",
              "    </tr>\n",
              "    <tr>\n",
              "      <th>3</th>\n",
              "      <td>43304</td>\n",
              "      <td>36219</td>\n",
              "      <td>20710</td>\n",
              "      <td>57441</td>\n",
              "      <td>47998</td>\n",
              "      <td>6847</td>\n",
              "      <td>69261</td>\n",
              "      <td>28688</td>\n",
              "      <td>42036</td>\n",
              "      <td>8424</td>\n",
              "      <td>38835</td>\n",
              "      <td>43316</td>\n",
              "      <td>67282</td>\n",
              "      <td>31659</td>\n",
              "      <td>51507</td>\n",
              "      <td>51506</td>\n",
              "      <td>43320</td>\n",
              "      <td>10644</td>\n",
              "      <td>58933</td>\n",
              "      <td>43244</td>\n",
              "      <td>49464</td>\n",
              "      <td>37114</td>\n",
              "      <td>13804</td>\n",
              "      <td>59927</td>\n",
              "      <td>37748</td>\n",
              "      <td>52630</td>\n",
              "      <td>43381</td>\n",
              "      <td>9357</td>\n",
              "      <td>8050</td>\n",
              "      <td>34442</td>\n",
              "      <td>73025</td>\n",
              "      <td>68922</td>\n",
              "      <td>69030</td>\n",
              "      <td>27630</td>\n",
              "      <td>27635</td>\n",
              "      <td>69031</td>\n",
              "      <td>14847</td>\n",
              "      <td>35705</td>\n",
              "      <td>31190</td>\n",
              "      <td>70806</td>\n",
              "      <td>...</td>\n",
              "      <td>46370</td>\n",
              "      <td>46368</td>\n",
              "      <td>46367</td>\n",
              "      <td>46365</td>\n",
              "      <td>46362</td>\n",
              "      <td>46360</td>\n",
              "      <td>46359</td>\n",
              "      <td>46356</td>\n",
              "      <td>46397</td>\n",
              "      <td>46400</td>\n",
              "      <td>46431</td>\n",
              "      <td>46401</td>\n",
              "      <td>46428</td>\n",
              "      <td>46427</td>\n",
              "      <td>46426</td>\n",
              "      <td>46425</td>\n",
              "      <td>46424</td>\n",
              "      <td>46423</td>\n",
              "      <td>46422</td>\n",
              "      <td>46421</td>\n",
              "      <td>46420</td>\n",
              "      <td>46419</td>\n",
              "      <td>46418</td>\n",
              "      <td>46417</td>\n",
              "      <td>46416</td>\n",
              "      <td>46415</td>\n",
              "      <td>46414</td>\n",
              "      <td>46413</td>\n",
              "      <td>46412</td>\n",
              "      <td>46411</td>\n",
              "      <td>46410</td>\n",
              "      <td>46409</td>\n",
              "      <td>46408</td>\n",
              "      <td>46407</td>\n",
              "      <td>46406</td>\n",
              "      <td>46405</td>\n",
              "      <td>46404</td>\n",
              "      <td>46403</td>\n",
              "      <td>46402</td>\n",
              "      <td>0</td>\n",
              "    </tr>\n",
              "    <tr>\n",
              "      <th>4</th>\n",
              "      <td>42365</td>\n",
              "      <td>49024</td>\n",
              "      <td>27088</td>\n",
              "      <td>67518</td>\n",
              "      <td>57441</td>\n",
              "      <td>72036</td>\n",
              "      <td>13299</td>\n",
              "      <td>60591</td>\n",
              "      <td>62855</td>\n",
              "      <td>44419</td>\n",
              "      <td>43602</td>\n",
              "      <td>18267</td>\n",
              "      <td>62251</td>\n",
              "      <td>41600</td>\n",
              "      <td>8254</td>\n",
              "      <td>44514</td>\n",
              "      <td>72822</td>\n",
              "      <td>72645</td>\n",
              "      <td>46441</td>\n",
              "      <td>48439</td>\n",
              "      <td>71810</td>\n",
              "      <td>66648</td>\n",
              "      <td>17973</td>\n",
              "      <td>25036</td>\n",
              "      <td>43304</td>\n",
              "      <td>59695</td>\n",
              "      <td>39431</td>\n",
              "      <td>44673</td>\n",
              "      <td>70457</td>\n",
              "      <td>33916</td>\n",
              "      <td>52021</td>\n",
              "      <td>26974</td>\n",
              "      <td>33241</td>\n",
              "      <td>3274</td>\n",
              "      <td>41842</td>\n",
              "      <td>24459</td>\n",
              "      <td>16170</td>\n",
              "      <td>12844</td>\n",
              "      <td>73829</td>\n",
              "      <td>49810</td>\n",
              "      <td>...</td>\n",
              "      <td>43569</td>\n",
              "      <td>43568</td>\n",
              "      <td>43567</td>\n",
              "      <td>43565</td>\n",
              "      <td>43564</td>\n",
              "      <td>43562</td>\n",
              "      <td>43561</td>\n",
              "      <td>43560</td>\n",
              "      <td>43558</td>\n",
              "      <td>43557</td>\n",
              "      <td>43555</td>\n",
              "      <td>43554</td>\n",
              "      <td>43585</td>\n",
              "      <td>43587</td>\n",
              "      <td>43637</td>\n",
              "      <td>43588</td>\n",
              "      <td>43629</td>\n",
              "      <td>43626</td>\n",
              "      <td>43623</td>\n",
              "      <td>43620</td>\n",
              "      <td>43619</td>\n",
              "      <td>43618</td>\n",
              "      <td>43616</td>\n",
              "      <td>43615</td>\n",
              "      <td>43614</td>\n",
              "      <td>43613</td>\n",
              "      <td>43612</td>\n",
              "      <td>43610</td>\n",
              "      <td>43607</td>\n",
              "      <td>43603</td>\n",
              "      <td>43601</td>\n",
              "      <td>43600</td>\n",
              "      <td>43599</td>\n",
              "      <td>43598</td>\n",
              "      <td>43595</td>\n",
              "      <td>43592</td>\n",
              "      <td>43591</td>\n",
              "      <td>43590</td>\n",
              "      <td>43589</td>\n",
              "      <td>38303</td>\n",
              "    </tr>\n",
              "  </tbody>\n",
              "</table>\n",
              "<p>5 rows × 76608 columns</p>\n",
              "</div>"
            ],
            "text/plain": [
              "   0      1      2      3      4      ...  76603  76604  76605  76606  76607\n",
              "0  24535   4574   6175  64387   5119  ...  47735  47734  47733  47732      0\n",
              "1  27088  21377  49810  74562  57441  ...  46776  46774  46772  46771  38303\n",
              "2  57441   7157  12844  75793  25036  ...  36243  36242  36241  36240  76607\n",
              "3  43304  36219  20710  57441  47998  ...  46405  46404  46403  46402      0\n",
              "4  42365  49024  27088  67518  57441  ...  43592  43591  43590  43589  38303\n",
              "\n",
              "[5 rows x 76608 columns]"
            ]
          },
          "metadata": {
            "tags": []
          },
          "execution_count": 23
        }
      ]
    },
    {
      "cell_type": "code",
      "metadata": {
        "id": "WDBj035UC7_4",
        "outputId": "8516bfbc-5f73-42db-ee8b-73fbac959fb2",
        "colab": {
          "base_uri": "https://localhost:8080/"
        }
      },
      "source": [
        "df_centroids.shape"
      ],
      "execution_count": 24,
      "outputs": [
        {
          "output_type": "execute_result",
          "data": {
            "text/plain": [
              "(5, 76608)"
            ]
          },
          "metadata": {
            "tags": []
          },
          "execution_count": 24
        }
      ]
    },
    {
      "cell_type": "code",
      "metadata": {
        "id": "2k8Ti0EAC7_4",
        "outputId": "6885575e-b57e-491a-db8b-c429d3972208",
        "colab": {
          "base_uri": "https://localhost:8080/"
        }
      },
      "source": [
        "for index, row in df_centroids.iterrows():\n",
        "    print(feature_names[row[0]], \n",
        "          feature_names[row[1]], \n",
        "          feature_names[row[2]],\n",
        "          feature_names[row[3]],\n",
        "          feature_names[row[4]],\n",
        "          feature_names[row[5]])"
      ],
      "execution_count": 25,
      "outputs": [
        {
          "output_type": "stream",
          "text": [
            "film award best star band oscar\n",
            "game england player win said match\n",
            "said bn company year firm bank\n",
            "mr labour election said party blair\n",
            "mobile phone game technology said user\n"
          ],
          "name": "stdout"
        }
      ]
    },
    {
      "cell_type": "code",
      "metadata": {
        "id": "jn3XC0KbC7_5",
        "outputId": "9c2af455-8d69-429a-a384-63b19980a2ff",
        "colab": {
          "base_uri": "https://localhost:8080/",
          "height": 225
        }
      },
      "source": [
        "ct_cluster"
      ],
      "execution_count": 26,
      "outputs": [
        {
          "output_type": "execute_result",
          "data": {
            "text/html": [
              "<div>\n",
              "<style scoped>\n",
              "    .dataframe tbody tr th:only-of-type {\n",
              "        vertical-align: middle;\n",
              "    }\n",
              "\n",
              "    .dataframe tbody tr th {\n",
              "        vertical-align: top;\n",
              "    }\n",
              "\n",
              "    .dataframe thead th {\n",
              "        text-align: right;\n",
              "    }\n",
              "</style>\n",
              "<table border=\"1\" class=\"dataframe\">\n",
              "  <thead>\n",
              "    <tr style=\"text-align: right;\">\n",
              "      <th>category</th>\n",
              "      <th>business</th>\n",
              "      <th>entertainment</th>\n",
              "      <th>politics</th>\n",
              "      <th>sport</th>\n",
              "      <th>tech</th>\n",
              "    </tr>\n",
              "    <tr>\n",
              "      <th>cluster</th>\n",
              "      <th></th>\n",
              "      <th></th>\n",
              "      <th></th>\n",
              "      <th></th>\n",
              "      <th></th>\n",
              "    </tr>\n",
              "  </thead>\n",
              "  <tbody>\n",
              "    <tr>\n",
              "      <th>0</th>\n",
              "      <td>0.000</td>\n",
              "      <td>0.989</td>\n",
              "      <td>0.000</td>\n",
              "      <td>0.003</td>\n",
              "      <td>0.009</td>\n",
              "    </tr>\n",
              "    <tr>\n",
              "      <th>1</th>\n",
              "      <td>0.000</td>\n",
              "      <td>0.008</td>\n",
              "      <td>0.027</td>\n",
              "      <td>0.960</td>\n",
              "      <td>0.006</td>\n",
              "    </tr>\n",
              "    <tr>\n",
              "      <th>2</th>\n",
              "      <td>0.816</td>\n",
              "      <td>0.049</td>\n",
              "      <td>0.086</td>\n",
              "      <td>0.018</td>\n",
              "      <td>0.031</td>\n",
              "    </tr>\n",
              "    <tr>\n",
              "      <th>3</th>\n",
              "      <td>0.009</td>\n",
              "      <td>0.000</td>\n",
              "      <td>0.989</td>\n",
              "      <td>0.000</td>\n",
              "      <td>0.003</td>\n",
              "    </tr>\n",
              "    <tr>\n",
              "      <th>4</th>\n",
              "      <td>0.015</td>\n",
              "      <td>0.015</td>\n",
              "      <td>0.010</td>\n",
              "      <td>0.000</td>\n",
              "      <td>0.959</td>\n",
              "    </tr>\n",
              "  </tbody>\n",
              "</table>\n",
              "</div>"
            ],
            "text/plain": [
              "category  business  entertainment  politics  sport   tech\n",
              "cluster                                                  \n",
              "0            0.000          0.989     0.000  0.003  0.009\n",
              "1            0.000          0.008     0.027  0.960  0.006\n",
              "2            0.816          0.049     0.086  0.018  0.031\n",
              "3            0.009          0.000     0.989  0.000  0.003\n",
              "4            0.015          0.015     0.010  0.000  0.959"
            ]
          },
          "metadata": {
            "tags": []
          },
          "execution_count": 26
        }
      ]
    },
    {
      "cell_type": "code",
      "metadata": {
        "id": "EELWwyEDC7_5"
      },
      "source": [
        ""
      ],
      "execution_count": 26,
      "outputs": []
    },
    {
      "cell_type": "code",
      "metadata": {
        "id": "oNdpQ7I3C7_5"
      },
      "source": [
        ""
      ],
      "execution_count": 26,
      "outputs": []
    }
  ]
}