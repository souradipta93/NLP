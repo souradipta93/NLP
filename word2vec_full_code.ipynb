{
  "nbformat": 4,
  "nbformat_minor": 0,
  "metadata": {
    "kernelspec": {
      "display_name": "Python 3",
      "language": "python",
      "name": "python3"
    },
    "language_info": {
      "codemirror_mode": {
        "name": "ipython",
        "version": 3
      },
      "file_extension": ".py",
      "mimetype": "text/x-python",
      "name": "python",
      "nbconvert_exporter": "python",
      "pygments_lexer": "ipython3",
      "version": "3.8.5"
    },
    "colab": {
      "name": "1_intro_word2vec_full_code.ipynb",
      "provenance": [],
      "include_colab_link": true
    }
  },
  "cells": [
    {
      "cell_type": "markdown",
      "metadata": {
        "id": "view-in-github",
        "colab_type": "text"
      },
      "source": [
        "<a href=\"https://colab.research.google.com/github/souradipta93/NLP/blob/main/word2vec_full_code.ipynb\" target=\"_parent\"><img src=\"https://colab.research.google.com/assets/colab-badge.svg\" alt=\"Open In Colab\"/></a>"
      ]
    },
    {
      "cell_type": "markdown",
      "metadata": {
        "id": "tn0qYq5hJIAI"
      },
      "source": [
        "# Introduction to word embedding"
      ]
    },
    {
      "cell_type": "code",
      "metadata": {
        "id": "iZ8jF1r8JIAL",
        "outputId": "8cefd320-0878-4a88-b8a2-c2bdb2e560d2"
      },
      "source": [
        "from gensim.models import Word2Vec"
      ],
      "execution_count": null,
      "outputs": [
        {
          "output_type": "stream",
          "text": [
            "C:\\anaconda\\lib\\site-packages\\gensim\\similarities\\__init__.py:15: UserWarning: The gensim.similarities.levenshtein submodule is disabled, because the optional Levenshtein package <https://pypi.org/project/python-Levenshtein/> is unavailable. Install Levenhstein (e.g. `pip install python-Levenshtein`) to suppress this warning.\n",
            "  warnings.warn(msg)\n"
          ],
          "name": "stderr"
        }
      ]
    },
    {
      "cell_type": "code",
      "metadata": {
        "id": "LFy8VKrsJIAN"
      },
      "source": [
        "#!pip install python-Levenshtein"
      ],
      "execution_count": null,
      "outputs": []
    },
    {
      "cell_type": "code",
      "metadata": {
        "id": "Psje0Qk7JIAN"
      },
      "source": [
        "import warnings\n",
        "warnings.filterwarnings(\"ignore\")"
      ],
      "execution_count": null,
      "outputs": []
    },
    {
      "cell_type": "code",
      "metadata": {
        "id": "BTrqribFJIAN"
      },
      "source": [
        "#Import text corpus from gensim\n",
        "from gensim.test.utils import common_texts"
      ],
      "execution_count": null,
      "outputs": []
    },
    {
      "cell_type": "code",
      "metadata": {
        "id": "5jDTaNssJIAO",
        "outputId": "29345585-9c2c-4edc-ada9-ae71c1b885f2"
      },
      "source": [
        "common_texts"
      ],
      "execution_count": null,
      "outputs": [
        {
          "output_type": "execute_result",
          "data": {
            "text/plain": [
              "[['human', 'interface', 'computer'],\n",
              " ['survey', 'user', 'computer', 'system', 'response', 'time'],\n",
              " ['eps', 'user', 'interface', 'system'],\n",
              " ['system', 'human', 'system', 'eps'],\n",
              " ['user', 'response', 'time'],\n",
              " ['trees'],\n",
              " ['graph', 'trees'],\n",
              " ['graph', 'minors', 'trees'],\n",
              " ['graph', 'minors', 'survey']]"
            ]
          },
          "metadata": {
            "tags": []
          },
          "execution_count": 6
        }
      ]
    },
    {
      "cell_type": "markdown",
      "metadata": {
        "id": "VVSs-x9sJIAO"
      },
      "source": [
        "### Word2Vec Arguments"
      ]
    },
    {
      "cell_type": "markdown",
      "metadata": {
        "id": "AyqE_A8nJIAP"
      },
      "source": [
        "- vector_size:The number of dimensions of the embedding, e.g. the length of the dense vector to represent each token (word).\n",
        "- window:The maximum distance between a target word and words around the target word.\n",
        "- min_count: The minimum count of words to consider when training the model; words with an occurrence less than this count will be ignored.\n",
        "- workers:The number of threads to use while training.\n",
        "- sg:The training algorithm, either CBOW (0) or skip gram (1)"
      ]
    },
    {
      "cell_type": "code",
      "metadata": {
        "id": "xRZ2C_NTJIAP"
      },
      "source": [
        "# train model based on vocabulary of current corpus\n",
        "model = Word2Vec(common_texts,\n",
        "                vector_size=100,\n",
        "                window=5,\n",
        "                min_count=1,\n",
        "                workers=4)\n",
        "\n",
        "\n"
      ],
      "execution_count": null,
      "outputs": []
    },
    {
      "cell_type": "code",
      "metadata": {
        "id": "8x5IduLMJIAQ",
        "outputId": "f194e054-5a22-4a7f-ba39-70f0aec9eaf3"
      },
      "source": [
        "#Get vocabulary\n",
        "model.wv.key_to_index"
      ],
      "execution_count": null,
      "outputs": [
        {
          "output_type": "execute_result",
          "data": {
            "text/plain": [
              "{'system': 0,\n",
              " 'graph': 1,\n",
              " 'trees': 2,\n",
              " 'user': 3,\n",
              " 'minors': 4,\n",
              " 'eps': 5,\n",
              " 'time': 6,\n",
              " 'response': 7,\n",
              " 'survey': 8,\n",
              " 'computer': 9,\n",
              " 'interface': 10,\n",
              " 'human': 11}"
            ]
          },
          "metadata": {
            "tags": []
          },
          "execution_count": 8
        }
      ]
    },
    {
      "cell_type": "code",
      "metadata": {
        "id": "peb9zHp1JIAQ"
      },
      "source": [
        "#Save model to a file\n",
        "model.save(\"word2vec.model\")"
      ],
      "execution_count": null,
      "outputs": []
    },
    {
      "cell_type": "code",
      "metadata": {
        "id": "PpHTddQfJIAQ"
      },
      "source": [
        "#Load model to new variable\n",
        "model1 = Word2Vec.load('word2vec.model')\n"
      ],
      "execution_count": null,
      "outputs": []
    },
    {
      "cell_type": "markdown",
      "metadata": {
        "id": "4GTJri--JIAR"
      },
      "source": [
        "## Training model on custom text"
      ]
    },
    {
      "cell_type": "code",
      "metadata": {
        "id": "bRIpK7RJJIAR"
      },
      "source": [
        "# define training data - tokenize the sentence\n",
        "sentences = [['this', 'is', 'the', 'first', 'class', 'for', 'word2vec'],\n",
        "            ['this', 'is', 'the', 'second', 'class', 'in','NLP'],\n",
        "            ['yet', 'another', 'concept'],\n",
        "            ['one', 'more', 'day'],\n",
        "            ['and', 'the', 'final', 'class']]"
      ],
      "execution_count": null,
      "outputs": []
    },
    {
      "cell_type": "code",
      "metadata": {
        "id": "D17ZlSHQJIAR",
        "outputId": "7de5ad8f-7689-467a-a211-d186dff6724d"
      },
      "source": [
        "#Train model on new sentences\n",
        "model1.train(sentences, total_examples=1, epochs=1)"
      ],
      "execution_count": null,
      "outputs": [
        {
          "output_type": "execute_result",
          "data": {
            "text/plain": [
              "(0, 24)"
            ]
          },
          "metadata": {
            "tags": []
          },
          "execution_count": 12
        }
      ]
    },
    {
      "cell_type": "code",
      "metadata": {
        "id": "q-uqaYG6JIAS",
        "outputId": "bc783bc0-f570-4b20-e7fc-6826f9ce1184"
      },
      "source": [
        "# get numpy vector of a word\n",
        "vector = model.wv['computer']  \n",
        "vector"
      ],
      "execution_count": null,
      "outputs": [
        {
          "output_type": "execute_result",
          "data": {
            "text/plain": [
              "array([-0.00515774, -0.00667028, -0.0077791 ,  0.00831315, -0.00198292,\n",
              "       -0.00685696, -0.0041556 ,  0.00514562, -0.00286997, -0.00375075,\n",
              "        0.0016219 , -0.0027771 , -0.00158482,  0.0010748 , -0.00297881,\n",
              "        0.00852176,  0.00391207, -0.00996176,  0.00626142, -0.00675622,\n",
              "        0.00076966,  0.00440552, -0.00510486, -0.00211128,  0.00809783,\n",
              "       -0.00424503, -0.00763848,  0.00926061, -0.00215612, -0.00472081,\n",
              "        0.00857329,  0.00428458,  0.0043261 ,  0.00928722, -0.00845554,\n",
              "        0.00525685,  0.00203994,  0.0041895 ,  0.00169839,  0.00446543,\n",
              "        0.00448759,  0.0061063 , -0.00320303, -0.00457706, -0.00042664,\n",
              "        0.00253447, -0.00326412,  0.00605948,  0.00415534,  0.00776685,\n",
              "        0.00257002,  0.00811904, -0.00138761,  0.00808028,  0.0037181 ,\n",
              "       -0.00804967, -0.00393476, -0.0024726 ,  0.00489447, -0.00087241,\n",
              "       -0.00283173,  0.00783599,  0.00932561, -0.0016154 , -0.00516075,\n",
              "       -0.00470313, -0.00484746, -0.00960562,  0.00137242, -0.00422615,\n",
              "        0.00252744,  0.00561612, -0.00406709, -0.00959937,  0.00154715,\n",
              "       -0.00670207,  0.0024959 , -0.00378173,  0.00708048,  0.00064041,\n",
              "        0.00356198, -0.00273993, -0.00171105,  0.00765502,  0.00140809,\n",
              "       -0.00585215, -0.00783678,  0.00123304,  0.00645651,  0.00555797,\n",
              "       -0.00897966,  0.00859466,  0.00404815,  0.00747178,  0.00974917,\n",
              "       -0.0072917 , -0.00904259,  0.0058377 ,  0.00939395,  0.00350795],\n",
              "      dtype=float32)"
            ]
          },
          "metadata": {
            "tags": []
          },
          "execution_count": 13
        }
      ]
    },
    {
      "cell_type": "code",
      "metadata": {
        "id": "a44WTsfdJIAS",
        "outputId": "7d4414fc-89a3-4a9d-c141-bfb497d7ecf3"
      },
      "source": [
        "#Get similar words\n",
        "sim_word = model.wv.most_similar('system', topn=10)  # get other similar words\n",
        "sim_word"
      ],
      "execution_count": null,
      "outputs": [
        {
          "output_type": "execute_result",
          "data": {
            "text/plain": [
              "[('computer', 0.21617142856121063),\n",
              " ('response', 0.09293834120035172),\n",
              " ('human', 0.07963485270738602),\n",
              " ('interface', 0.06288163363933563),\n",
              " ('survey', 0.027057476341724396),\n",
              " ('time', 0.016134709119796753),\n",
              " ('graph', -0.010839181020855904),\n",
              " ('minors', -0.02775038219988346),\n",
              " ('trees', -0.052346743643283844),\n",
              " ('eps', -0.05987627059221268)]"
            ]
          },
          "metadata": {
            "tags": []
          },
          "execution_count": 14
        }
      ]
    },
    {
      "cell_type": "code",
      "metadata": {
        "id": "Bk8XKEOUJIAS"
      },
      "source": [
        "import gensim.downloader as api\n",
        "\n"
      ],
      "execution_count": null,
      "outputs": []
    },
    {
      "cell_type": "code",
      "metadata": {
        "id": "enSM-XBrJIAT"
      },
      "source": [
        "# load pre-trained word-vectors from gensim-data\n",
        "word_vectors = api.load(\"glove-wiki-gigaword-100\") "
      ],
      "execution_count": null,
      "outputs": []
    },
    {
      "cell_type": "code",
      "metadata": {
        "id": "53w_cA7SJIAT",
        "outputId": "cbc27baa-8188-40e3-ad43-ea00dee16847"
      },
      "source": [
        "# Check similarity based on multiple conditions\n",
        "result = word_vectors.most_similar(positive=['lion', 'tiger'], negative=['man'])\n",
        "result"
      ],
      "execution_count": null,
      "outputs": [
        {
          "output_type": "execute_result",
          "data": {
            "text/plain": [
              "[('leopard', 0.6701600551605225),\n",
              " ('elephant', 0.551284909248352),\n",
              " ('rhinoceros', 0.5426068902015686),\n",
              " ('rhino', 0.5233815908432007),\n",
              " ('dragon', 0.52213054895401),\n",
              " ('elephants', 0.5167747139930725),\n",
              " ('turtle', 0.5037534832954407),\n",
              " ('leopards', 0.4965704083442688),\n",
              " ('unicorn', 0.4904889464378357),\n",
              " ('lillies', 0.4891042709350586)]"
            ]
          },
          "metadata": {
            "tags": []
          },
          "execution_count": 17
        }
      ]
    },
    {
      "cell_type": "code",
      "metadata": {
        "id": "o0hyI13cJIAT",
        "outputId": "df8a6aad-3f98-4db7-b47f-195cf7d788cf"
      },
      "source": [
        "#Extract most similar word\n",
        "most_similar_key, similarity = result[0]  # look at the first match\n",
        "print(f\"{most_similar_key}: {similarity:.4f}\")"
      ],
      "execution_count": null,
      "outputs": [
        {
          "output_type": "stream",
          "text": [
            "leopard: 0.6702\n"
          ],
          "name": "stdout"
        }
      ]
    },
    {
      "cell_type": "code",
      "metadata": {
        "id": "LSH23pjnJIAU",
        "outputId": "3cccf7c8-584f-45dd-abd4-7cf18e5802b7"
      },
      "source": [
        "# Use a different similarity measure: \"cosmul\".\n",
        "result1 = word_vectors.most_similar_cosmul(positive=['woman', 'king'], negative=['man'])\n",
        "result1"
      ],
      "execution_count": null,
      "outputs": [
        {
          "output_type": "execute_result",
          "data": {
            "text/plain": [
              "[('queen', 0.8964556455612183),\n",
              " ('monarch', 0.8495979309082031),\n",
              " ('throne', 0.8447030782699585),\n",
              " ('princess', 0.8371668457984924),\n",
              " ('elizabeth', 0.835679292678833),\n",
              " ('daughter', 0.8348594903945923),\n",
              " ('prince', 0.8230058550834656),\n",
              " ('mother', 0.815445065498352),\n",
              " ('margaret', 0.8147736191749573),\n",
              " ('father', 0.8100855946540833)]"
            ]
          },
          "metadata": {
            "tags": []
          },
          "execution_count": 19
        }
      ]
    },
    {
      "cell_type": "code",
      "metadata": {
        "id": "l52vpkhWJIAU",
        "outputId": "0df98edf-a278-4412-ac62-eca6a774b20a"
      },
      "source": [
        "# Find the odd man out\n",
        "print(word_vectors.doesnt_match(\"breakfast cereal dinner lunch\".split()))"
      ],
      "execution_count": null,
      "outputs": [
        {
          "output_type": "stream",
          "text": [
            "cereal\n"
          ],
          "name": "stdout"
        }
      ]
    },
    {
      "cell_type": "code",
      "metadata": {
        "id": "XtmlSZLiJIAU",
        "outputId": "432b0e80-e5bc-4676-9e4f-5971befecc0e"
      },
      "source": [
        "#Measure similarity between 2 words\n",
        "similarity = word_vectors.similarity('woman', 'man')\n",
        "similarity"
      ],
      "execution_count": null,
      "outputs": [
        {
          "output_type": "execute_result",
          "data": {
            "text/plain": [
              "0.8323495"
            ]
          },
          "metadata": {
            "tags": []
          },
          "execution_count": 21
        }
      ]
    },
    {
      "cell_type": "code",
      "metadata": {
        "id": "oK7XMrZQJIAV"
      },
      "source": [
        "#conda install -c conda-forge pyemd (in anaconda prompt)\n",
        "from pyemd import emd\n",
        "from gensim.similarities import WmdSimilarity"
      ],
      "execution_count": null,
      "outputs": []
    },
    {
      "cell_type": "code",
      "metadata": {
        "id": "4ZN_Tvg_JIAV",
        "outputId": "ddc8a879-e1ca-445b-bf8e-590fd4ffeb16"
      },
      "source": [
        "distance = word_vectors.distance(\"media\", \"movie\")\n",
        "print(f\"{distance:.1f}\")"
      ],
      "execution_count": null,
      "outputs": [
        {
          "output_type": "stream",
          "text": [
            "0.5\n"
          ],
          "name": "stdout"
        }
      ]
    },
    {
      "cell_type": "code",
      "metadata": {
        "id": "90-i_NUZJIAV"
      },
      "source": [
        ""
      ],
      "execution_count": null,
      "outputs": []
    }
  ]
}