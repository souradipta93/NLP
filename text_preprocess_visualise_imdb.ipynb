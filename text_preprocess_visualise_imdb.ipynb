{
  "nbformat": 4,
  "nbformat_minor": 0,
  "metadata": {
    "kernelspec": {
      "display_name": "Python 3",
      "language": "python",
      "name": "python3"
    },
    "language_info": {
      "codemirror_mode": {
        "name": "ipython",
        "version": 3
      },
      "file_extension": ".py",
      "mimetype": "text/x-python",
      "name": "python",
      "nbconvert_exporter": "python",
      "pygments_lexer": "ipython3",
      "version": "3.8.5"
    },
    "colab": {
      "name": "text_preprocess_visualise_imdb.ipynb",
      "provenance": [],
      "include_colab_link": true
    }
  },
  "cells": [
    {
      "cell_type": "markdown",
      "metadata": {
        "id": "view-in-github",
        "colab_type": "text"
      },
      "source": [
        "<a href=\"https://colab.research.google.com/github/souradipta93/NLP/blob/main/text_preprocess_visualise_imdb.ipynb\" target=\"_parent\"><img src=\"https://colab.research.google.com/assets/colab-badge.svg\" alt=\"Open In Colab\"/></a>"
      ]
    },
    {
      "cell_type": "code",
      "metadata": {
        "id": "-8hRl00mCNqB"
      },
      "source": [
        "import pandas as pd"
      ],
      "execution_count": null,
      "outputs": []
    },
    {
      "cell_type": "code",
      "metadata": {
        "id": "WbWm0NnwCNqE"
      },
      "source": [
        "movie1 = pd.read_csv('IMDB.csv')"
      ],
      "execution_count": null,
      "outputs": []
    },
    {
      "cell_type": "code",
      "metadata": {
        "id": "JPcVhJXqCNqF",
        "outputId": "fe8768b3-1bcb-4bd9-d67e-5e74e237306d"
      },
      "source": [
        " movie1.head()"
      ],
      "execution_count": null,
      "outputs": [
        {
          "output_type": "execute_result",
          "data": {
            "text/html": [
              "<div>\n",
              "<style scoped>\n",
              "    .dataframe tbody tr th:only-of-type {\n",
              "        vertical-align: middle;\n",
              "    }\n",
              "\n",
              "    .dataframe tbody tr th {\n",
              "        vertical-align: top;\n",
              "    }\n",
              "\n",
              "    .dataframe thead th {\n",
              "        text-align: right;\n",
              "    }\n",
              "</style>\n",
              "<table border=\"1\" class=\"dataframe\">\n",
              "  <thead>\n",
              "    <tr style=\"text-align: right;\">\n",
              "      <th></th>\n",
              "      <th>review</th>\n",
              "      <th>sentiment</th>\n",
              "    </tr>\n",
              "  </thead>\n",
              "  <tbody>\n",
              "    <tr>\n",
              "      <th>0</th>\n",
              "      <td>One of the other reviewers has mentioned that ...</td>\n",
              "      <td>positive</td>\n",
              "    </tr>\n",
              "    <tr>\n",
              "      <th>1</th>\n",
              "      <td>A wonderful little production. &lt;br /&gt;&lt;br /&gt;The...</td>\n",
              "      <td>positive</td>\n",
              "    </tr>\n",
              "    <tr>\n",
              "      <th>2</th>\n",
              "      <td>I thought this was a wonderful way to spend ti...</td>\n",
              "      <td>positive</td>\n",
              "    </tr>\n",
              "    <tr>\n",
              "      <th>3</th>\n",
              "      <td>Basically there's a family where a little boy ...</td>\n",
              "      <td>negative</td>\n",
              "    </tr>\n",
              "    <tr>\n",
              "      <th>4</th>\n",
              "      <td>Petter Mattei's \"Love in the Time of Money\" is...</td>\n",
              "      <td>positive</td>\n",
              "    </tr>\n",
              "  </tbody>\n",
              "</table>\n",
              "</div>"
            ],
            "text/plain": [
              "                                              review sentiment\n",
              "0  One of the other reviewers has mentioned that ...  positive\n",
              "1  A wonderful little production. <br /><br />The...  positive\n",
              "2  I thought this was a wonderful way to spend ti...  positive\n",
              "3  Basically there's a family where a little boy ...  negative\n",
              "4  Petter Mattei's \"Love in the Time of Money\" is...  positive"
            ]
          },
          "metadata": {
            "tags": []
          },
          "execution_count": 3
        }
      ]
    },
    {
      "cell_type": "code",
      "metadata": {
        "id": "KB8akqEtCNqH",
        "outputId": "cd7b8469-e69b-4703-fd2e-971f94341909"
      },
      "source": [
        "movie1.shape"
      ],
      "execution_count": null,
      "outputs": [
        {
          "output_type": "execute_result",
          "data": {
            "text/plain": [
              "(50000, 2)"
            ]
          },
          "metadata": {
            "tags": []
          },
          "execution_count": 4
        }
      ]
    },
    {
      "cell_type": "code",
      "metadata": {
        "id": "lHN1lr1RCNqH",
        "outputId": "7f2e2409-cfb8-45cf-e667-d51f6041b926"
      },
      "source": [
        "movie = movie1.sample(n = 5000, random_state = 2, replace=False) \n",
        "movie.head()"
      ],
      "execution_count": null,
      "outputs": [
        {
          "output_type": "execute_result",
          "data": {
            "text/html": [
              "<div>\n",
              "<style scoped>\n",
              "    .dataframe tbody tr th:only-of-type {\n",
              "        vertical-align: middle;\n",
              "    }\n",
              "\n",
              "    .dataframe tbody tr th {\n",
              "        vertical-align: top;\n",
              "    }\n",
              "\n",
              "    .dataframe thead th {\n",
              "        text-align: right;\n",
              "    }\n",
              "</style>\n",
              "<table border=\"1\" class=\"dataframe\">\n",
              "  <thead>\n",
              "    <tr style=\"text-align: right;\">\n",
              "      <th></th>\n",
              "      <th>review</th>\n",
              "      <th>sentiment</th>\n",
              "    </tr>\n",
              "  </thead>\n",
              "  <tbody>\n",
              "    <tr>\n",
              "      <th>23656</th>\n",
              "      <td>Ron Hall pulls a triple threat as he writes, d...</td>\n",
              "      <td>negative</td>\n",
              "    </tr>\n",
              "    <tr>\n",
              "      <th>27442</th>\n",
              "      <td>The first in the series was brilliant, easily ...</td>\n",
              "      <td>negative</td>\n",
              "    </tr>\n",
              "    <tr>\n",
              "      <th>40162</th>\n",
              "      <td>I LOVED this movie because Bobbie Phillips can...</td>\n",
              "      <td>positive</td>\n",
              "    </tr>\n",
              "    <tr>\n",
              "      <th>8459</th>\n",
              "      <td>I was @ 13 yrs of age when I saw this greatly ...</td>\n",
              "      <td>positive</td>\n",
              "    </tr>\n",
              "    <tr>\n",
              "      <th>8051</th>\n",
              "      <td>The Coen Brothers have truly outdone themselve...</td>\n",
              "      <td>positive</td>\n",
              "    </tr>\n",
              "  </tbody>\n",
              "</table>\n",
              "</div>"
            ],
            "text/plain": [
              "                                                  review sentiment\n",
              "23656  Ron Hall pulls a triple threat as he writes, d...  negative\n",
              "27442  The first in the series was brilliant, easily ...  negative\n",
              "40162  I LOVED this movie because Bobbie Phillips can...  positive\n",
              "8459   I was @ 13 yrs of age when I saw this greatly ...  positive\n",
              "8051   The Coen Brothers have truly outdone themselve...  positive"
            ]
          },
          "metadata": {
            "tags": []
          },
          "execution_count": 5
        }
      ]
    },
    {
      "cell_type": "code",
      "metadata": {
        "id": "6V-Z-l82CNqI",
        "outputId": "7758cf3e-a779-473e-cf52-7e39f63a979a"
      },
      "source": [
        "movie.reset_index(inplace=True)\n",
        "movie.head()"
      ],
      "execution_count": null,
      "outputs": [
        {
          "output_type": "execute_result",
          "data": {
            "text/html": [
              "<div>\n",
              "<style scoped>\n",
              "    .dataframe tbody tr th:only-of-type {\n",
              "        vertical-align: middle;\n",
              "    }\n",
              "\n",
              "    .dataframe tbody tr th {\n",
              "        vertical-align: top;\n",
              "    }\n",
              "\n",
              "    .dataframe thead th {\n",
              "        text-align: right;\n",
              "    }\n",
              "</style>\n",
              "<table border=\"1\" class=\"dataframe\">\n",
              "  <thead>\n",
              "    <tr style=\"text-align: right;\">\n",
              "      <th></th>\n",
              "      <th>index</th>\n",
              "      <th>review</th>\n",
              "      <th>sentiment</th>\n",
              "    </tr>\n",
              "  </thead>\n",
              "  <tbody>\n",
              "    <tr>\n",
              "      <th>0</th>\n",
              "      <td>23656</td>\n",
              "      <td>Ron Hall pulls a triple threat as he writes, d...</td>\n",
              "      <td>negative</td>\n",
              "    </tr>\n",
              "    <tr>\n",
              "      <th>1</th>\n",
              "      <td>27442</td>\n",
              "      <td>The first in the series was brilliant, easily ...</td>\n",
              "      <td>negative</td>\n",
              "    </tr>\n",
              "    <tr>\n",
              "      <th>2</th>\n",
              "      <td>40162</td>\n",
              "      <td>I LOVED this movie because Bobbie Phillips can...</td>\n",
              "      <td>positive</td>\n",
              "    </tr>\n",
              "    <tr>\n",
              "      <th>3</th>\n",
              "      <td>8459</td>\n",
              "      <td>I was @ 13 yrs of age when I saw this greatly ...</td>\n",
              "      <td>positive</td>\n",
              "    </tr>\n",
              "    <tr>\n",
              "      <th>4</th>\n",
              "      <td>8051</td>\n",
              "      <td>The Coen Brothers have truly outdone themselve...</td>\n",
              "      <td>positive</td>\n",
              "    </tr>\n",
              "  </tbody>\n",
              "</table>\n",
              "</div>"
            ],
            "text/plain": [
              "   index                                             review sentiment\n",
              "0  23656  Ron Hall pulls a triple threat as he writes, d...  negative\n",
              "1  27442  The first in the series was brilliant, easily ...  negative\n",
              "2  40162  I LOVED this movie because Bobbie Phillips can...  positive\n",
              "3   8459  I was @ 13 yrs of age when I saw this greatly ...  positive\n",
              "4   8051  The Coen Brothers have truly outdone themselve...  positive"
            ]
          },
          "metadata": {
            "tags": []
          },
          "execution_count": 6
        }
      ]
    },
    {
      "cell_type": "code",
      "metadata": {
        "id": "oZiG0XAfCNqJ",
        "outputId": "22360a9a-b160-4c63-bffe-ecd4d4cac80a"
      },
      "source": [
        "movie['sentiment'].value_counts(normalize=True)"
      ],
      "execution_count": null,
      "outputs": [
        {
          "output_type": "execute_result",
          "data": {
            "text/plain": [
              "negative    0.507\n",
              "positive    0.493\n",
              "Name: sentiment, dtype: float64"
            ]
          },
          "metadata": {
            "tags": []
          },
          "execution_count": 7
        }
      ]
    },
    {
      "cell_type": "code",
      "metadata": {
        "id": "9AazTwuMCNqJ",
        "outputId": "f0c0c693-3d82-41d2-a757-70722573e2cf"
      },
      "source": [
        "movie.head()"
      ],
      "execution_count": null,
      "outputs": [
        {
          "output_type": "execute_result",
          "data": {
            "text/html": [
              "<div>\n",
              "<style scoped>\n",
              "    .dataframe tbody tr th:only-of-type {\n",
              "        vertical-align: middle;\n",
              "    }\n",
              "\n",
              "    .dataframe tbody tr th {\n",
              "        vertical-align: top;\n",
              "    }\n",
              "\n",
              "    .dataframe thead th {\n",
              "        text-align: right;\n",
              "    }\n",
              "</style>\n",
              "<table border=\"1\" class=\"dataframe\">\n",
              "  <thead>\n",
              "    <tr style=\"text-align: right;\">\n",
              "      <th></th>\n",
              "      <th>index</th>\n",
              "      <th>review</th>\n",
              "      <th>sentiment</th>\n",
              "    </tr>\n",
              "  </thead>\n",
              "  <tbody>\n",
              "    <tr>\n",
              "      <th>0</th>\n",
              "      <td>23656</td>\n",
              "      <td>Ron Hall pulls a triple threat as he writes, d...</td>\n",
              "      <td>negative</td>\n",
              "    </tr>\n",
              "    <tr>\n",
              "      <th>1</th>\n",
              "      <td>27442</td>\n",
              "      <td>The first in the series was brilliant, easily ...</td>\n",
              "      <td>negative</td>\n",
              "    </tr>\n",
              "    <tr>\n",
              "      <th>2</th>\n",
              "      <td>40162</td>\n",
              "      <td>I LOVED this movie because Bobbie Phillips can...</td>\n",
              "      <td>positive</td>\n",
              "    </tr>\n",
              "    <tr>\n",
              "      <th>3</th>\n",
              "      <td>8459</td>\n",
              "      <td>I was @ 13 yrs of age when I saw this greatly ...</td>\n",
              "      <td>positive</td>\n",
              "    </tr>\n",
              "    <tr>\n",
              "      <th>4</th>\n",
              "      <td>8051</td>\n",
              "      <td>The Coen Brothers have truly outdone themselve...</td>\n",
              "      <td>positive</td>\n",
              "    </tr>\n",
              "  </tbody>\n",
              "</table>\n",
              "</div>"
            ],
            "text/plain": [
              "   index                                             review sentiment\n",
              "0  23656  Ron Hall pulls a triple threat as he writes, d...  negative\n",
              "1  27442  The first in the series was brilliant, easily ...  negative\n",
              "2  40162  I LOVED this movie because Bobbie Phillips can...  positive\n",
              "3   8459  I was @ 13 yrs of age when I saw this greatly ...  positive\n",
              "4   8051  The Coen Brothers have truly outdone themselve...  positive"
            ]
          },
          "metadata": {
            "tags": []
          },
          "execution_count": 8
        }
      ]
    },
    {
      "cell_type": "code",
      "metadata": {
        "id": "kTSyoXksCNqK"
      },
      "source": [
        "import nltk\n",
        "#nltk.download()"
      ],
      "execution_count": null,
      "outputs": []
    },
    {
      "cell_type": "code",
      "metadata": {
        "id": "RxEEyCjsCNqL",
        "outputId": "d2d912fb-ff35-48db-b211-7cfe4690e56b"
      },
      "source": [
        "#Extract the first review\n",
        "review = movie['review'][1]\n",
        "review"
      ],
      "execution_count": null,
      "outputs": [
        {
          "output_type": "execute_result",
          "data": {
            "text/plain": [
              "'The first in the series was brilliant, easily one of the best Horror films of all time. This is the crappiest. When I sat down to watch this, I was actually thinking that how bad the fourth and fifth ones were, this would have to be good after the previous terrible ones. Boy was I wrong. Incredibly wrong.<br /><br />When I watched the first ten minutes of it, I was actually really tempted to turn it off, but I thought no, maybe it\\'ll improve. It didn\\'t.<br /><br />Not only is this just a dire film by itself, it didn\\'t need another sequel, because the last two (fourth and fifth) had already been terrible enough! Also, how many times can you bring Freddy back!? The acting in it was TERRIBLE, the story-line was predictable and crap and it also had flaws in it as well. The way they made Springwood was just totally wrong. Pays no respect to the first one at-all. To add to this, the whole thing seemed really over-the-top.<br /><br />Some people are saying that this film was \"funny\". This film is not \"funny\" at all. Since when is Freddy Krueger supposed to be \"funny\"? I would call it funnily crap. This film is supposed to be a Horror film, not a comedy. If Freddy had a daughter, wouldn\\'t that information have surfaced like in the first one!? The ending was also just plain stupid and cheesy, exactly like the rest of it. This one completely destroys the essence and uniqueness of the first one. Just shows itself up.<br /><br />Such a shame that Wes Craven created something so good in the beginning, yet it has to be dragged down because of this trash that belongs in the bin. They shouldn\\'t have even bothered making this film. Nor any of the other sequels, except the third one. The third one\\'s the only decent one out of all the sequels.<br /><br />If this was a DVD by itself and not part of the Nightmare On Elm Street DVD set that I got, I would have chucked it out when I got it.<br /><br />Summary: A pathetic and poor attempt at a sequel.<br /><br />- a complete MOCKERY of the first film <br /><br />So please, don\\'t waste your time on this worthless junk.'"
            ]
          },
          "metadata": {
            "tags": []
          },
          "execution_count": 10
        }
      ]
    },
    {
      "cell_type": "markdown",
      "metadata": {
        "id": "lxgKs-UWCNqL"
      },
      "source": [
        "# Text pre-processing examples"
      ]
    },
    {
      "cell_type": "code",
      "metadata": {
        "id": "A5V57-GMCNqM",
        "outputId": "a5a6e05b-ee14-49c0-8fb3-727495336cbb"
      },
      "source": [
        "#convert to lowercase\n",
        "review = review.lower()\n",
        "review"
      ],
      "execution_count": null,
      "outputs": [
        {
          "output_type": "execute_result",
          "data": {
            "text/plain": [
              "'the first in the series was brilliant, easily one of the best horror films of all time. this is the crappiest. when i sat down to watch this, i was actually thinking that how bad the fourth and fifth ones were, this would have to be good after the previous terrible ones. boy was i wrong. incredibly wrong.<br /><br />when i watched the first ten minutes of it, i was actually really tempted to turn it off, but i thought no, maybe it\\'ll improve. it didn\\'t.<br /><br />not only is this just a dire film by itself, it didn\\'t need another sequel, because the last two (fourth and fifth) had already been terrible enough! also, how many times can you bring freddy back!? the acting in it was terrible, the story-line was predictable and crap and it also had flaws in it as well. the way they made springwood was just totally wrong. pays no respect to the first one at-all. to add to this, the whole thing seemed really over-the-top.<br /><br />some people are saying that this film was \"funny\". this film is not \"funny\" at all. since when is freddy krueger supposed to be \"funny\"? i would call it funnily crap. this film is supposed to be a horror film, not a comedy. if freddy had a daughter, wouldn\\'t that information have surfaced like in the first one!? the ending was also just plain stupid and cheesy, exactly like the rest of it. this one completely destroys the essence and uniqueness of the first one. just shows itself up.<br /><br />such a shame that wes craven created something so good in the beginning, yet it has to be dragged down because of this trash that belongs in the bin. they shouldn\\'t have even bothered making this film. nor any of the other sequels, except the third one. the third one\\'s the only decent one out of all the sequels.<br /><br />if this was a dvd by itself and not part of the nightmare on elm street dvd set that i got, i would have chucked it out when i got it.<br /><br />summary: a pathetic and poor attempt at a sequel.<br /><br />- a complete mockery of the first film <br /><br />so please, don\\'t waste your time on this worthless junk.'"
            ]
          },
          "metadata": {
            "tags": []
          },
          "execution_count": 11
        }
      ]
    },
    {
      "cell_type": "code",
      "metadata": {
        "id": "tEwoDN2mCNqM",
        "outputId": "f0b33cff-4d41-468c-8a92-4daa63238227"
      },
      "source": [
        "#remove punctuation\n",
        "import re\n",
        "review = re.sub('[^a-zA-Z]', ' ', review)\n",
        "review"
      ],
      "execution_count": null,
      "outputs": [
        {
          "output_type": "execute_result",
          "data": {
            "text/plain": [
              "'the first in the series was brilliant  easily one of the best horror films of all time  this is the crappiest  when i sat down to watch this  i was actually thinking that how bad the fourth and fifth ones were  this would have to be good after the previous terrible ones  boy was i wrong  incredibly wrong  br    br   when i watched the first ten minutes of it  i was actually really tempted to turn it off  but i thought no  maybe it ll improve  it didn t  br    br   not only is this just a dire film by itself  it didn t need another sequel  because the last two  fourth and fifth  had already been terrible enough  also  how many times can you bring freddy back   the acting in it was terrible  the story line was predictable and crap and it also had flaws in it as well  the way they made springwood was just totally wrong  pays no respect to the first one at all  to add to this  the whole thing seemed really over the top  br    br   some people are saying that this film was  funny   this film is not  funny  at all  since when is freddy krueger supposed to be  funny   i would call it funnily crap  this film is supposed to be a horror film  not a comedy  if freddy had a daughter  wouldn t that information have surfaced like in the first one   the ending was also just plain stupid and cheesy  exactly like the rest of it  this one completely destroys the essence and uniqueness of the first one  just shows itself up  br    br   such a shame that wes craven created something so good in the beginning  yet it has to be dragged down because of this trash that belongs in the bin  they shouldn t have even bothered making this film  nor any of the other sequels  except the third one  the third one s the only decent one out of all the sequels  br    br   if this was a dvd by itself and not part of the nightmare on elm street dvd set that i got  i would have chucked it out when i got it  br    br   summary  a pathetic and poor attempt at a sequel  br    br     a complete mockery of the first film  br    br   so please  don t waste your time on this worthless junk '"
            ]
          },
          "metadata": {
            "tags": []
          },
          "execution_count": 12
        }
      ]
    },
    {
      "cell_type": "code",
      "metadata": {
        "id": "AX5ibkT6CNqN",
        "outputId": "e3974dc6-f18f-4497-cdb0-5491ce3076f9"
      },
      "source": [
        "#convert words to tokens\n",
        "token_review=review.split(\" \")\n",
        "token_review"
      ],
      "execution_count": null,
      "outputs": [
        {
          "output_type": "execute_result",
          "data": {
            "text/plain": [
              "['the',\n",
              " 'first',\n",
              " 'in',\n",
              " 'the',\n",
              " 'series',\n",
              " 'was',\n",
              " 'brilliant',\n",
              " '',\n",
              " 'easily',\n",
              " 'one',\n",
              " 'of',\n",
              " 'the',\n",
              " 'best',\n",
              " 'horror',\n",
              " 'films',\n",
              " 'of',\n",
              " 'all',\n",
              " 'time',\n",
              " '',\n",
              " 'this',\n",
              " 'is',\n",
              " 'the',\n",
              " 'crappiest',\n",
              " '',\n",
              " 'when',\n",
              " 'i',\n",
              " 'sat',\n",
              " 'down',\n",
              " 'to',\n",
              " 'watch',\n",
              " 'this',\n",
              " '',\n",
              " 'i',\n",
              " 'was',\n",
              " 'actually',\n",
              " 'thinking',\n",
              " 'that',\n",
              " 'how',\n",
              " 'bad',\n",
              " 'the',\n",
              " 'fourth',\n",
              " 'and',\n",
              " 'fifth',\n",
              " 'ones',\n",
              " 'were',\n",
              " '',\n",
              " 'this',\n",
              " 'would',\n",
              " 'have',\n",
              " 'to',\n",
              " 'be',\n",
              " 'good',\n",
              " 'after',\n",
              " 'the',\n",
              " 'previous',\n",
              " 'terrible',\n",
              " 'ones',\n",
              " '',\n",
              " 'boy',\n",
              " 'was',\n",
              " 'i',\n",
              " 'wrong',\n",
              " '',\n",
              " 'incredibly',\n",
              " 'wrong',\n",
              " '',\n",
              " 'br',\n",
              " '',\n",
              " '',\n",
              " '',\n",
              " 'br',\n",
              " '',\n",
              " '',\n",
              " 'when',\n",
              " 'i',\n",
              " 'watched',\n",
              " 'the',\n",
              " 'first',\n",
              " 'ten',\n",
              " 'minutes',\n",
              " 'of',\n",
              " 'it',\n",
              " '',\n",
              " 'i',\n",
              " 'was',\n",
              " 'actually',\n",
              " 'really',\n",
              " 'tempted',\n",
              " 'to',\n",
              " 'turn',\n",
              " 'it',\n",
              " 'off',\n",
              " '',\n",
              " 'but',\n",
              " 'i',\n",
              " 'thought',\n",
              " 'no',\n",
              " '',\n",
              " 'maybe',\n",
              " 'it',\n",
              " 'll',\n",
              " 'improve',\n",
              " '',\n",
              " 'it',\n",
              " 'didn',\n",
              " 't',\n",
              " '',\n",
              " 'br',\n",
              " '',\n",
              " '',\n",
              " '',\n",
              " 'br',\n",
              " '',\n",
              " '',\n",
              " 'not',\n",
              " 'only',\n",
              " 'is',\n",
              " 'this',\n",
              " 'just',\n",
              " 'a',\n",
              " 'dire',\n",
              " 'film',\n",
              " 'by',\n",
              " 'itself',\n",
              " '',\n",
              " 'it',\n",
              " 'didn',\n",
              " 't',\n",
              " 'need',\n",
              " 'another',\n",
              " 'sequel',\n",
              " '',\n",
              " 'because',\n",
              " 'the',\n",
              " 'last',\n",
              " 'two',\n",
              " '',\n",
              " 'fourth',\n",
              " 'and',\n",
              " 'fifth',\n",
              " '',\n",
              " 'had',\n",
              " 'already',\n",
              " 'been',\n",
              " 'terrible',\n",
              " 'enough',\n",
              " '',\n",
              " 'also',\n",
              " '',\n",
              " 'how',\n",
              " 'many',\n",
              " 'times',\n",
              " 'can',\n",
              " 'you',\n",
              " 'bring',\n",
              " 'freddy',\n",
              " 'back',\n",
              " '',\n",
              " '',\n",
              " 'the',\n",
              " 'acting',\n",
              " 'in',\n",
              " 'it',\n",
              " 'was',\n",
              " 'terrible',\n",
              " '',\n",
              " 'the',\n",
              " 'story',\n",
              " 'line',\n",
              " 'was',\n",
              " 'predictable',\n",
              " 'and',\n",
              " 'crap',\n",
              " 'and',\n",
              " 'it',\n",
              " 'also',\n",
              " 'had',\n",
              " 'flaws',\n",
              " 'in',\n",
              " 'it',\n",
              " 'as',\n",
              " 'well',\n",
              " '',\n",
              " 'the',\n",
              " 'way',\n",
              " 'they',\n",
              " 'made',\n",
              " 'springwood',\n",
              " 'was',\n",
              " 'just',\n",
              " 'totally',\n",
              " 'wrong',\n",
              " '',\n",
              " 'pays',\n",
              " 'no',\n",
              " 'respect',\n",
              " 'to',\n",
              " 'the',\n",
              " 'first',\n",
              " 'one',\n",
              " 'at',\n",
              " 'all',\n",
              " '',\n",
              " 'to',\n",
              " 'add',\n",
              " 'to',\n",
              " 'this',\n",
              " '',\n",
              " 'the',\n",
              " 'whole',\n",
              " 'thing',\n",
              " 'seemed',\n",
              " 'really',\n",
              " 'over',\n",
              " 'the',\n",
              " 'top',\n",
              " '',\n",
              " 'br',\n",
              " '',\n",
              " '',\n",
              " '',\n",
              " 'br',\n",
              " '',\n",
              " '',\n",
              " 'some',\n",
              " 'people',\n",
              " 'are',\n",
              " 'saying',\n",
              " 'that',\n",
              " 'this',\n",
              " 'film',\n",
              " 'was',\n",
              " '',\n",
              " 'funny',\n",
              " '',\n",
              " '',\n",
              " 'this',\n",
              " 'film',\n",
              " 'is',\n",
              " 'not',\n",
              " '',\n",
              " 'funny',\n",
              " '',\n",
              " 'at',\n",
              " 'all',\n",
              " '',\n",
              " 'since',\n",
              " 'when',\n",
              " 'is',\n",
              " 'freddy',\n",
              " 'krueger',\n",
              " 'supposed',\n",
              " 'to',\n",
              " 'be',\n",
              " '',\n",
              " 'funny',\n",
              " '',\n",
              " '',\n",
              " 'i',\n",
              " 'would',\n",
              " 'call',\n",
              " 'it',\n",
              " 'funnily',\n",
              " 'crap',\n",
              " '',\n",
              " 'this',\n",
              " 'film',\n",
              " 'is',\n",
              " 'supposed',\n",
              " 'to',\n",
              " 'be',\n",
              " 'a',\n",
              " 'horror',\n",
              " 'film',\n",
              " '',\n",
              " 'not',\n",
              " 'a',\n",
              " 'comedy',\n",
              " '',\n",
              " 'if',\n",
              " 'freddy',\n",
              " 'had',\n",
              " 'a',\n",
              " 'daughter',\n",
              " '',\n",
              " 'wouldn',\n",
              " 't',\n",
              " 'that',\n",
              " 'information',\n",
              " 'have',\n",
              " 'surfaced',\n",
              " 'like',\n",
              " 'in',\n",
              " 'the',\n",
              " 'first',\n",
              " 'one',\n",
              " '',\n",
              " '',\n",
              " 'the',\n",
              " 'ending',\n",
              " 'was',\n",
              " 'also',\n",
              " 'just',\n",
              " 'plain',\n",
              " 'stupid',\n",
              " 'and',\n",
              " 'cheesy',\n",
              " '',\n",
              " 'exactly',\n",
              " 'like',\n",
              " 'the',\n",
              " 'rest',\n",
              " 'of',\n",
              " 'it',\n",
              " '',\n",
              " 'this',\n",
              " 'one',\n",
              " 'completely',\n",
              " 'destroys',\n",
              " 'the',\n",
              " 'essence',\n",
              " 'and',\n",
              " 'uniqueness',\n",
              " 'of',\n",
              " 'the',\n",
              " 'first',\n",
              " 'one',\n",
              " '',\n",
              " 'just',\n",
              " 'shows',\n",
              " 'itself',\n",
              " 'up',\n",
              " '',\n",
              " 'br',\n",
              " '',\n",
              " '',\n",
              " '',\n",
              " 'br',\n",
              " '',\n",
              " '',\n",
              " 'such',\n",
              " 'a',\n",
              " 'shame',\n",
              " 'that',\n",
              " 'wes',\n",
              " 'craven',\n",
              " 'created',\n",
              " 'something',\n",
              " 'so',\n",
              " 'good',\n",
              " 'in',\n",
              " 'the',\n",
              " 'beginning',\n",
              " '',\n",
              " 'yet',\n",
              " 'it',\n",
              " 'has',\n",
              " 'to',\n",
              " 'be',\n",
              " 'dragged',\n",
              " 'down',\n",
              " 'because',\n",
              " 'of',\n",
              " 'this',\n",
              " 'trash',\n",
              " 'that',\n",
              " 'belongs',\n",
              " 'in',\n",
              " 'the',\n",
              " 'bin',\n",
              " '',\n",
              " 'they',\n",
              " 'shouldn',\n",
              " 't',\n",
              " 'have',\n",
              " 'even',\n",
              " 'bothered',\n",
              " 'making',\n",
              " 'this',\n",
              " 'film',\n",
              " '',\n",
              " 'nor',\n",
              " 'any',\n",
              " 'of',\n",
              " 'the',\n",
              " 'other',\n",
              " 'sequels',\n",
              " '',\n",
              " 'except',\n",
              " 'the',\n",
              " 'third',\n",
              " 'one',\n",
              " '',\n",
              " 'the',\n",
              " 'third',\n",
              " 'one',\n",
              " 's',\n",
              " 'the',\n",
              " 'only',\n",
              " 'decent',\n",
              " 'one',\n",
              " 'out',\n",
              " 'of',\n",
              " 'all',\n",
              " 'the',\n",
              " 'sequels',\n",
              " '',\n",
              " 'br',\n",
              " '',\n",
              " '',\n",
              " '',\n",
              " 'br',\n",
              " '',\n",
              " '',\n",
              " 'if',\n",
              " 'this',\n",
              " 'was',\n",
              " 'a',\n",
              " 'dvd',\n",
              " 'by',\n",
              " 'itself',\n",
              " 'and',\n",
              " 'not',\n",
              " 'part',\n",
              " 'of',\n",
              " 'the',\n",
              " 'nightmare',\n",
              " 'on',\n",
              " 'elm',\n",
              " 'street',\n",
              " 'dvd',\n",
              " 'set',\n",
              " 'that',\n",
              " 'i',\n",
              " 'got',\n",
              " '',\n",
              " 'i',\n",
              " 'would',\n",
              " 'have',\n",
              " 'chucked',\n",
              " 'it',\n",
              " 'out',\n",
              " 'when',\n",
              " 'i',\n",
              " 'got',\n",
              " 'it',\n",
              " '',\n",
              " 'br',\n",
              " '',\n",
              " '',\n",
              " '',\n",
              " 'br',\n",
              " '',\n",
              " '',\n",
              " 'summary',\n",
              " '',\n",
              " 'a',\n",
              " 'pathetic',\n",
              " 'and',\n",
              " 'poor',\n",
              " 'attempt',\n",
              " 'at',\n",
              " 'a',\n",
              " 'sequel',\n",
              " '',\n",
              " 'br',\n",
              " '',\n",
              " '',\n",
              " '',\n",
              " 'br',\n",
              " '',\n",
              " '',\n",
              " '',\n",
              " '',\n",
              " 'a',\n",
              " 'complete',\n",
              " 'mockery',\n",
              " 'of',\n",
              " 'the',\n",
              " 'first',\n",
              " 'film',\n",
              " '',\n",
              " 'br',\n",
              " '',\n",
              " '',\n",
              " '',\n",
              " 'br',\n",
              " '',\n",
              " '',\n",
              " 'so',\n",
              " 'please',\n",
              " '',\n",
              " 'don',\n",
              " 't',\n",
              " 'waste',\n",
              " 'your',\n",
              " 'time',\n",
              " 'on',\n",
              " 'this',\n",
              " 'worthless',\n",
              " 'junk',\n",
              " '']"
            ]
          },
          "metadata": {
            "tags": []
          },
          "execution_count": 13
        }
      ]
    },
    {
      "cell_type": "code",
      "metadata": {
        "id": "-tuJZjpoCNqN"
      },
      "source": [
        "#remove stopwords\n",
        "from nltk.corpus import stopwords\n",
        "stop_words = set(stopwords.words(\"english\"))"
      ],
      "execution_count": null,
      "outputs": []
    },
    {
      "cell_type": "code",
      "metadata": {
        "id": "cQhFcoQ6CNqN"
      },
      "source": [
        "#Adding custom stop words\n",
        "new_words=[]\n",
        "new_words = [\"some\",\"one\",\"like\",\"time\",\"br\",\"movie\",\"film\",\"could\",\"good\",'even', 'get', 'would',\n",
        "             'make', 'really', 'see', 'well', 'much', 'great', 'first', 'people', 'also', 'bad', \n",
        "             'show', 'way', 'thing', 'made', 'go', 'think', 'know', 'watch','look','many']\n",
        "stop_words = stop_words.union(new_words)"
      ],
      "execution_count": null,
      "outputs": []
    },
    {
      "cell_type": "code",
      "metadata": {
        "id": "zfV4gqrcCNqO",
        "outputId": "eae54b1b-68d1-4ec5-e605-8b1444181aad"
      },
      "source": [
        "#Removing stop words from a text\n",
        "token_review = [w for w in token_review if not w in stop_words]\n",
        "print(token_review[:20])"
      ],
      "execution_count": null,
      "outputs": [
        {
          "output_type": "stream",
          "text": [
            "['series', 'brilliant', '', 'easily', 'best', 'horror', 'films', '', 'crappiest', '', 'sat', '', 'actually', 'thinking', 'fourth', 'fifth', 'ones', '', 'previous', 'terrible']\n"
          ],
          "name": "stdout"
        }
      ]
    },
    {
      "cell_type": "code",
      "metadata": {
        "id": "FwY5U3W0CNqO",
        "outputId": "ad946f44-469d-4e90-ab81-217936f4f37b"
      },
      "source": [
        "#Stemming words\n",
        "from nltk.stem.porter import PorterStemmer\n",
        "porter = PorterStemmer()\n",
        "stemmed = [porter.stem(word) for word in token_review]\n",
        "print(stemmed[:20])"
      ],
      "execution_count": null,
      "outputs": [
        {
          "output_type": "stream",
          "text": [
            "['seri', 'brilliant', '', 'easili', 'best', 'horror', 'film', '', 'crappiest', '', 'sat', '', 'actual', 'think', 'fourth', 'fifth', 'one', '', 'previou', 'terribl']\n"
          ],
          "name": "stdout"
        }
      ]
    },
    {
      "cell_type": "code",
      "metadata": {
        "id": "bpg61qW6CNqP",
        "outputId": "fb96d87d-70ce-4601-f74b-6c160251b8d0"
      },
      "source": [
        "#Lemmatisation\n",
        "from nltk.stem.wordnet import WordNetLemmatizer \n",
        "lm = WordNetLemmatizer() \n",
        "lm_review = [lm.lemmatize(word) for word in token_review]\n",
        "print(lm_review[:20])  "
      ],
      "execution_count": null,
      "outputs": [
        {
          "output_type": "stream",
          "text": [
            "['series', 'brilliant', '', 'easily', 'best', 'horror', 'film', '', 'crappiest', '', 'sat', '', 'actually', 'thinking', 'fourth', 'fifth', 'one', '', 'previous', 'terrible']\n"
          ],
          "name": "stdout"
        }
      ]
    },
    {
      "cell_type": "code",
      "metadata": {
        "id": "FVeo3nbSCNqP",
        "outputId": "c44c949f-d8fc-491e-ba9f-6898b0dd2b11"
      },
      "source": [
        "#Number of reviews\n",
        "movie.shape[0]"
      ],
      "execution_count": null,
      "outputs": [
        {
          "output_type": "execute_result",
          "data": {
            "text/plain": [
              "5000"
            ]
          },
          "metadata": {
            "tags": []
          },
          "execution_count": 19
        }
      ]
    },
    {
      "cell_type": "markdown",
      "metadata": {
        "id": "CHvk04oLCNqP"
      },
      "source": [
        "## Perform text pre-processing in a loop for the whole corpus"
      ]
    },
    {
      "cell_type": "code",
      "metadata": {
        "id": "dQMpOmlxCNqQ"
      },
      "source": [
        "corpus = []\n",
        "for i in range(0, movie.shape[0]):\n",
        "    #Remove punctuations\n",
        "    text = re.sub('[^a-zA-Z]', ' ', movie['review'][i])\n",
        "    \n",
        "    #Convert to lowercase\n",
        "    text = text.lower()\n",
        "    ##Convert to list from string\n",
        "    text = text.split()\n",
        "    ##Lemmatizing\n",
        "    lm = WordNetLemmatizer() \n",
        "       \n",
        "    \n",
        "    text = [lm.lemmatize(word) for word in text if not word in stop_words] \n",
        "    text = \" \".join(text)\n",
        "    corpus.append(text)"
      ],
      "execution_count": null,
      "outputs": []
    },
    {
      "cell_type": "code",
      "metadata": {
        "id": "Ty28iZ9wCNqQ",
        "outputId": "327e3af6-e0b2-41f6-9e0c-83286882a044"
      },
      "source": [
        "corpus[300]"
      ],
      "execution_count": null,
      "outputs": [
        {
          "output_type": "execute_result",
          "data": {
            "text/plain": [
              "'hardly compare space adventure star war star trek fan star trek recognize pale comparison series trekkies ooze fact place back future better light term space travel story boy captured space raider pirate obviously fake unentertaining battle captured boy befriends pirate help slowly raider die end boy get return home last remaining pirate escape gravely wounded acting obvious total lack interesting dialogue effect storyline got minute beyond want take shot involves space ahead warned'"
            ]
          },
          "metadata": {
            "tags": []
          },
          "execution_count": 21
        }
      ]
    },
    {
      "cell_type": "markdown",
      "metadata": {
        "id": "N1k_JuveCNqR"
      },
      "source": [
        "## Creating the term document matrix - toy data"
      ]
    },
    {
      "cell_type": "code",
      "metadata": {
        "id": "QJ6X-UOwCNqR"
      },
      "source": [
        "from sklearn.feature_extraction.text import CountVectorizer\n",
        "import re"
      ],
      "execution_count": null,
      "outputs": []
    },
    {
      "cell_type": "code",
      "metadata": {
        "id": "EeW7jX2ECNqR"
      },
      "source": [
        "#Lets understand count vectoriser\n",
        "cv1 = CountVectorizer()"
      ],
      "execution_count": null,
      "outputs": []
    },
    {
      "cell_type": "code",
      "metadata": {
        "id": "Pfy12IvSCNqS",
        "outputId": "985211a7-adcd-4764-9a15-2186f9e0c5d2"
      },
      "source": [
        "#Use fit transform to transform a text corpus to a count vectoriser\n",
        "test_cv = cv1.fit_transform([\"A wonderful production\", \n",
        "                            \"This was a wonderful way\", \n",
        "                            \"wonderful portrait about human relations\"])\n",
        "\n",
        "test_cv"
      ],
      "execution_count": null,
      "outputs": [
        {
          "output_type": "execute_result",
          "data": {
            "text/plain": [
              "<3x9 sparse matrix of type '<class 'numpy.int64'>'\n",
              "\twith 11 stored elements in Compressed Sparse Row format>"
            ]
          },
          "metadata": {
            "tags": []
          },
          "execution_count": 70
        }
      ]
    },
    {
      "cell_type": "code",
      "metadata": {
        "id": "JkxVdOkJCNqS",
        "outputId": "c7e2e2e1-f37b-482d-a6f2-be2458dde343"
      },
      "source": [
        "#View cv as an array\n",
        "count_vect_array1 = test_cv.toarray()\n",
        "count_vect_array1"
      ],
      "execution_count": null,
      "outputs": [
        {
          "output_type": "execute_result",
          "data": {
            "text/plain": [
              "array([[0, 0, 0, 1, 0, 0, 0, 0, 1],\n",
              "       [0, 0, 0, 0, 0, 1, 1, 1, 1],\n",
              "       [1, 1, 1, 0, 1, 0, 0, 0, 1]], dtype=int64)"
            ]
          },
          "metadata": {
            "tags": []
          },
          "execution_count": 74
        }
      ]
    },
    {
      "cell_type": "code",
      "metadata": {
        "id": "xbRamGWTCNqT",
        "outputId": "33828142-b7e0-45ce-93a4-73f7a43e47d8"
      },
      "source": [
        "#Get the feature names of cv\n",
        "cv1.get_feature_names()"
      ],
      "execution_count": null,
      "outputs": [
        {
          "output_type": "execute_result",
          "data": {
            "text/plain": [
              "['about',\n",
              " 'human',\n",
              " 'portrait',\n",
              " 'production',\n",
              " 'relations',\n",
              " 'this',\n",
              " 'was',\n",
              " 'way',\n",
              " 'wonderful']"
            ]
          },
          "metadata": {
            "tags": []
          },
          "execution_count": 75
        }
      ]
    },
    {
      "cell_type": "code",
      "metadata": {
        "id": "lVzNu-caCNqT",
        "outputId": "7df5a4a3-24e0-4b9a-92e6-cf741c316546"
      },
      "source": [
        "### Convert to dataframe\n",
        "\n",
        "count_vect_df1 = pd.DataFrame(count_vect_array1, columns=cv1.get_feature_names())\n",
        "count_vect_df1"
      ],
      "execution_count": null,
      "outputs": [
        {
          "output_type": "execute_result",
          "data": {
            "text/html": [
              "<div>\n",
              "<style scoped>\n",
              "    .dataframe tbody tr th:only-of-type {\n",
              "        vertical-align: middle;\n",
              "    }\n",
              "\n",
              "    .dataframe tbody tr th {\n",
              "        vertical-align: top;\n",
              "    }\n",
              "\n",
              "    .dataframe thead th {\n",
              "        text-align: right;\n",
              "    }\n",
              "</style>\n",
              "<table border=\"1\" class=\"dataframe\">\n",
              "  <thead>\n",
              "    <tr style=\"text-align: right;\">\n",
              "      <th></th>\n",
              "      <th>about</th>\n",
              "      <th>human</th>\n",
              "      <th>portrait</th>\n",
              "      <th>production</th>\n",
              "      <th>relations</th>\n",
              "      <th>this</th>\n",
              "      <th>was</th>\n",
              "      <th>way</th>\n",
              "      <th>wonderful</th>\n",
              "    </tr>\n",
              "  </thead>\n",
              "  <tbody>\n",
              "    <tr>\n",
              "      <th>0</th>\n",
              "      <td>0</td>\n",
              "      <td>0</td>\n",
              "      <td>0</td>\n",
              "      <td>1</td>\n",
              "      <td>0</td>\n",
              "      <td>0</td>\n",
              "      <td>0</td>\n",
              "      <td>0</td>\n",
              "      <td>1</td>\n",
              "    </tr>\n",
              "    <tr>\n",
              "      <th>1</th>\n",
              "      <td>0</td>\n",
              "      <td>0</td>\n",
              "      <td>0</td>\n",
              "      <td>0</td>\n",
              "      <td>0</td>\n",
              "      <td>1</td>\n",
              "      <td>1</td>\n",
              "      <td>1</td>\n",
              "      <td>1</td>\n",
              "    </tr>\n",
              "    <tr>\n",
              "      <th>2</th>\n",
              "      <td>1</td>\n",
              "      <td>1</td>\n",
              "      <td>1</td>\n",
              "      <td>0</td>\n",
              "      <td>1</td>\n",
              "      <td>0</td>\n",
              "      <td>0</td>\n",
              "      <td>0</td>\n",
              "      <td>1</td>\n",
              "    </tr>\n",
              "  </tbody>\n",
              "</table>\n",
              "</div>"
            ],
            "text/plain": [
              "   about  human  portrait  production  relations  this  was  way  wonderful\n",
              "0      0      0         0           1          0     0    0    0          1\n",
              "1      0      0         0           0          0     1    1    1          1\n",
              "2      1      1         1           0          1     0    0    0          1"
            ]
          },
          "metadata": {
            "tags": []
          },
          "execution_count": 78
        }
      ]
    },
    {
      "cell_type": "code",
      "metadata": {
        "id": "fdhyvM1yCNqT",
        "outputId": "07375a75-733c-42e6-cfec-f1e23f72bc47"
      },
      "source": [
        "#How to get the word frequency for each term in the vocabulary\n",
        "count_vect_df1.sum(axis=0)"
      ],
      "execution_count": null,
      "outputs": [
        {
          "output_type": "execute_result",
          "data": {
            "text/plain": [
              "about         1\n",
              "human         1\n",
              "portrait      1\n",
              "production    1\n",
              "relations     1\n",
              "this          1\n",
              "was           1\n",
              "way           1\n",
              "wonderful     3\n",
              "dtype: int64"
            ]
          },
          "metadata": {
            "tags": []
          },
          "execution_count": 79
        }
      ]
    },
    {
      "cell_type": "markdown",
      "metadata": {
        "id": "DBYE6rVdCNqU"
      },
      "source": [
        "### Creating N-grams"
      ]
    },
    {
      "cell_type": "code",
      "metadata": {
        "id": "Rd9LXK6RCNqU"
      },
      "source": [
        "#Tokenize\n",
        "from nltk import word_tokenize \n",
        "tokens = word_tokenize(movie['review'][1])\n"
      ],
      "execution_count": null,
      "outputs": []
    },
    {
      "cell_type": "code",
      "metadata": {
        "id": "cgstD91qCNqU"
      },
      "source": [
        "from nltk.util import ngrams\n",
        "bigrams = ngrams(tokens, 2)"
      ],
      "execution_count": null,
      "outputs": []
    },
    {
      "cell_type": "code",
      "metadata": {
        "id": "WtxfSkzDCNqV",
        "outputId": "627e51ce-420a-45d2-a182-c1b9d7250d07"
      },
      "source": [
        "for b in bigrams:\n",
        "    print(b)"
      ],
      "execution_count": null,
      "outputs": [
        {
          "output_type": "stream",
          "text": [
            "('The', 'first')\n",
            "('first', 'in')\n",
            "('in', 'the')\n",
            "('the', 'series')\n",
            "('series', 'was')\n",
            "('was', 'brilliant')\n",
            "('brilliant', ',')\n",
            "(',', 'easily')\n",
            "('easily', 'one')\n",
            "('one', 'of')\n",
            "('of', 'the')\n",
            "('the', 'best')\n",
            "('best', 'Horror')\n",
            "('Horror', 'films')\n",
            "('films', 'of')\n",
            "('of', 'all')\n",
            "('all', 'time')\n",
            "('time', '.')\n",
            "('.', 'This')\n",
            "('This', 'is')\n",
            "('is', 'the')\n",
            "('the', 'crappiest')\n",
            "('crappiest', '.')\n",
            "('.', 'When')\n",
            "('When', 'I')\n",
            "('I', 'sat')\n",
            "('sat', 'down')\n",
            "('down', 'to')\n",
            "('to', 'watch')\n",
            "('watch', 'this')\n",
            "('this', ',')\n",
            "(',', 'I')\n",
            "('I', 'was')\n",
            "('was', 'actually')\n",
            "('actually', 'thinking')\n",
            "('thinking', 'that')\n",
            "('that', 'how')\n",
            "('how', 'bad')\n",
            "('bad', 'the')\n",
            "('the', 'fourth')\n",
            "('fourth', 'and')\n",
            "('and', 'fifth')\n",
            "('fifth', 'ones')\n",
            "('ones', 'were')\n",
            "('were', ',')\n",
            "(',', 'this')\n",
            "('this', 'would')\n",
            "('would', 'have')\n",
            "('have', 'to')\n",
            "('to', 'be')\n",
            "('be', 'good')\n",
            "('good', 'after')\n",
            "('after', 'the')\n",
            "('the', 'previous')\n",
            "('previous', 'terrible')\n",
            "('terrible', 'ones')\n",
            "('ones', '.')\n",
            "('.', 'Boy')\n",
            "('Boy', 'was')\n",
            "('was', 'I')\n",
            "('I', 'wrong')\n",
            "('wrong', '.')\n",
            "('.', 'Incredibly')\n",
            "('Incredibly', 'wrong.')\n",
            "('wrong.', '<')\n",
            "('<', 'br')\n",
            "('br', '/')\n",
            "('/', '>')\n",
            "('>', '<')\n",
            "('<', 'br')\n",
            "('br', '/')\n",
            "('/', '>')\n",
            "('>', 'When')\n",
            "('When', 'I')\n",
            "('I', 'watched')\n",
            "('watched', 'the')\n",
            "('the', 'first')\n",
            "('first', 'ten')\n",
            "('ten', 'minutes')\n",
            "('minutes', 'of')\n",
            "('of', 'it')\n",
            "('it', ',')\n",
            "(',', 'I')\n",
            "('I', 'was')\n",
            "('was', 'actually')\n",
            "('actually', 'really')\n",
            "('really', 'tempted')\n",
            "('tempted', 'to')\n",
            "('to', 'turn')\n",
            "('turn', 'it')\n",
            "('it', 'off')\n",
            "('off', ',')\n",
            "(',', 'but')\n",
            "('but', 'I')\n",
            "('I', 'thought')\n",
            "('thought', 'no')\n",
            "('no', ',')\n",
            "(',', 'maybe')\n",
            "('maybe', 'it')\n",
            "('it', \"'ll\")\n",
            "(\"'ll\", 'improve')\n",
            "('improve', '.')\n",
            "('.', 'It')\n",
            "('It', \"didn't.\")\n",
            "(\"didn't.\", '<')\n",
            "('<', 'br')\n",
            "('br', '/')\n",
            "('/', '>')\n",
            "('>', '<')\n",
            "('<', 'br')\n",
            "('br', '/')\n",
            "('/', '>')\n",
            "('>', 'Not')\n",
            "('Not', 'only')\n",
            "('only', 'is')\n",
            "('is', 'this')\n",
            "('this', 'just')\n",
            "('just', 'a')\n",
            "('a', 'dire')\n",
            "('dire', 'film')\n",
            "('film', 'by')\n",
            "('by', 'itself')\n",
            "('itself', ',')\n",
            "(',', 'it')\n",
            "('it', 'did')\n",
            "('did', \"n't\")\n",
            "(\"n't\", 'need')\n",
            "('need', 'another')\n",
            "('another', 'sequel')\n",
            "('sequel', ',')\n",
            "(',', 'because')\n",
            "('because', 'the')\n",
            "('the', 'last')\n",
            "('last', 'two')\n",
            "('two', '(')\n",
            "('(', 'fourth')\n",
            "('fourth', 'and')\n",
            "('and', 'fifth')\n",
            "('fifth', ')')\n",
            "(')', 'had')\n",
            "('had', 'already')\n",
            "('already', 'been')\n",
            "('been', 'terrible')\n",
            "('terrible', 'enough')\n",
            "('enough', '!')\n",
            "('!', 'Also')\n",
            "('Also', ',')\n",
            "(',', 'how')\n",
            "('how', 'many')\n",
            "('many', 'times')\n",
            "('times', 'can')\n",
            "('can', 'you')\n",
            "('you', 'bring')\n",
            "('bring', 'Freddy')\n",
            "('Freddy', 'back')\n",
            "('back', '!')\n",
            "('!', '?')\n",
            "('?', 'The')\n",
            "('The', 'acting')\n",
            "('acting', 'in')\n",
            "('in', 'it')\n",
            "('it', 'was')\n",
            "('was', 'TERRIBLE')\n",
            "('TERRIBLE', ',')\n",
            "(',', 'the')\n",
            "('the', 'story-line')\n",
            "('story-line', 'was')\n",
            "('was', 'predictable')\n",
            "('predictable', 'and')\n",
            "('and', 'crap')\n",
            "('crap', 'and')\n",
            "('and', 'it')\n",
            "('it', 'also')\n",
            "('also', 'had')\n",
            "('had', 'flaws')\n",
            "('flaws', 'in')\n",
            "('in', 'it')\n",
            "('it', 'as')\n",
            "('as', 'well')\n",
            "('well', '.')\n",
            "('.', 'The')\n",
            "('The', 'way')\n",
            "('way', 'they')\n",
            "('they', 'made')\n",
            "('made', 'Springwood')\n",
            "('Springwood', 'was')\n",
            "('was', 'just')\n",
            "('just', 'totally')\n",
            "('totally', 'wrong')\n",
            "('wrong', '.')\n",
            "('.', 'Pays')\n",
            "('Pays', 'no')\n",
            "('no', 'respect')\n",
            "('respect', 'to')\n",
            "('to', 'the')\n",
            "('the', 'first')\n",
            "('first', 'one')\n",
            "('one', 'at-all')\n",
            "('at-all', '.')\n",
            "('.', 'To')\n",
            "('To', 'add')\n",
            "('add', 'to')\n",
            "('to', 'this')\n",
            "('this', ',')\n",
            "(',', 'the')\n",
            "('the', 'whole')\n",
            "('whole', 'thing')\n",
            "('thing', 'seemed')\n",
            "('seemed', 'really')\n",
            "('really', 'over-the-top.')\n",
            "('over-the-top.', '<')\n",
            "('<', 'br')\n",
            "('br', '/')\n",
            "('/', '>')\n",
            "('>', '<')\n",
            "('<', 'br')\n",
            "('br', '/')\n",
            "('/', '>')\n",
            "('>', 'Some')\n",
            "('Some', 'people')\n",
            "('people', 'are')\n",
            "('are', 'saying')\n",
            "('saying', 'that')\n",
            "('that', 'this')\n",
            "('this', 'film')\n",
            "('film', 'was')\n",
            "('was', '``')\n",
            "('``', 'funny')\n",
            "('funny', \"''\")\n",
            "(\"''\", '.')\n",
            "('.', 'This')\n",
            "('This', 'film')\n",
            "('film', 'is')\n",
            "('is', 'not')\n",
            "('not', '``')\n",
            "('``', 'funny')\n",
            "('funny', \"''\")\n",
            "(\"''\", 'at')\n",
            "('at', 'all')\n",
            "('all', '.')\n",
            "('.', 'Since')\n",
            "('Since', 'when')\n",
            "('when', 'is')\n",
            "('is', 'Freddy')\n",
            "('Freddy', 'Krueger')\n",
            "('Krueger', 'supposed')\n",
            "('supposed', 'to')\n",
            "('to', 'be')\n",
            "('be', '``')\n",
            "('``', 'funny')\n",
            "('funny', \"''\")\n",
            "(\"''\", '?')\n",
            "('?', 'I')\n",
            "('I', 'would')\n",
            "('would', 'call')\n",
            "('call', 'it')\n",
            "('it', 'funnily')\n",
            "('funnily', 'crap')\n",
            "('crap', '.')\n",
            "('.', 'This')\n",
            "('This', 'film')\n",
            "('film', 'is')\n",
            "('is', 'supposed')\n",
            "('supposed', 'to')\n",
            "('to', 'be')\n",
            "('be', 'a')\n",
            "('a', 'Horror')\n",
            "('Horror', 'film')\n",
            "('film', ',')\n",
            "(',', 'not')\n",
            "('not', 'a')\n",
            "('a', 'comedy')\n",
            "('comedy', '.')\n",
            "('.', 'If')\n",
            "('If', 'Freddy')\n",
            "('Freddy', 'had')\n",
            "('had', 'a')\n",
            "('a', 'daughter')\n",
            "('daughter', ',')\n",
            "(',', 'would')\n",
            "('would', \"n't\")\n",
            "(\"n't\", 'that')\n",
            "('that', 'information')\n",
            "('information', 'have')\n",
            "('have', 'surfaced')\n",
            "('surfaced', 'like')\n",
            "('like', 'in')\n",
            "('in', 'the')\n",
            "('the', 'first')\n",
            "('first', 'one')\n",
            "('one', '!')\n",
            "('!', '?')\n",
            "('?', 'The')\n",
            "('The', 'ending')\n",
            "('ending', 'was')\n",
            "('was', 'also')\n",
            "('also', 'just')\n",
            "('just', 'plain')\n",
            "('plain', 'stupid')\n",
            "('stupid', 'and')\n",
            "('and', 'cheesy')\n",
            "('cheesy', ',')\n",
            "(',', 'exactly')\n",
            "('exactly', 'like')\n",
            "('like', 'the')\n",
            "('the', 'rest')\n",
            "('rest', 'of')\n",
            "('of', 'it')\n",
            "('it', '.')\n",
            "('.', 'This')\n",
            "('This', 'one')\n",
            "('one', 'completely')\n",
            "('completely', 'destroys')\n",
            "('destroys', 'the')\n",
            "('the', 'essence')\n",
            "('essence', 'and')\n",
            "('and', 'uniqueness')\n",
            "('uniqueness', 'of')\n",
            "('of', 'the')\n",
            "('the', 'first')\n",
            "('first', 'one')\n",
            "('one', '.')\n",
            "('.', 'Just')\n",
            "('Just', 'shows')\n",
            "('shows', 'itself')\n",
            "('itself', 'up.')\n",
            "('up.', '<')\n",
            "('<', 'br')\n",
            "('br', '/')\n",
            "('/', '>')\n",
            "('>', '<')\n",
            "('<', 'br')\n",
            "('br', '/')\n",
            "('/', '>')\n",
            "('>', 'Such')\n",
            "('Such', 'a')\n",
            "('a', 'shame')\n",
            "('shame', 'that')\n",
            "('that', 'Wes')\n",
            "('Wes', 'Craven')\n",
            "('Craven', 'created')\n",
            "('created', 'something')\n",
            "('something', 'so')\n",
            "('so', 'good')\n",
            "('good', 'in')\n",
            "('in', 'the')\n",
            "('the', 'beginning')\n",
            "('beginning', ',')\n",
            "(',', 'yet')\n",
            "('yet', 'it')\n",
            "('it', 'has')\n",
            "('has', 'to')\n",
            "('to', 'be')\n",
            "('be', 'dragged')\n",
            "('dragged', 'down')\n",
            "('down', 'because')\n",
            "('because', 'of')\n",
            "('of', 'this')\n",
            "('this', 'trash')\n",
            "('trash', 'that')\n",
            "('that', 'belongs')\n",
            "('belongs', 'in')\n",
            "('in', 'the')\n",
            "('the', 'bin')\n",
            "('bin', '.')\n",
            "('.', 'They')\n",
            "('They', 'should')\n",
            "('should', \"n't\")\n",
            "(\"n't\", 'have')\n",
            "('have', 'even')\n",
            "('even', 'bothered')\n",
            "('bothered', 'making')\n",
            "('making', 'this')\n",
            "('this', 'film')\n",
            "('film', '.')\n",
            "('.', 'Nor')\n",
            "('Nor', 'any')\n",
            "('any', 'of')\n",
            "('of', 'the')\n",
            "('the', 'other')\n",
            "('other', 'sequels')\n",
            "('sequels', ',')\n",
            "(',', 'except')\n",
            "('except', 'the')\n",
            "('the', 'third')\n",
            "('third', 'one')\n",
            "('one', '.')\n",
            "('.', 'The')\n",
            "('The', 'third')\n",
            "('third', 'one')\n",
            "('one', \"'s\")\n",
            "(\"'s\", 'the')\n",
            "('the', 'only')\n",
            "('only', 'decent')\n",
            "('decent', 'one')\n",
            "('one', 'out')\n",
            "('out', 'of')\n",
            "('of', 'all')\n",
            "('all', 'the')\n",
            "('the', 'sequels.')\n",
            "('sequels.', '<')\n",
            "('<', 'br')\n",
            "('br', '/')\n",
            "('/', '>')\n",
            "('>', '<')\n",
            "('<', 'br')\n",
            "('br', '/')\n",
            "('/', '>')\n",
            "('>', 'If')\n",
            "('If', 'this')\n",
            "('this', 'was')\n",
            "('was', 'a')\n",
            "('a', 'DVD')\n",
            "('DVD', 'by')\n",
            "('by', 'itself')\n",
            "('itself', 'and')\n",
            "('and', 'not')\n",
            "('not', 'part')\n",
            "('part', 'of')\n",
            "('of', 'the')\n",
            "('the', 'Nightmare')\n",
            "('Nightmare', 'On')\n",
            "('On', 'Elm')\n",
            "('Elm', 'Street')\n",
            "('Street', 'DVD')\n",
            "('DVD', 'set')\n",
            "('set', 'that')\n",
            "('that', 'I')\n",
            "('I', 'got')\n",
            "('got', ',')\n",
            "(',', 'I')\n",
            "('I', 'would')\n",
            "('would', 'have')\n",
            "('have', 'chucked')\n",
            "('chucked', 'it')\n",
            "('it', 'out')\n",
            "('out', 'when')\n",
            "('when', 'I')\n",
            "('I', 'got')\n",
            "('got', 'it.')\n",
            "('it.', '<')\n",
            "('<', 'br')\n",
            "('br', '/')\n",
            "('/', '>')\n",
            "('>', '<')\n",
            "('<', 'br')\n",
            "('br', '/')\n",
            "('/', '>')\n",
            "('>', 'Summary')\n",
            "('Summary', ':')\n",
            "(':', 'A')\n",
            "('A', 'pathetic')\n",
            "('pathetic', 'and')\n",
            "('and', 'poor')\n",
            "('poor', 'attempt')\n",
            "('attempt', 'at')\n",
            "('at', 'a')\n",
            "('a', 'sequel.')\n",
            "('sequel.', '<')\n",
            "('<', 'br')\n",
            "('br', '/')\n",
            "('/', '>')\n",
            "('>', '<')\n",
            "('<', 'br')\n",
            "('br', '/')\n",
            "('/', '>')\n",
            "('>', '-')\n",
            "('-', 'a')\n",
            "('a', 'complete')\n",
            "('complete', 'MOCKERY')\n",
            "('MOCKERY', 'of')\n",
            "('of', 'the')\n",
            "('the', 'first')\n",
            "('first', 'film')\n",
            "('film', '<')\n",
            "('<', 'br')\n",
            "('br', '/')\n",
            "('/', '>')\n",
            "('>', '<')\n",
            "('<', 'br')\n",
            "('br', '/')\n",
            "('/', '>')\n",
            "('>', 'So')\n",
            "('So', 'please')\n",
            "('please', ',')\n",
            "(',', 'do')\n",
            "('do', \"n't\")\n",
            "(\"n't\", 'waste')\n",
            "('waste', 'your')\n",
            "('your', 'time')\n",
            "('time', 'on')\n",
            "('on', 'this')\n",
            "('this', 'worthless')\n",
            "('worthless', 'junk')\n",
            "('junk', '.')\n"
          ],
          "name": "stdout"
        }
      ]
    },
    {
      "cell_type": "code",
      "metadata": {
        "id": "bUcPULEdCNqV"
      },
      "source": [
        "trigrams = ngrams(tokens,3)"
      ],
      "execution_count": null,
      "outputs": []
    },
    {
      "cell_type": "code",
      "metadata": {
        "id": "KXICSugQCNqV",
        "outputId": "3ac319a5-fb5f-4d28-be51-8e55495d0c6c"
      },
      "source": [
        "for b in trigrams:\n",
        "    print(b)"
      ],
      "execution_count": null,
      "outputs": [
        {
          "output_type": "stream",
          "text": [
            "('The', 'first', 'in')\n",
            "('first', 'in', 'the')\n",
            "('in', 'the', 'series')\n",
            "('the', 'series', 'was')\n",
            "('series', 'was', 'brilliant')\n",
            "('was', 'brilliant', ',')\n",
            "('brilliant', ',', 'easily')\n",
            "(',', 'easily', 'one')\n",
            "('easily', 'one', 'of')\n",
            "('one', 'of', 'the')\n",
            "('of', 'the', 'best')\n",
            "('the', 'best', 'Horror')\n",
            "('best', 'Horror', 'films')\n",
            "('Horror', 'films', 'of')\n",
            "('films', 'of', 'all')\n",
            "('of', 'all', 'time')\n",
            "('all', 'time', '.')\n",
            "('time', '.', 'This')\n",
            "('.', 'This', 'is')\n",
            "('This', 'is', 'the')\n",
            "('is', 'the', 'crappiest')\n",
            "('the', 'crappiest', '.')\n",
            "('crappiest', '.', 'When')\n",
            "('.', 'When', 'I')\n",
            "('When', 'I', 'sat')\n",
            "('I', 'sat', 'down')\n",
            "('sat', 'down', 'to')\n",
            "('down', 'to', 'watch')\n",
            "('to', 'watch', 'this')\n",
            "('watch', 'this', ',')\n",
            "('this', ',', 'I')\n",
            "(',', 'I', 'was')\n",
            "('I', 'was', 'actually')\n",
            "('was', 'actually', 'thinking')\n",
            "('actually', 'thinking', 'that')\n",
            "('thinking', 'that', 'how')\n",
            "('that', 'how', 'bad')\n",
            "('how', 'bad', 'the')\n",
            "('bad', 'the', 'fourth')\n",
            "('the', 'fourth', 'and')\n",
            "('fourth', 'and', 'fifth')\n",
            "('and', 'fifth', 'ones')\n",
            "('fifth', 'ones', 'were')\n",
            "('ones', 'were', ',')\n",
            "('were', ',', 'this')\n",
            "(',', 'this', 'would')\n",
            "('this', 'would', 'have')\n",
            "('would', 'have', 'to')\n",
            "('have', 'to', 'be')\n",
            "('to', 'be', 'good')\n",
            "('be', 'good', 'after')\n",
            "('good', 'after', 'the')\n",
            "('after', 'the', 'previous')\n",
            "('the', 'previous', 'terrible')\n",
            "('previous', 'terrible', 'ones')\n",
            "('terrible', 'ones', '.')\n",
            "('ones', '.', 'Boy')\n",
            "('.', 'Boy', 'was')\n",
            "('Boy', 'was', 'I')\n",
            "('was', 'I', 'wrong')\n",
            "('I', 'wrong', '.')\n",
            "('wrong', '.', 'Incredibly')\n",
            "('.', 'Incredibly', 'wrong.')\n",
            "('Incredibly', 'wrong.', '<')\n",
            "('wrong.', '<', 'br')\n",
            "('<', 'br', '/')\n",
            "('br', '/', '>')\n",
            "('/', '>', '<')\n",
            "('>', '<', 'br')\n",
            "('<', 'br', '/')\n",
            "('br', '/', '>')\n",
            "('/', '>', 'When')\n",
            "('>', 'When', 'I')\n",
            "('When', 'I', 'watched')\n",
            "('I', 'watched', 'the')\n",
            "('watched', 'the', 'first')\n",
            "('the', 'first', 'ten')\n",
            "('first', 'ten', 'minutes')\n",
            "('ten', 'minutes', 'of')\n",
            "('minutes', 'of', 'it')\n",
            "('of', 'it', ',')\n",
            "('it', ',', 'I')\n",
            "(',', 'I', 'was')\n",
            "('I', 'was', 'actually')\n",
            "('was', 'actually', 'really')\n",
            "('actually', 'really', 'tempted')\n",
            "('really', 'tempted', 'to')\n",
            "('tempted', 'to', 'turn')\n",
            "('to', 'turn', 'it')\n",
            "('turn', 'it', 'off')\n",
            "('it', 'off', ',')\n",
            "('off', ',', 'but')\n",
            "(',', 'but', 'I')\n",
            "('but', 'I', 'thought')\n",
            "('I', 'thought', 'no')\n",
            "('thought', 'no', ',')\n",
            "('no', ',', 'maybe')\n",
            "(',', 'maybe', 'it')\n",
            "('maybe', 'it', \"'ll\")\n",
            "('it', \"'ll\", 'improve')\n",
            "(\"'ll\", 'improve', '.')\n",
            "('improve', '.', 'It')\n",
            "('.', 'It', \"didn't.\")\n",
            "('It', \"didn't.\", '<')\n",
            "(\"didn't.\", '<', 'br')\n",
            "('<', 'br', '/')\n",
            "('br', '/', '>')\n",
            "('/', '>', '<')\n",
            "('>', '<', 'br')\n",
            "('<', 'br', '/')\n",
            "('br', '/', '>')\n",
            "('/', '>', 'Not')\n",
            "('>', 'Not', 'only')\n",
            "('Not', 'only', 'is')\n",
            "('only', 'is', 'this')\n",
            "('is', 'this', 'just')\n",
            "('this', 'just', 'a')\n",
            "('just', 'a', 'dire')\n",
            "('a', 'dire', 'film')\n",
            "('dire', 'film', 'by')\n",
            "('film', 'by', 'itself')\n",
            "('by', 'itself', ',')\n",
            "('itself', ',', 'it')\n",
            "(',', 'it', 'did')\n",
            "('it', 'did', \"n't\")\n",
            "('did', \"n't\", 'need')\n",
            "(\"n't\", 'need', 'another')\n",
            "('need', 'another', 'sequel')\n",
            "('another', 'sequel', ',')\n",
            "('sequel', ',', 'because')\n",
            "(',', 'because', 'the')\n",
            "('because', 'the', 'last')\n",
            "('the', 'last', 'two')\n",
            "('last', 'two', '(')\n",
            "('two', '(', 'fourth')\n",
            "('(', 'fourth', 'and')\n",
            "('fourth', 'and', 'fifth')\n",
            "('and', 'fifth', ')')\n",
            "('fifth', ')', 'had')\n",
            "(')', 'had', 'already')\n",
            "('had', 'already', 'been')\n",
            "('already', 'been', 'terrible')\n",
            "('been', 'terrible', 'enough')\n",
            "('terrible', 'enough', '!')\n",
            "('enough', '!', 'Also')\n",
            "('!', 'Also', ',')\n",
            "('Also', ',', 'how')\n",
            "(',', 'how', 'many')\n",
            "('how', 'many', 'times')\n",
            "('many', 'times', 'can')\n",
            "('times', 'can', 'you')\n",
            "('can', 'you', 'bring')\n",
            "('you', 'bring', 'Freddy')\n",
            "('bring', 'Freddy', 'back')\n",
            "('Freddy', 'back', '!')\n",
            "('back', '!', '?')\n",
            "('!', '?', 'The')\n",
            "('?', 'The', 'acting')\n",
            "('The', 'acting', 'in')\n",
            "('acting', 'in', 'it')\n",
            "('in', 'it', 'was')\n",
            "('it', 'was', 'TERRIBLE')\n",
            "('was', 'TERRIBLE', ',')\n",
            "('TERRIBLE', ',', 'the')\n",
            "(',', 'the', 'story-line')\n",
            "('the', 'story-line', 'was')\n",
            "('story-line', 'was', 'predictable')\n",
            "('was', 'predictable', 'and')\n",
            "('predictable', 'and', 'crap')\n",
            "('and', 'crap', 'and')\n",
            "('crap', 'and', 'it')\n",
            "('and', 'it', 'also')\n",
            "('it', 'also', 'had')\n",
            "('also', 'had', 'flaws')\n",
            "('had', 'flaws', 'in')\n",
            "('flaws', 'in', 'it')\n",
            "('in', 'it', 'as')\n",
            "('it', 'as', 'well')\n",
            "('as', 'well', '.')\n",
            "('well', '.', 'The')\n",
            "('.', 'The', 'way')\n",
            "('The', 'way', 'they')\n",
            "('way', 'they', 'made')\n",
            "('they', 'made', 'Springwood')\n",
            "('made', 'Springwood', 'was')\n",
            "('Springwood', 'was', 'just')\n",
            "('was', 'just', 'totally')\n",
            "('just', 'totally', 'wrong')\n",
            "('totally', 'wrong', '.')\n",
            "('wrong', '.', 'Pays')\n",
            "('.', 'Pays', 'no')\n",
            "('Pays', 'no', 'respect')\n",
            "('no', 'respect', 'to')\n",
            "('respect', 'to', 'the')\n",
            "('to', 'the', 'first')\n",
            "('the', 'first', 'one')\n",
            "('first', 'one', 'at-all')\n",
            "('one', 'at-all', '.')\n",
            "('at-all', '.', 'To')\n",
            "('.', 'To', 'add')\n",
            "('To', 'add', 'to')\n",
            "('add', 'to', 'this')\n",
            "('to', 'this', ',')\n",
            "('this', ',', 'the')\n",
            "(',', 'the', 'whole')\n",
            "('the', 'whole', 'thing')\n",
            "('whole', 'thing', 'seemed')\n",
            "('thing', 'seemed', 'really')\n",
            "('seemed', 'really', 'over-the-top.')\n",
            "('really', 'over-the-top.', '<')\n",
            "('over-the-top.', '<', 'br')\n",
            "('<', 'br', '/')\n",
            "('br', '/', '>')\n",
            "('/', '>', '<')\n",
            "('>', '<', 'br')\n",
            "('<', 'br', '/')\n",
            "('br', '/', '>')\n",
            "('/', '>', 'Some')\n",
            "('>', 'Some', 'people')\n",
            "('Some', 'people', 'are')\n",
            "('people', 'are', 'saying')\n",
            "('are', 'saying', 'that')\n",
            "('saying', 'that', 'this')\n",
            "('that', 'this', 'film')\n",
            "('this', 'film', 'was')\n",
            "('film', 'was', '``')\n",
            "('was', '``', 'funny')\n",
            "('``', 'funny', \"''\")\n",
            "('funny', \"''\", '.')\n",
            "(\"''\", '.', 'This')\n",
            "('.', 'This', 'film')\n",
            "('This', 'film', 'is')\n",
            "('film', 'is', 'not')\n",
            "('is', 'not', '``')\n",
            "('not', '``', 'funny')\n",
            "('``', 'funny', \"''\")\n",
            "('funny', \"''\", 'at')\n",
            "(\"''\", 'at', 'all')\n",
            "('at', 'all', '.')\n",
            "('all', '.', 'Since')\n",
            "('.', 'Since', 'when')\n",
            "('Since', 'when', 'is')\n",
            "('when', 'is', 'Freddy')\n",
            "('is', 'Freddy', 'Krueger')\n",
            "('Freddy', 'Krueger', 'supposed')\n",
            "('Krueger', 'supposed', 'to')\n",
            "('supposed', 'to', 'be')\n",
            "('to', 'be', '``')\n",
            "('be', '``', 'funny')\n",
            "('``', 'funny', \"''\")\n",
            "('funny', \"''\", '?')\n",
            "(\"''\", '?', 'I')\n",
            "('?', 'I', 'would')\n",
            "('I', 'would', 'call')\n",
            "('would', 'call', 'it')\n",
            "('call', 'it', 'funnily')\n",
            "('it', 'funnily', 'crap')\n",
            "('funnily', 'crap', '.')\n",
            "('crap', '.', 'This')\n",
            "('.', 'This', 'film')\n",
            "('This', 'film', 'is')\n",
            "('film', 'is', 'supposed')\n",
            "('is', 'supposed', 'to')\n",
            "('supposed', 'to', 'be')\n",
            "('to', 'be', 'a')\n",
            "('be', 'a', 'Horror')\n",
            "('a', 'Horror', 'film')\n",
            "('Horror', 'film', ',')\n",
            "('film', ',', 'not')\n",
            "(',', 'not', 'a')\n",
            "('not', 'a', 'comedy')\n",
            "('a', 'comedy', '.')\n",
            "('comedy', '.', 'If')\n",
            "('.', 'If', 'Freddy')\n",
            "('If', 'Freddy', 'had')\n",
            "('Freddy', 'had', 'a')\n",
            "('had', 'a', 'daughter')\n",
            "('a', 'daughter', ',')\n",
            "('daughter', ',', 'would')\n",
            "(',', 'would', \"n't\")\n",
            "('would', \"n't\", 'that')\n",
            "(\"n't\", 'that', 'information')\n",
            "('that', 'information', 'have')\n",
            "('information', 'have', 'surfaced')\n",
            "('have', 'surfaced', 'like')\n",
            "('surfaced', 'like', 'in')\n",
            "('like', 'in', 'the')\n",
            "('in', 'the', 'first')\n",
            "('the', 'first', 'one')\n",
            "('first', 'one', '!')\n",
            "('one', '!', '?')\n",
            "('!', '?', 'The')\n",
            "('?', 'The', 'ending')\n",
            "('The', 'ending', 'was')\n",
            "('ending', 'was', 'also')\n",
            "('was', 'also', 'just')\n",
            "('also', 'just', 'plain')\n",
            "('just', 'plain', 'stupid')\n",
            "('plain', 'stupid', 'and')\n",
            "('stupid', 'and', 'cheesy')\n",
            "('and', 'cheesy', ',')\n",
            "('cheesy', ',', 'exactly')\n",
            "(',', 'exactly', 'like')\n",
            "('exactly', 'like', 'the')\n",
            "('like', 'the', 'rest')\n",
            "('the', 'rest', 'of')\n",
            "('rest', 'of', 'it')\n",
            "('of', 'it', '.')\n",
            "('it', '.', 'This')\n",
            "('.', 'This', 'one')\n",
            "('This', 'one', 'completely')\n",
            "('one', 'completely', 'destroys')\n",
            "('completely', 'destroys', 'the')\n",
            "('destroys', 'the', 'essence')\n",
            "('the', 'essence', 'and')\n",
            "('essence', 'and', 'uniqueness')\n",
            "('and', 'uniqueness', 'of')\n",
            "('uniqueness', 'of', 'the')\n",
            "('of', 'the', 'first')\n",
            "('the', 'first', 'one')\n",
            "('first', 'one', '.')\n",
            "('one', '.', 'Just')\n",
            "('.', 'Just', 'shows')\n",
            "('Just', 'shows', 'itself')\n",
            "('shows', 'itself', 'up.')\n",
            "('itself', 'up.', '<')\n",
            "('up.', '<', 'br')\n",
            "('<', 'br', '/')\n",
            "('br', '/', '>')\n",
            "('/', '>', '<')\n",
            "('>', '<', 'br')\n",
            "('<', 'br', '/')\n",
            "('br', '/', '>')\n",
            "('/', '>', 'Such')\n",
            "('>', 'Such', 'a')\n",
            "('Such', 'a', 'shame')\n",
            "('a', 'shame', 'that')\n",
            "('shame', 'that', 'Wes')\n",
            "('that', 'Wes', 'Craven')\n",
            "('Wes', 'Craven', 'created')\n",
            "('Craven', 'created', 'something')\n",
            "('created', 'something', 'so')\n",
            "('something', 'so', 'good')\n",
            "('so', 'good', 'in')\n",
            "('good', 'in', 'the')\n",
            "('in', 'the', 'beginning')\n",
            "('the', 'beginning', ',')\n",
            "('beginning', ',', 'yet')\n",
            "(',', 'yet', 'it')\n",
            "('yet', 'it', 'has')\n",
            "('it', 'has', 'to')\n",
            "('has', 'to', 'be')\n",
            "('to', 'be', 'dragged')\n",
            "('be', 'dragged', 'down')\n",
            "('dragged', 'down', 'because')\n",
            "('down', 'because', 'of')\n",
            "('because', 'of', 'this')\n",
            "('of', 'this', 'trash')\n",
            "('this', 'trash', 'that')\n",
            "('trash', 'that', 'belongs')\n",
            "('that', 'belongs', 'in')\n",
            "('belongs', 'in', 'the')\n",
            "('in', 'the', 'bin')\n",
            "('the', 'bin', '.')\n",
            "('bin', '.', 'They')\n",
            "('.', 'They', 'should')\n",
            "('They', 'should', \"n't\")\n",
            "('should', \"n't\", 'have')\n",
            "(\"n't\", 'have', 'even')\n",
            "('have', 'even', 'bothered')\n",
            "('even', 'bothered', 'making')\n",
            "('bothered', 'making', 'this')\n",
            "('making', 'this', 'film')\n",
            "('this', 'film', '.')\n",
            "('film', '.', 'Nor')\n",
            "('.', 'Nor', 'any')\n",
            "('Nor', 'any', 'of')\n",
            "('any', 'of', 'the')\n",
            "('of', 'the', 'other')\n",
            "('the', 'other', 'sequels')\n",
            "('other', 'sequels', ',')\n",
            "('sequels', ',', 'except')\n",
            "(',', 'except', 'the')\n",
            "('except', 'the', 'third')\n",
            "('the', 'third', 'one')\n",
            "('third', 'one', '.')\n",
            "('one', '.', 'The')\n",
            "('.', 'The', 'third')\n",
            "('The', 'third', 'one')\n",
            "('third', 'one', \"'s\")\n",
            "('one', \"'s\", 'the')\n",
            "(\"'s\", 'the', 'only')\n",
            "('the', 'only', 'decent')\n",
            "('only', 'decent', 'one')\n",
            "('decent', 'one', 'out')\n",
            "('one', 'out', 'of')\n",
            "('out', 'of', 'all')\n",
            "('of', 'all', 'the')\n",
            "('all', 'the', 'sequels.')\n",
            "('the', 'sequels.', '<')\n",
            "('sequels.', '<', 'br')\n",
            "('<', 'br', '/')\n",
            "('br', '/', '>')\n",
            "('/', '>', '<')\n",
            "('>', '<', 'br')\n",
            "('<', 'br', '/')\n",
            "('br', '/', '>')\n",
            "('/', '>', 'If')\n",
            "('>', 'If', 'this')\n",
            "('If', 'this', 'was')\n",
            "('this', 'was', 'a')\n",
            "('was', 'a', 'DVD')\n",
            "('a', 'DVD', 'by')\n",
            "('DVD', 'by', 'itself')\n",
            "('by', 'itself', 'and')\n",
            "('itself', 'and', 'not')\n",
            "('and', 'not', 'part')\n",
            "('not', 'part', 'of')\n",
            "('part', 'of', 'the')\n",
            "('of', 'the', 'Nightmare')\n",
            "('the', 'Nightmare', 'On')\n",
            "('Nightmare', 'On', 'Elm')\n",
            "('On', 'Elm', 'Street')\n",
            "('Elm', 'Street', 'DVD')\n",
            "('Street', 'DVD', 'set')\n",
            "('DVD', 'set', 'that')\n",
            "('set', 'that', 'I')\n",
            "('that', 'I', 'got')\n",
            "('I', 'got', ',')\n",
            "('got', ',', 'I')\n",
            "(',', 'I', 'would')\n",
            "('I', 'would', 'have')\n",
            "('would', 'have', 'chucked')\n",
            "('have', 'chucked', 'it')\n",
            "('chucked', 'it', 'out')\n",
            "('it', 'out', 'when')\n",
            "('out', 'when', 'I')\n",
            "('when', 'I', 'got')\n",
            "('I', 'got', 'it.')\n",
            "('got', 'it.', '<')\n",
            "('it.', '<', 'br')\n",
            "('<', 'br', '/')\n",
            "('br', '/', '>')\n",
            "('/', '>', '<')\n",
            "('>', '<', 'br')\n",
            "('<', 'br', '/')\n",
            "('br', '/', '>')\n",
            "('/', '>', 'Summary')\n",
            "('>', 'Summary', ':')\n",
            "('Summary', ':', 'A')\n",
            "(':', 'A', 'pathetic')\n",
            "('A', 'pathetic', 'and')\n",
            "('pathetic', 'and', 'poor')\n",
            "('and', 'poor', 'attempt')\n",
            "('poor', 'attempt', 'at')\n",
            "('attempt', 'at', 'a')\n",
            "('at', 'a', 'sequel.')\n",
            "('a', 'sequel.', '<')\n",
            "('sequel.', '<', 'br')\n",
            "('<', 'br', '/')\n",
            "('br', '/', '>')\n",
            "('/', '>', '<')\n",
            "('>', '<', 'br')\n",
            "('<', 'br', '/')\n",
            "('br', '/', '>')\n",
            "('/', '>', '-')\n",
            "('>', '-', 'a')\n",
            "('-', 'a', 'complete')\n",
            "('a', 'complete', 'MOCKERY')\n",
            "('complete', 'MOCKERY', 'of')\n",
            "('MOCKERY', 'of', 'the')\n",
            "('of', 'the', 'first')\n",
            "('the', 'first', 'film')\n",
            "('first', 'film', '<')\n",
            "('film', '<', 'br')\n",
            "('<', 'br', '/')\n",
            "('br', '/', '>')\n",
            "('/', '>', '<')\n",
            "('>', '<', 'br')\n",
            "('<', 'br', '/')\n",
            "('br', '/', '>')\n",
            "('/', '>', 'So')\n",
            "('>', 'So', 'please')\n",
            "('So', 'please', ',')\n",
            "('please', ',', 'do')\n",
            "(',', 'do', \"n't\")\n",
            "('do', \"n't\", 'waste')\n",
            "(\"n't\", 'waste', 'your')\n",
            "('waste', 'your', 'time')\n",
            "('your', 'time', 'on')\n",
            "('time', 'on', 'this')\n",
            "('on', 'this', 'worthless')\n",
            "('this', 'worthless', 'junk')\n",
            "('worthless', 'junk', '.')\n"
          ],
          "name": "stdout"
        }
      ]
    },
    {
      "cell_type": "markdown",
      "metadata": {
        "id": "MjWHpcqlCNqV"
      },
      "source": [
        "# Create a vocabulary of words for the movie reviews"
      ]
    },
    {
      "cell_type": "markdown",
      "metadata": {
        "id": "EyLQqfMaCNqW"
      },
      "source": [
        "### Count vectoriser arguments"
      ]
    },
    {
      "cell_type": "code",
      "metadata": {
        "id": "cOChCr1HCNqW"
      },
      "source": [
        "#eliminate stop words\n",
        "cv=CountVectorizer(stop_words=stop_words)\n",
        "X=cv.fit_transform(corpus)"
      ],
      "execution_count": null,
      "outputs": []
    },
    {
      "cell_type": "code",
      "metadata": {
        "id": "flTjTXXUCNqW",
        "outputId": "57311716-ef1d-4897-c8da-8afdb4fabcf6"
      },
      "source": [
        "print(X.shape)"
      ],
      "execution_count": null,
      "outputs": [
        {
          "output_type": "stream",
          "text": [
            "(5000, 33842)\n"
          ],
          "name": "stdout"
        }
      ]
    },
    {
      "cell_type": "code",
      "metadata": {
        "id": "FctogjUACNqW"
      },
      "source": [
        "#Add N-grams - bigrams and trigrams\n",
        "\n",
        "cv = CountVectorizer(stop_words=stop_words,\n",
        "                    ngram_range=(1,3))\n",
        "\n",
        "X=cv.fit_transform(corpus)"
      ],
      "execution_count": null,
      "outputs": []
    },
    {
      "cell_type": "code",
      "metadata": {
        "id": "x3x4mKSOCNqW",
        "outputId": "0b62b00b-e206-4341-eef0-809dced2dc8c"
      },
      "source": [
        "print(X.shape)"
      ],
      "execution_count": null,
      "outputs": [
        {
          "output_type": "stream",
          "text": [
            "(5000, 924340)\n"
          ],
          "name": "stdout"
        }
      ]
    },
    {
      "cell_type": "markdown",
      "metadata": {
        "id": "ofNK_ap7CNqX"
      },
      "source": [
        "## Note the change in the dimensions of the dataframe (from 33842 to 924340)"
      ]
    },
    {
      "cell_type": "markdown",
      "metadata": {
        "id": "MzvU8ec9CNqX"
      },
      "source": [
        "## How to change the number of words in the vocabulary"
      ]
    },
    {
      "cell_type": "markdown",
      "metadata": {
        "id": "DOEU6X1-CNqX"
      },
      "source": [
        "### Directly provide a dimension using max_features"
      ]
    },
    {
      "cell_type": "code",
      "metadata": {
        "id": "QhPYuNC_CNqX"
      },
      "source": [
        "cv = CountVectorizer(stop_words=stop_words,\n",
        "                    ngram_range=(1,3),\n",
        "                    max_features=10000)\n",
        "\n",
        "X=cv.fit_transform(corpus)"
      ],
      "execution_count": null,
      "outputs": []
    },
    {
      "cell_type": "code",
      "metadata": {
        "id": "vKZ53x6zCNqY",
        "outputId": "90a20cd4-f6f4-4dbb-c240-ea605b9331db"
      },
      "source": [
        "print(X.shape)"
      ],
      "execution_count": null,
      "outputs": [
        {
          "output_type": "stream",
          "text": [
            "(5000, 10000)\n"
          ],
          "name": "stdout"
        }
      ]
    },
    {
      "cell_type": "markdown",
      "metadata": {
        "id": "LN1ru7dbCNqY"
      },
      "source": [
        "### Ignore terms that are present in most documents (custom stopwords) - Using max_df"
      ]
    },
    {
      "cell_type": "code",
      "metadata": {
        "id": "46rD79FQCNqY"
      },
      "source": [
        "cv = CountVectorizer(stop_words=stop_words,\n",
        "                    ngram_range=(1,3),\n",
        "                    max_df=0.7)\n",
        "\n",
        "X=cv.fit_transform(corpus)\n",
        "\n",
        "\n",
        "\n"
      ],
      "execution_count": null,
      "outputs": []
    },
    {
      "cell_type": "code",
      "metadata": {
        "id": "UJlROecgCNqY",
        "outputId": "c06a7c31-0737-441f-818d-a0f2a194fa95"
      },
      "source": [
        "print(X.shape)"
      ],
      "execution_count": null,
      "outputs": [
        {
          "output_type": "stream",
          "text": [
            "(5000, 924340)\n"
          ],
          "name": "stdout"
        }
      ]
    },
    {
      "cell_type": "markdown",
      "metadata": {
        "id": "WCKFT225CNqZ"
      },
      "source": [
        "### Ignore terms that are rare in the corpus - Using min_df"
      ]
    },
    {
      "cell_type": "code",
      "metadata": {
        "id": "yi5UOzLyCNqZ"
      },
      "source": [
        "cv = CountVectorizer(stop_words=stop_words,\n",
        "                    ngram_range=(1,3),\n",
        "                    min_df=0.001)\n",
        "\n",
        "X=cv.fit_transform(corpus)"
      ],
      "execution_count": null,
      "outputs": []
    },
    {
      "cell_type": "code",
      "metadata": {
        "id": "UPfRVaMpCNqZ",
        "outputId": "9f8eb61d-f2c6-4f2f-95de-8dbb4086ba5c"
      },
      "source": [
        "print(X.shape)"
      ],
      "execution_count": null,
      "outputs": [
        {
          "output_type": "stream",
          "text": [
            "(5000, 14300)\n"
          ],
          "name": "stdout"
        }
      ]
    },
    {
      "cell_type": "markdown",
      "metadata": {
        "id": "M9qS39g5CNqa"
      },
      "source": [
        "### Let us view a part of the DTM"
      ]
    },
    {
      "cell_type": "code",
      "metadata": {
        "id": "irHgD6ikCNqa",
        "outputId": "7246ef7e-d971-46dc-e710-2dd7d1922181"
      },
      "source": [
        "count_vect_array = X.toarray()\n",
        "\n",
        "\n",
        "### Convert to dataframe\n",
        "\n",
        "count_vect_df = pd.DataFrame(count_vect_array, columns=cv.get_feature_names())\n",
        "count_vect_df.head()"
      ],
      "execution_count": null,
      "outputs": [
        {
          "output_type": "execute_result",
          "data": {
            "text/html": [
              "<div>\n",
              "<style scoped>\n",
              "    .dataframe tbody tr th:only-of-type {\n",
              "        vertical-align: middle;\n",
              "    }\n",
              "\n",
              "    .dataframe tbody tr th {\n",
              "        vertical-align: top;\n",
              "    }\n",
              "\n",
              "    .dataframe thead th {\n",
              "        text-align: right;\n",
              "    }\n",
              "</style>\n",
              "<table border=\"1\" class=\"dataframe\">\n",
              "  <thead>\n",
              "    <tr style=\"text-align: right;\">\n",
              "      <th></th>\n",
              "      <th>aaron</th>\n",
              "      <th>abandon</th>\n",
              "      <th>abandoned</th>\n",
              "      <th>abandonment</th>\n",
              "      <th>abbott</th>\n",
              "      <th>abbott costello</th>\n",
              "      <th>abc</th>\n",
              "      <th>abducted</th>\n",
              "      <th>abetted</th>\n",
              "      <th>ability</th>\n",
              "      <th>...</th>\n",
              "      <th>zeta</th>\n",
              "      <th>zeta jones</th>\n",
              "      <th>zhang</th>\n",
              "      <th>zip</th>\n",
              "      <th>zoe</th>\n",
              "      <th>zombie</th>\n",
              "      <th>zombie zombie</th>\n",
              "      <th>zone</th>\n",
              "      <th>zoo</th>\n",
              "      <th>zoom</th>\n",
              "    </tr>\n",
              "  </thead>\n",
              "  <tbody>\n",
              "    <tr>\n",
              "      <th>0</th>\n",
              "      <td>0</td>\n",
              "      <td>0</td>\n",
              "      <td>0</td>\n",
              "      <td>0</td>\n",
              "      <td>0</td>\n",
              "      <td>0</td>\n",
              "      <td>0</td>\n",
              "      <td>0</td>\n",
              "      <td>0</td>\n",
              "      <td>0</td>\n",
              "      <td>...</td>\n",
              "      <td>0</td>\n",
              "      <td>0</td>\n",
              "      <td>0</td>\n",
              "      <td>0</td>\n",
              "      <td>0</td>\n",
              "      <td>0</td>\n",
              "      <td>0</td>\n",
              "      <td>0</td>\n",
              "      <td>0</td>\n",
              "      <td>0</td>\n",
              "    </tr>\n",
              "    <tr>\n",
              "      <th>1</th>\n",
              "      <td>0</td>\n",
              "      <td>0</td>\n",
              "      <td>0</td>\n",
              "      <td>0</td>\n",
              "      <td>0</td>\n",
              "      <td>0</td>\n",
              "      <td>0</td>\n",
              "      <td>0</td>\n",
              "      <td>0</td>\n",
              "      <td>0</td>\n",
              "      <td>...</td>\n",
              "      <td>0</td>\n",
              "      <td>0</td>\n",
              "      <td>0</td>\n",
              "      <td>0</td>\n",
              "      <td>0</td>\n",
              "      <td>0</td>\n",
              "      <td>0</td>\n",
              "      <td>0</td>\n",
              "      <td>0</td>\n",
              "      <td>0</td>\n",
              "    </tr>\n",
              "    <tr>\n",
              "      <th>2</th>\n",
              "      <td>0</td>\n",
              "      <td>0</td>\n",
              "      <td>0</td>\n",
              "      <td>0</td>\n",
              "      <td>0</td>\n",
              "      <td>0</td>\n",
              "      <td>0</td>\n",
              "      <td>0</td>\n",
              "      <td>0</td>\n",
              "      <td>0</td>\n",
              "      <td>...</td>\n",
              "      <td>0</td>\n",
              "      <td>0</td>\n",
              "      <td>0</td>\n",
              "      <td>0</td>\n",
              "      <td>0</td>\n",
              "      <td>0</td>\n",
              "      <td>0</td>\n",
              "      <td>0</td>\n",
              "      <td>0</td>\n",
              "      <td>0</td>\n",
              "    </tr>\n",
              "    <tr>\n",
              "      <th>3</th>\n",
              "      <td>0</td>\n",
              "      <td>0</td>\n",
              "      <td>0</td>\n",
              "      <td>0</td>\n",
              "      <td>0</td>\n",
              "      <td>0</td>\n",
              "      <td>0</td>\n",
              "      <td>0</td>\n",
              "      <td>0</td>\n",
              "      <td>0</td>\n",
              "      <td>...</td>\n",
              "      <td>0</td>\n",
              "      <td>0</td>\n",
              "      <td>0</td>\n",
              "      <td>0</td>\n",
              "      <td>0</td>\n",
              "      <td>0</td>\n",
              "      <td>0</td>\n",
              "      <td>0</td>\n",
              "      <td>0</td>\n",
              "      <td>0</td>\n",
              "    </tr>\n",
              "    <tr>\n",
              "      <th>4</th>\n",
              "      <td>0</td>\n",
              "      <td>0</td>\n",
              "      <td>0</td>\n",
              "      <td>0</td>\n",
              "      <td>0</td>\n",
              "      <td>0</td>\n",
              "      <td>0</td>\n",
              "      <td>0</td>\n",
              "      <td>0</td>\n",
              "      <td>0</td>\n",
              "      <td>...</td>\n",
              "      <td>0</td>\n",
              "      <td>0</td>\n",
              "      <td>0</td>\n",
              "      <td>0</td>\n",
              "      <td>0</td>\n",
              "      <td>0</td>\n",
              "      <td>0</td>\n",
              "      <td>0</td>\n",
              "      <td>0</td>\n",
              "      <td>0</td>\n",
              "    </tr>\n",
              "  </tbody>\n",
              "</table>\n",
              "<p>5 rows × 14300 columns</p>\n",
              "</div>"
            ],
            "text/plain": [
              "   aaron  abandon  abandoned  abandonment  abbott  abbott costello  abc  \\\n",
              "0      0        0          0            0       0                0    0   \n",
              "1      0        0          0            0       0                0    0   \n",
              "2      0        0          0            0       0                0    0   \n",
              "3      0        0          0            0       0                0    0   \n",
              "4      0        0          0            0       0                0    0   \n",
              "\n",
              "   abducted  abetted  ability  ...  zeta  zeta jones  zhang  zip  zoe  zombie  \\\n",
              "0         0        0        0  ...     0           0      0    0    0       0   \n",
              "1         0        0        0  ...     0           0      0    0    0       0   \n",
              "2         0        0        0  ...     0           0      0    0    0       0   \n",
              "3         0        0        0  ...     0           0      0    0    0       0   \n",
              "4         0        0        0  ...     0           0      0    0    0       0   \n",
              "\n",
              "   zombie zombie  zone  zoo  zoom  \n",
              "0              0     0    0     0  \n",
              "1              0     0    0     0  \n",
              "2              0     0    0     0  \n",
              "3              0     0    0     0  \n",
              "4              0     0    0     0  \n",
              "\n",
              "[5 rows x 14300 columns]"
            ]
          },
          "metadata": {
            "tags": []
          },
          "execution_count": 95
        }
      ]
    },
    {
      "cell_type": "code",
      "metadata": {
        "id": "Za-rSgEXCNqa"
      },
      "source": [
        "#cv.vocabulary_"
      ],
      "execution_count": null,
      "outputs": []
    },
    {
      "cell_type": "markdown",
      "metadata": {
        "id": "5bEiEQ5_CNqb"
      },
      "source": [
        "# What are the challenges with Document Frequency Matrix"
      ]
    },
    {
      "cell_type": "markdown",
      "metadata": {
        "id": "V8mW-wYhCNqb"
      },
      "source": [
        "## TF IDF Vectorizer"
      ]
    },
    {
      "cell_type": "code",
      "metadata": {
        "id": "essYEUH2CNqb"
      },
      "source": [
        "from sklearn.feature_extraction.text import TfidfVectorizer\n",
        "\n",
        "#Lets understand count vectoriser\n",
        "tf = TfidfVectorizer()"
      ],
      "execution_count": null,
      "outputs": []
    },
    {
      "cell_type": "code",
      "metadata": {
        "id": "7XhQBAblCNqb"
      },
      "source": [
        "#Use fir transform to transform a text corpus to a count vectoriser\n",
        "test_tf = tf.fit_transform([\"A wonderful production\", \n",
        "                            \"This was a wonderful way\", \n",
        "                            \"wonderful portrait about human relations\"])"
      ],
      "execution_count": null,
      "outputs": []
    },
    {
      "cell_type": "code",
      "metadata": {
        "id": "Rg7V5q3gCNqc",
        "outputId": "dcf6016a-15e0-47ac-937f-3ced37a5433e"
      },
      "source": [
        "#View cv as an array\n",
        "tf_array = test_tf.toarray()\n",
        "tf_array"
      ],
      "execution_count": null,
      "outputs": [
        {
          "output_type": "execute_result",
          "data": {
            "text/plain": [
              "array([[0.        , 0.        , 0.        , 0.861037  , 0.        ,\n",
              "        0.        , 0.        , 0.        , 0.50854232],\n",
              "       [0.        , 0.        , 0.        , 0.        , 0.        ,\n",
              "        0.54645401, 0.54645401, 0.54645401, 0.32274454],\n",
              "       [0.47952794, 0.47952794, 0.47952794, 0.        , 0.47952794,\n",
              "        0.        , 0.        , 0.        , 0.28321692]])"
            ]
          },
          "metadata": {
            "tags": []
          },
          "execution_count": 99
        }
      ]
    },
    {
      "cell_type": "code",
      "metadata": {
        "id": "bFj6ieBwCNqc",
        "outputId": "471ec769-a376-467f-9f58-9ccfe7f0c2a0"
      },
      "source": [
        "#Get the feature names of cv\n",
        "tf.get_feature_names()\n",
        "\n",
        "tf_df = pd.DataFrame(tf_array,columns=tf.get_feature_names() )\n",
        "tf_df"
      ],
      "execution_count": null,
      "outputs": [
        {
          "output_type": "execute_result",
          "data": {
            "text/html": [
              "<div>\n",
              "<style scoped>\n",
              "    .dataframe tbody tr th:only-of-type {\n",
              "        vertical-align: middle;\n",
              "    }\n",
              "\n",
              "    .dataframe tbody tr th {\n",
              "        vertical-align: top;\n",
              "    }\n",
              "\n",
              "    .dataframe thead th {\n",
              "        text-align: right;\n",
              "    }\n",
              "</style>\n",
              "<table border=\"1\" class=\"dataframe\">\n",
              "  <thead>\n",
              "    <tr style=\"text-align: right;\">\n",
              "      <th></th>\n",
              "      <th>about</th>\n",
              "      <th>human</th>\n",
              "      <th>portrait</th>\n",
              "      <th>production</th>\n",
              "      <th>relations</th>\n",
              "      <th>this</th>\n",
              "      <th>was</th>\n",
              "      <th>way</th>\n",
              "      <th>wonderful</th>\n",
              "    </tr>\n",
              "  </thead>\n",
              "  <tbody>\n",
              "    <tr>\n",
              "      <th>0</th>\n",
              "      <td>0.000000</td>\n",
              "      <td>0.000000</td>\n",
              "      <td>0.000000</td>\n",
              "      <td>0.861037</td>\n",
              "      <td>0.000000</td>\n",
              "      <td>0.000000</td>\n",
              "      <td>0.000000</td>\n",
              "      <td>0.000000</td>\n",
              "      <td>0.508542</td>\n",
              "    </tr>\n",
              "    <tr>\n",
              "      <th>1</th>\n",
              "      <td>0.000000</td>\n",
              "      <td>0.000000</td>\n",
              "      <td>0.000000</td>\n",
              "      <td>0.000000</td>\n",
              "      <td>0.000000</td>\n",
              "      <td>0.546454</td>\n",
              "      <td>0.546454</td>\n",
              "      <td>0.546454</td>\n",
              "      <td>0.322745</td>\n",
              "    </tr>\n",
              "    <tr>\n",
              "      <th>2</th>\n",
              "      <td>0.479528</td>\n",
              "      <td>0.479528</td>\n",
              "      <td>0.479528</td>\n",
              "      <td>0.000000</td>\n",
              "      <td>0.479528</td>\n",
              "      <td>0.000000</td>\n",
              "      <td>0.000000</td>\n",
              "      <td>0.000000</td>\n",
              "      <td>0.283217</td>\n",
              "    </tr>\n",
              "  </tbody>\n",
              "</table>\n",
              "</div>"
            ],
            "text/plain": [
              "      about     human  portrait  production  relations      this       was  \\\n",
              "0  0.000000  0.000000  0.000000    0.861037   0.000000  0.000000  0.000000   \n",
              "1  0.000000  0.000000  0.000000    0.000000   0.000000  0.546454  0.546454   \n",
              "2  0.479528  0.479528  0.479528    0.000000   0.479528  0.000000  0.000000   \n",
              "\n",
              "        way  wonderful  \n",
              "0  0.000000   0.508542  \n",
              "1  0.546454   0.322745  \n",
              "2  0.000000   0.283217  "
            ]
          },
          "metadata": {
            "tags": []
          },
          "execution_count": 100
        }
      ]
    },
    {
      "cell_type": "markdown",
      "metadata": {
        "id": "eVBPfMxpCNqc"
      },
      "source": [
        "## Let us compare this with the dataframe from count vectoriser"
      ]
    },
    {
      "cell_type": "code",
      "metadata": {
        "id": "VEdc-AuOCNqc",
        "outputId": "ed769cf3-e835-46a4-f028-5542316ecbcd"
      },
      "source": [
        "\n",
        "count_vect_df1"
      ],
      "execution_count": null,
      "outputs": [
        {
          "output_type": "execute_result",
          "data": {
            "text/html": [
              "<div>\n",
              "<style scoped>\n",
              "    .dataframe tbody tr th:only-of-type {\n",
              "        vertical-align: middle;\n",
              "    }\n",
              "\n",
              "    .dataframe tbody tr th {\n",
              "        vertical-align: top;\n",
              "    }\n",
              "\n",
              "    .dataframe thead th {\n",
              "        text-align: right;\n",
              "    }\n",
              "</style>\n",
              "<table border=\"1\" class=\"dataframe\">\n",
              "  <thead>\n",
              "    <tr style=\"text-align: right;\">\n",
              "      <th></th>\n",
              "      <th>about</th>\n",
              "      <th>human</th>\n",
              "      <th>portrait</th>\n",
              "      <th>production</th>\n",
              "      <th>relations</th>\n",
              "      <th>this</th>\n",
              "      <th>was</th>\n",
              "      <th>way</th>\n",
              "      <th>wonderful</th>\n",
              "    </tr>\n",
              "  </thead>\n",
              "  <tbody>\n",
              "    <tr>\n",
              "      <th>0</th>\n",
              "      <td>0</td>\n",
              "      <td>0</td>\n",
              "      <td>0</td>\n",
              "      <td>1</td>\n",
              "      <td>0</td>\n",
              "      <td>0</td>\n",
              "      <td>0</td>\n",
              "      <td>0</td>\n",
              "      <td>1</td>\n",
              "    </tr>\n",
              "    <tr>\n",
              "      <th>1</th>\n",
              "      <td>0</td>\n",
              "      <td>0</td>\n",
              "      <td>0</td>\n",
              "      <td>0</td>\n",
              "      <td>0</td>\n",
              "      <td>1</td>\n",
              "      <td>1</td>\n",
              "      <td>1</td>\n",
              "      <td>1</td>\n",
              "    </tr>\n",
              "    <tr>\n",
              "      <th>2</th>\n",
              "      <td>1</td>\n",
              "      <td>1</td>\n",
              "      <td>1</td>\n",
              "      <td>0</td>\n",
              "      <td>1</td>\n",
              "      <td>0</td>\n",
              "      <td>0</td>\n",
              "      <td>0</td>\n",
              "      <td>1</td>\n",
              "    </tr>\n",
              "  </tbody>\n",
              "</table>\n",
              "</div>"
            ],
            "text/plain": [
              "   about  human  portrait  production  relations  this  was  way  wonderful\n",
              "0      0      0         0           1          0     0    0    0          1\n",
              "1      0      0         0           0          0     1    1    1          1\n",
              "2      1      1         1           0          1     0    0    0          1"
            ]
          },
          "metadata": {
            "tags": []
          },
          "execution_count": 102
        }
      ]
    },
    {
      "cell_type": "code",
      "metadata": {
        "id": "B2lAz_ypCNqd"
      },
      "source": [
        "## Applying tf-idf vectoriser to the corpus\n",
        "\n",
        "from sklearn.feature_extraction.text import TfidfVectorizer\n",
        "# Fit the tf-idf model\n",
        "tfv = TfidfVectorizer(stop_words=stop_words, ngram_range=(1,2), min_df = 0.0001)"
      ],
      "execution_count": null,
      "outputs": []
    },
    {
      "cell_type": "code",
      "metadata": {
        "id": "V_GL43xhCNqd"
      },
      "source": [
        "# tokenize and build vocab\n",
        "tfmat = tfv.fit_transform(corpus)"
      ],
      "execution_count": null,
      "outputs": []
    },
    {
      "cell_type": "code",
      "metadata": {
        "id": "GFPSQOw_CNqd",
        "outputId": "f379f073-1c75-4dd9-9b76-eb4d088b3021"
      },
      "source": [
        "feature_names=tfv.get_feature_names()\n",
        "feature_names[:10]"
      ],
      "execution_count": null,
      "outputs": [
        {
          "output_type": "execute_result",
          "data": {
            "text/plain": [
              "['aa',\n",
              " 'aa meri',\n",
              " 'aa presentation',\n",
              " 'aa size',\n",
              " 'aaa',\n",
              " 'aaa alcoholic',\n",
              " 'aaa parvarish',\n",
              " 'aaagh',\n",
              " 'aaagh controversial',\n",
              " 'aaawwwwnnn']"
            ]
          },
          "metadata": {
            "tags": []
          },
          "execution_count": 109
        }
      ]
    },
    {
      "cell_type": "code",
      "metadata": {
        "id": "gMUxgVZ7CNqe",
        "outputId": "fdac8a25-0350-48c5-9460-278007279578"
      },
      "source": [
        "len(feature_names)"
      ],
      "execution_count": null,
      "outputs": [
        {
          "output_type": "execute_result",
          "data": {
            "text/plain": [
              "438606"
            ]
          },
          "metadata": {
            "tags": []
          },
          "execution_count": 110
        }
      ]
    },
    {
      "cell_type": "code",
      "metadata": {
        "id": "4zbX6Oi5CNqe"
      },
      "source": [
        "#Remove sparsity\n",
        "dense = tfmat.todense()"
      ],
      "execution_count": null,
      "outputs": []
    },
    {
      "cell_type": "code",
      "metadata": {
        "id": "UTdjUacGCNqe"
      },
      "source": [
        "#Convert the matrix to a list\n",
        "corpus1 = dense[0].tolist()[0]"
      ],
      "execution_count": null,
      "outputs": []
    },
    {
      "cell_type": "code",
      "metadata": {
        "id": "d5ODUtPoCNqf"
      },
      "source": [
        "#Create a list of feature number and tf idf score - using pair iteration in list\n",
        "phrase_scores = [pair for pair in zip(range(0, len(corpus1)), corpus1) if pair[1] > 0]"
      ],
      "execution_count": null,
      "outputs": []
    },
    {
      "cell_type": "code",
      "metadata": {
        "id": "TWIsr2wHCNqf",
        "outputId": "a7b7ac3e-5874-4b96-850c-22706d94f56a"
      },
      "source": [
        "len(phrase_scores)"
      ],
      "execution_count": null,
      "outputs": [
        {
          "output_type": "execute_result",
          "data": {
            "text/plain": [
              "117"
            ]
          },
          "metadata": {
            "tags": []
          },
          "execution_count": 117
        }
      ]
    },
    {
      "cell_type": "code",
      "metadata": {
        "id": "899YerXyCNqf",
        "outputId": "2ab8cc1d-acf4-4ab5-9a62-33587b548e7c"
      },
      "source": [
        "#First 10 items of the list\n",
        "phrase_scores[:10]"
      ],
      "execution_count": null,
      "outputs": [
        {
          "output_type": "execute_result",
          "data": {
            "text/plain": [
              "[(3774, 0.0780195879703585),\n",
              " (3944, 0.1031444957874704),\n",
              " (4148, 0.1031444957874704),\n",
              " (24253, 0.1400554885348549),\n",
              " (24264, 0.1031444957874704),\n",
              " (24270, 0.1031444957874704),\n",
              " (25496, 0.04485235118606714),\n",
              " (25577, 0.1031444957874704),\n",
              " (28002, 0.07782678258466029),\n",
              " (28031, 0.1031444957874704)]"
            ]
          },
          "metadata": {
            "tags": []
          },
          "execution_count": 118
        }
      ]
    },
    {
      "cell_type": "code",
      "metadata": {
        "id": "Cu_WbbKfCNqg",
        "outputId": "d80b914c-0e20-4486-951c-0810ac13990a"
      },
      "source": [
        "#Sort by second item in list - -1 for descending order\n",
        "sorted_phrase_scores = sorted(phrase_scores, key=lambda t: t[1] * -1)\n",
        "\n",
        "sorted_phrase_scores[:10]"
      ],
      "execution_count": null,
      "outputs": [
        {
          "output_type": "execute_result",
          "data": {
            "text/plain": [
              "[(412131, 0.24312177420874878),\n",
              " (412140, 0.1900849291497946),\n",
              " (24253, 0.1400554885348549),\n",
              " (172639, 0.13402808324587132),\n",
              " (3944, 0.1031444957874704),\n",
              " (4148, 0.1031444957874704),\n",
              " (24264, 0.1031444957874704),\n",
              " (24270, 0.1031444957874704),\n",
              " (25577, 0.1031444957874704),\n",
              " (28031, 0.1031444957874704)]"
            ]
          },
          "metadata": {
            "tags": []
          },
          "execution_count": 119
        }
      ]
    },
    {
      "cell_type": "code",
      "metadata": {
        "id": "iHM9pB80CNqg",
        "outputId": "ff7de7b3-03e0-4c0b-b160-c0860904418b"
      },
      "source": [
        "feature_names[183465]"
      ],
      "execution_count": null,
      "outputs": [
        {
          "output_type": "execute_result",
          "data": {
            "text/plain": [
              "'homemade werewolf'"
            ]
          },
          "metadata": {
            "tags": []
          },
          "execution_count": 120
        }
      ]
    },
    {
      "cell_type": "code",
      "metadata": {
        "id": "14flkj3bCNqh",
        "outputId": "79834e58-31c8-45d7-f024-5a1cdd741b0f"
      },
      "source": [
        "#Get word instead of word id with score\n",
        "for phrase, score in [(feature_names[word_id], score) \n",
        "                      for (word_id, score) in sorted_phrase_scores][:20]:\n",
        "   print('{0: <20} {1}'.format(phrase, score))"
      ],
      "execution_count": null,
      "outputs": [
        {
          "output_type": "stream",
          "text": [
            "vampire              0.24312177420874878\n",
            "vampire assassin     0.1900849291497946\n",
            "assassin             0.1400554885348549\n",
            "hall                 0.13402808324587132\n",
            "action horrible      0.1031444957874704\n",
            "action tossing       0.1031444957874704\n",
            "assassin derek       0.1031444957874704\n",
            "assassin horrible    0.1031444957874704\n",
            "attempt establish    0.1031444957874704\n",
            "away badge           0.1031444957874704\n",
            "back grave           0.1031444957874704\n",
            "badge search         0.1031444957874704\n",
            "blade never          0.1031444957874704\n",
            "bloodsucker back     0.1031444957874704\n",
            "budget stimulates    0.1031444957874704\n",
            "buffy take           0.1031444957874704\n",
            "clich cop            0.1031444957874704\n",
            "cop mission          0.1031444957874704\n",
            "derek washington     0.1031444957874704\n",
            "directs star         0.1031444957874704\n"
          ],
          "name": "stdout"
        }
      ]
    },
    {
      "cell_type": "markdown",
      "metadata": {
        "id": "1s97YLr0CNqi"
      },
      "source": [
        "# Text Visualisation"
      ]
    },
    {
      "cell_type": "markdown",
      "metadata": {
        "id": "2-8VvtseCNqi"
      },
      "source": [
        "## Visualising frequently occuring words"
      ]
    },
    {
      "cell_type": "code",
      "metadata": {
        "id": "xw1Cp43jCNqi"
      },
      "source": [
        "#Most frequently occuring words\n",
        "def get_top_n_words(corpus, n=None):\n",
        "    vec = CountVectorizer(stop_words=stop_words).fit(corpus)\n",
        "    bag_of_words = vec.transform(corpus)\n",
        "    sum_words = bag_of_words.sum(axis=0) \n",
        "    words_freq = [(word, sum_words[0, idx]) for word, idx in vec.vocabulary_.items()]\n",
        "    words_freq =sorted(words_freq, key = lambda x: x[1], reverse=True)\n",
        "    return words_freq[:n]"
      ],
      "execution_count": null,
      "outputs": []
    },
    {
      "cell_type": "code",
      "metadata": {
        "id": "wDYzy6nMCNqi"
      },
      "source": [
        "#Convert most freq words to dataframe for plotting bar plot\n",
        "top_words = get_top_n_words(corpus, n=20)\n",
        "top_df = pd.DataFrame(top_words)\n",
        "top_df.columns=[\"Word\", \"Freq\"]"
      ],
      "execution_count": null,
      "outputs": []
    },
    {
      "cell_type": "code",
      "metadata": {
        "id": "zIFWe-E3CNqj",
        "outputId": "f6192505-b904-4c67-8abf-673c5580c84f"
      },
      "source": [
        "### This df used as a guideline to create custom stop words\n",
        "top_df.head(10)"
      ],
      "execution_count": null,
      "outputs": [
        {
          "output_type": "execute_result",
          "data": {
            "text/html": [
              "<div>\n",
              "<style scoped>\n",
              "    .dataframe tbody tr th:only-of-type {\n",
              "        vertical-align: middle;\n",
              "    }\n",
              "\n",
              "    .dataframe tbody tr th {\n",
              "        vertical-align: top;\n",
              "    }\n",
              "\n",
              "    .dataframe thead th {\n",
              "        text-align: right;\n",
              "    }\n",
              "</style>\n",
              "<table border=\"1\" class=\"dataframe\">\n",
              "  <thead>\n",
              "    <tr style=\"text-align: right;\">\n",
              "      <th></th>\n",
              "      <th>Word</th>\n",
              "      <th>Freq</th>\n",
              "    </tr>\n",
              "  </thead>\n",
              "  <tbody>\n",
              "    <tr>\n",
              "      <th>0</th>\n",
              "      <td>character</td>\n",
              "      <td>2818</td>\n",
              "    </tr>\n",
              "    <tr>\n",
              "      <th>1</th>\n",
              "      <td>story</td>\n",
              "      <td>2457</td>\n",
              "    </tr>\n",
              "    <tr>\n",
              "      <th>2</th>\n",
              "      <td>scene</td>\n",
              "      <td>2071</td>\n",
              "    </tr>\n",
              "    <tr>\n",
              "      <th>3</th>\n",
              "      <td>life</td>\n",
              "      <td>1535</td>\n",
              "    </tr>\n",
              "    <tr>\n",
              "      <th>4</th>\n",
              "      <td>actor</td>\n",
              "      <td>1380</td>\n",
              "    </tr>\n",
              "    <tr>\n",
              "      <th>5</th>\n",
              "      <td>plot</td>\n",
              "      <td>1357</td>\n",
              "    </tr>\n",
              "    <tr>\n",
              "      <th>6</th>\n",
              "      <td>seen</td>\n",
              "      <td>1333</td>\n",
              "    </tr>\n",
              "    <tr>\n",
              "      <th>7</th>\n",
              "      <td>never</td>\n",
              "      <td>1313</td>\n",
              "    </tr>\n",
              "    <tr>\n",
              "      <th>8</th>\n",
              "      <td>love</td>\n",
              "      <td>1312</td>\n",
              "    </tr>\n",
              "    <tr>\n",
              "      <th>9</th>\n",
              "      <td>acting</td>\n",
              "      <td>1311</td>\n",
              "    </tr>\n",
              "  </tbody>\n",
              "</table>\n",
              "</div>"
            ],
            "text/plain": [
              "        Word  Freq\n",
              "0  character  2818\n",
              "1      story  2457\n",
              "2      scene  2071\n",
              "3       life  1535\n",
              "4      actor  1380\n",
              "5       plot  1357\n",
              "6       seen  1333\n",
              "7      never  1313\n",
              "8       love  1312\n",
              "9     acting  1311"
            ]
          },
          "metadata": {
            "tags": []
          },
          "execution_count": 125
        }
      ]
    },
    {
      "cell_type": "code",
      "metadata": {
        "id": "ucwZIu-tCNqj",
        "outputId": "7d4a3e87-1db9-4f17-cec0-7fdbc60efbaf"
      },
      "source": [
        "#Barplot of most freq words\n",
        "import matplotlib.pyplot as plt\n",
        "import seaborn as sns\n",
        "sns.set(rc={'figure.figsize':(20,10)})\n",
        "sns.barplot(x=\"Word\", y=\"Freq\",data=top_df)\n",
        "plt.show()"
      ],
      "execution_count": null,
      "outputs": [
        {
          "output_type": "display_data",
          "data": {
            "image/png": "[encoded data removed]",
            "text/plain": [
              "<Figure size 1440x720 with 1 Axes>"
            ]
          },
          "metadata": {
            "tags": []
          }
        }
      ]
    },
    {
      "cell_type": "code",
      "metadata": {
        "id": "zQJvuN2UCNqj",
        "outputId": "7399d027-8c2f-4e0b-8417-bbe9f4a28edc"
      },
      "source": [
        "### This df used as a guideline to create custom stop words\n",
        "top_df.head(10)"
      ],
      "execution_count": null,
      "outputs": [
        {
          "output_type": "execute_result",
          "data": {
            "text/html": [
              "<div>\n",
              "<style scoped>\n",
              "    .dataframe tbody tr th:only-of-type {\n",
              "        vertical-align: middle;\n",
              "    }\n",
              "\n",
              "    .dataframe tbody tr th {\n",
              "        vertical-align: top;\n",
              "    }\n",
              "\n",
              "    .dataframe thead th {\n",
              "        text-align: right;\n",
              "    }\n",
              "</style>\n",
              "<table border=\"1\" class=\"dataframe\">\n",
              "  <thead>\n",
              "    <tr style=\"text-align: right;\">\n",
              "      <th></th>\n",
              "      <th>Word</th>\n",
              "      <th>Freq</th>\n",
              "    </tr>\n",
              "  </thead>\n",
              "  <tbody>\n",
              "    <tr>\n",
              "      <th>0</th>\n",
              "      <td>character</td>\n",
              "      <td>2818</td>\n",
              "    </tr>\n",
              "    <tr>\n",
              "      <th>1</th>\n",
              "      <td>story</td>\n",
              "      <td>2457</td>\n",
              "    </tr>\n",
              "    <tr>\n",
              "      <th>2</th>\n",
              "      <td>scene</td>\n",
              "      <td>2071</td>\n",
              "    </tr>\n",
              "    <tr>\n",
              "      <th>3</th>\n",
              "      <td>life</td>\n",
              "      <td>1535</td>\n",
              "    </tr>\n",
              "    <tr>\n",
              "      <th>4</th>\n",
              "      <td>actor</td>\n",
              "      <td>1380</td>\n",
              "    </tr>\n",
              "    <tr>\n",
              "      <th>5</th>\n",
              "      <td>plot</td>\n",
              "      <td>1357</td>\n",
              "    </tr>\n",
              "    <tr>\n",
              "      <th>6</th>\n",
              "      <td>seen</td>\n",
              "      <td>1333</td>\n",
              "    </tr>\n",
              "    <tr>\n",
              "      <th>7</th>\n",
              "      <td>never</td>\n",
              "      <td>1313</td>\n",
              "    </tr>\n",
              "    <tr>\n",
              "      <th>8</th>\n",
              "      <td>love</td>\n",
              "      <td>1312</td>\n",
              "    </tr>\n",
              "    <tr>\n",
              "      <th>9</th>\n",
              "      <td>acting</td>\n",
              "      <td>1311</td>\n",
              "    </tr>\n",
              "  </tbody>\n",
              "</table>\n",
              "</div>"
            ],
            "text/plain": [
              "        Word  Freq\n",
              "0  character  2818\n",
              "1      story  2457\n",
              "2      scene  2071\n",
              "3       life  1535\n",
              "4      actor  1380\n",
              "5       plot  1357\n",
              "6       seen  1333\n",
              "7      never  1313\n",
              "8       love  1312\n",
              "9     acting  1311"
            ]
          },
          "metadata": {
            "tags": []
          },
          "execution_count": 127
        }
      ]
    },
    {
      "cell_type": "code",
      "metadata": {
        "id": "HvSRzblBCNqk"
      },
      "source": [
        "### Word cloud"
      ],
      "execution_count": null,
      "outputs": []
    },
    {
      "cell_type": "code",
      "metadata": {
        "id": "uPAFkVMUCNqk"
      },
      "source": [
        "#Visualise using word cloud\n",
        "from wordcloud import WordCloud, STOPWORDS, ImageColorGenerator\n",
        "\n",
        "import matplotlib.pyplot as plt\n",
        "\n",
        "\n"
      ],
      "execution_count": null,
      "outputs": []
    },
    {
      "cell_type": "code",
      "metadata": {
        "id": "QlijZLZUCNqk",
        "outputId": "9e1b3e2c-d129-48ce-e113-f19db57408a6"
      },
      "source": [
        "# Create and generate a word cloud image:\n",
        "wordcloud = WordCloud(\n",
        "                          background_color='black',\n",
        "                          colormap=\"Reds\",\n",
        "                          stopwords=stop_words,\n",
        "                          max_words=50,\n",
        "                          max_font_size=50, \n",
        "                          random_state=42,\n",
        "                          ).generate(str(corpus))\n",
        "\n",
        "print(wordcloud)\n",
        "fig = plt.figure(1)\n",
        "plt.imshow(wordcloud)\n",
        "plt.axis('off')\n",
        "plt.show()\n",
        "fig.savefig(\"word1.png\", dpi=900)"
      ],
      "execution_count": null,
      "outputs": [
        {
          "output_type": "stream",
          "text": [
            "<wordcloud.wordcloud.WordCloud object at 0x00000246DE01A100>\n"
          ],
          "name": "stdout"
        },
        {
          "output_type": "display_data",
          "data": {
            "image/png": "[encoded data removed]",
            "text/plain": [
              "<Figure size 1440x720 with 1 Axes>"
            ]
          },
          "metadata": {
            "tags": []
          }
        }
      ]
    },
    {
      "cell_type": "code",
      "metadata": {
        "id": "Ybvs_hDCCNql",
        "outputId": "cc3c3f4f-571a-4d28-f14d-ce94ed373f9e"
      },
      "source": [
        "#Most frequently occuring Bi-grams\n",
        "def get_top_n2_words(corpus, n=None):\n",
        "    vec1 = CountVectorizer(ngram_range=(2,2), max_features=2000).fit(corpus)\n",
        "    bag_of_words = vec1.transform(corpus)\n",
        "    sum_words = bag_of_words.sum(axis=0) \n",
        "    words_freq = [(word, sum_words[0, idx]) for word, idx in     vec1.vocabulary_.items()]\n",
        "    words_freq =sorted(words_freq, key = lambda x: x[1], reverse=True)\n",
        "    return words_freq[:n]\n",
        "\n",
        "top2_words = get_top_n2_words(corpus, n=10)\n",
        "top2_df = pd.DataFrame(top2_words)\n",
        "top2_df.columns=[\"Bi-gram\", \"Freq\"]\n",
        "print(top2_df)"
      ],
      "execution_count": null,
      "outputs": [
        {
          "output_type": "stream",
          "text": [
            "          Bi-gram  Freq\n",
            "0       ever seen   281\n",
            "1  special effect   254\n",
            "2        year old   221\n",
            "3  main character   183\n",
            "4      low budget   169\n",
            "5          sci fi   139\n",
            "6        year ago   129\n",
            "7     high school   118\n",
            "8      worst ever   105\n",
            "9      story line   101\n"
          ],
          "name": "stdout"
        }
      ]
    },
    {
      "cell_type": "code",
      "metadata": {
        "id": "cy-UDIL7CNql"
      },
      "source": [
        "from PIL import Image \n",
        "import numpy as np"
      ],
      "execution_count": null,
      "outputs": []
    },
    {
      "cell_type": "code",
      "metadata": {
        "id": "Ha8-jO-FCNql",
        "outputId": "0eeb24b9-6b69-40b0-c87e-cada117d4500"
      },
      "source": [
        "movie_mask = np.array(Image.open( \"movie.jpg\"))\n",
        "movie_mask"
      ],
      "execution_count": null,
      "outputs": [
        {
          "output_type": "execute_result",
          "data": {
            "text/plain": [
              "array([[[255, 255, 255],\n",
              "        [255, 255, 255],\n",
              "        [255, 255, 255],\n",
              "        ...,\n",
              "        [255, 255, 255],\n",
              "        [255, 255, 255],\n",
              "        [255, 255, 255]],\n",
              "\n",
              "       [[255, 255, 255],\n",
              "        [255, 255, 255],\n",
              "        [255, 255, 255],\n",
              "        ...,\n",
              "        [255, 255, 255],\n",
              "        [255, 255, 255],\n",
              "        [255, 255, 255]],\n",
              "\n",
              "       [[255, 255, 255],\n",
              "        [255, 255, 255],\n",
              "        [255, 255, 255],\n",
              "        ...,\n",
              "        [255, 255, 255],\n",
              "        [255, 255, 255],\n",
              "        [255, 255, 255]],\n",
              "\n",
              "       ...,\n",
              "\n",
              "       [[255, 255, 255],\n",
              "        [255, 255, 255],\n",
              "        [255, 255, 255],\n",
              "        ...,\n",
              "        [255, 255, 255],\n",
              "        [255, 255, 255],\n",
              "        [255, 255, 255]],\n",
              "\n",
              "       [[255, 255, 255],\n",
              "        [255, 255, 255],\n",
              "        [255, 255, 255],\n",
              "        ...,\n",
              "        [255, 255, 255],\n",
              "        [255, 255, 255],\n",
              "        [255, 255, 255]],\n",
              "\n",
              "       [[255, 255, 255],\n",
              "        [255, 255, 255],\n",
              "        [255, 255, 255],\n",
              "        ...,\n",
              "        [255, 255, 255],\n",
              "        [255, 255, 255],\n",
              "        [255, 255, 255]]], dtype=uint8)"
            ]
          },
          "metadata": {
            "tags": []
          },
          "execution_count": 133
        }
      ]
    },
    {
      "cell_type": "code",
      "metadata": {
        "id": "Z0Xd6dNFCNqm",
        "outputId": "5d511fa3-6f5a-4817-a61f-c2896fff9e45"
      },
      "source": [
        "# Make the figure\n",
        "wordcloud = WordCloud(mask=movie_mask, \n",
        "                    background_color='white',\n",
        "                          colormap=\"Reds\").generate(str(corpus))\n",
        "plt.figure()\n",
        "plt.imshow(wordcloud, interpolation=\"bilinear\")\n",
        "plt.axis(\"off\")\n",
        "plt.margins(x=0, y=0)\n",
        "plt.show()"
      ],
      "execution_count": null,
      "outputs": [
        {
          "output_type": "display_data",
          "data": {
            "image/png": "[encoded data removed]",
            "text/plain": [
              "<Figure size 1440x720 with 1 Axes>"
            ]
          },
          "metadata": {
            "tags": []
          }
        }
      ]
    },
    {
      "cell_type": "markdown",
      "metadata": {
        "id": "Z0_vPRjECNqm"
      },
      "source": [
        "## Comparing terms in positive and negative reviews"
      ]
    },
    {
      "cell_type": "code",
      "metadata": {
        "id": "OkOsIw4pCNqm"
      },
      "source": [
        "movie['word_count'] = movie['review'].apply(lambda x: len(str(x).split()))"
      ],
      "execution_count": null,
      "outputs": []
    },
    {
      "cell_type": "code",
      "metadata": {
        "id": "yTwnWmYuCNqn",
        "outputId": "aeccc607-0a6f-4a48-bd7b-404bc0305242"
      },
      "source": [
        "movie['word_count'].hist(bins=20, color='lightgreen')"
      ],
      "execution_count": null,
      "outputs": [
        {
          "output_type": "execute_result",
          "data": {
            "text/plain": [
              "<AxesSubplot:>"
            ]
          },
          "metadata": {
            "tags": []
          },
          "execution_count": 136
        },
        {
          "output_type": "display_data",
          "data": {
            "image/png": "[encoded data removed]",
            "text/plain": [
              "<Figure size 1440x720 with 1 Axes>"
            ]
          },
          "metadata": {
            "tags": []
          }
        }
      ]
    },
    {
      "cell_type": "code",
      "metadata": {
        "id": "t1Wy4N6NCNqn",
        "outputId": "16b7a6f5-69d9-4d1b-a6f2-04baa99a8c43"
      },
      "source": [
        "import seaborn as sns\n",
        "g = sns.FacetGrid(movie, col='sentiment', hue='sentiment')\n",
        "g.map(plt.hist,'word_count')"
      ],
      "execution_count": null,
      "outputs": [
        {
          "output_type": "execute_result",
          "data": {
            "text/plain": [
              "<seaborn.axisgrid.FacetGrid at 0x246d84e2340>"
            ]
          },
          "metadata": {
            "tags": []
          },
          "execution_count": 137
        },
        {
          "output_type": "display_data",
          "data": {
            "image/png": "[encoded data removed]",
            "text/plain": [
              "<Figure size 432x216 with 2 Axes>"
            ]
          },
          "metadata": {
            "tags": []
          }
        }
      ]
    },
    {
      "cell_type": "code",
      "metadata": {
        "id": "ynfUduTDCNqn",
        "outputId": "6c6e577d-c38c-4844-a905-389bf9b04bc3"
      },
      "source": [
        "sns.boxplot(x=movie['sentiment'],y=movie['word_count'])"
      ],
      "execution_count": null,
      "outputs": [
        {
          "output_type": "execute_result",
          "data": {
            "text/plain": [
              "<AxesSubplot:xlabel='sentiment', ylabel='word_count'>"
            ]
          },
          "metadata": {
            "tags": []
          },
          "execution_count": 138
        },
        {
          "output_type": "display_data",
          "data": {
            "image/png": "[encoded data removed]",
            "text/plain": [
              "<Figure size 1440x720 with 1 Axes>"
            ]
          },
          "metadata": {
            "tags": []
          }
        }
      ]
    },
    {
      "cell_type": "code",
      "metadata": {
        "id": "l2MFyTTpCNqn",
        "outputId": "9941863a-8874-4618-eae0-9560af40977e"
      },
      "source": [
        "movie.head()"
      ],
      "execution_count": null,
      "outputs": [
        {
          "output_type": "execute_result",
          "data": {
            "text/html": [
              "<div>\n",
              "<style scoped>\n",
              "    .dataframe tbody tr th:only-of-type {\n",
              "        vertical-align: middle;\n",
              "    }\n",
              "\n",
              "    .dataframe tbody tr th {\n",
              "        vertical-align: top;\n",
              "    }\n",
              "\n",
              "    .dataframe thead th {\n",
              "        text-align: right;\n",
              "    }\n",
              "</style>\n",
              "<table border=\"1\" class=\"dataframe\">\n",
              "  <thead>\n",
              "    <tr style=\"text-align: right;\">\n",
              "      <th></th>\n",
              "      <th>index</th>\n",
              "      <th>review</th>\n",
              "      <th>sentiment</th>\n",
              "      <th>word_count</th>\n",
              "    </tr>\n",
              "  </thead>\n",
              "  <tbody>\n",
              "    <tr>\n",
              "      <th>0</th>\n",
              "      <td>23656</td>\n",
              "      <td>Ron Hall pulls a triple threat as he writes, d...</td>\n",
              "      <td>negative</td>\n",
              "      <td>126</td>\n",
              "    </tr>\n",
              "    <tr>\n",
              "      <th>1</th>\n",
              "      <td>27442</td>\n",
              "      <td>The first in the series was brilliant, easily ...</td>\n",
              "      <td>negative</td>\n",
              "      <td>384</td>\n",
              "    </tr>\n",
              "    <tr>\n",
              "      <th>2</th>\n",
              "      <td>40162</td>\n",
              "      <td>I LOVED this movie because Bobbie Phillips can...</td>\n",
              "      <td>positive</td>\n",
              "      <td>81</td>\n",
              "    </tr>\n",
              "    <tr>\n",
              "      <th>3</th>\n",
              "      <td>8459</td>\n",
              "      <td>I was @ 13 yrs of age when I saw this greatly ...</td>\n",
              "      <td>positive</td>\n",
              "      <td>96</td>\n",
              "    </tr>\n",
              "    <tr>\n",
              "      <th>4</th>\n",
              "      <td>8051</td>\n",
              "      <td>The Coen Brothers have truly outdone themselve...</td>\n",
              "      <td>positive</td>\n",
              "      <td>186</td>\n",
              "    </tr>\n",
              "  </tbody>\n",
              "</table>\n",
              "</div>"
            ],
            "text/plain": [
              "   index                                             review sentiment  \\\n",
              "0  23656  Ron Hall pulls a triple threat as he writes, d...  negative   \n",
              "1  27442  The first in the series was brilliant, easily ...  negative   \n",
              "2  40162  I LOVED this movie because Bobbie Phillips can...  positive   \n",
              "3   8459  I was @ 13 yrs of age when I saw this greatly ...  positive   \n",
              "4   8051  The Coen Brothers have truly outdone themselve...  positive   \n",
              "\n",
              "   word_count  \n",
              "0         126  \n",
              "1         384  \n",
              "2          81  \n",
              "3          96  \n",
              "4         186  "
            ]
          },
          "metadata": {
            "tags": []
          },
          "execution_count": 139
        }
      ]
    },
    {
      "cell_type": "code",
      "metadata": {
        "id": "KRfizlViCNqo"
      },
      "source": [
        ""
      ],
      "execution_count": null,
      "outputs": []
    },
    {
      "cell_type": "code",
      "metadata": {
        "id": "LLmdzfRwCNqo"
      },
      "source": [
        ""
      ],
      "execution_count": null,
      "outputs": []
    }
  ]
}