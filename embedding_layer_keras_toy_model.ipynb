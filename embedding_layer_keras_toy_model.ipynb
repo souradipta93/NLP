{
  "nbformat": 4,
  "nbformat_minor": 0,
  "metadata": {
    "kernelspec": {
      "display_name": "Python 3",
      "language": "python",
      "name": "python3"
    },
    "language_info": {
      "codemirror_mode": {
        "name": "ipython",
        "version": 3
      },
      "file_extension": ".py",
      "mimetype": "text/x-python",
      "name": "python",
      "nbconvert_exporter": "python",
      "pygments_lexer": "ipython3",
      "version": "3.8.5"
    },
    "colab": {
      "name": "3_embedding_layer_keras_toy_model.ipynb",
      "provenance": [],
      "include_colab_link": true
    }
  },
  "cells": [
    {
      "cell_type": "markdown",
      "metadata": {
        "id": "view-in-github",
        "colab_type": "text"
      },
      "source": [
        "<a href=\"https://colab.research.google.com/github/souradipta93/NLP/blob/main/3_embedding_layer_keras_toy_model.ipynb\" target=\"_parent\"><img src=\"https://colab.research.google.com/assets/colab-badge.svg\" alt=\"Open In Colab\"/></a>"
      ]
    },
    {
      "cell_type": "markdown",
      "metadata": {
        "id": "dWJ7JeEHJdc5"
      },
      "source": [
        "# Text classification with keras embedding layer"
      ]
    },
    {
      "cell_type": "code",
      "metadata": {
        "id": "hN8MoypXJdc6"
      },
      "source": [
        "#!pip install tensorflow --user"
      ],
      "execution_count": null,
      "outputs": []
    },
    {
      "cell_type": "code",
      "metadata": {
        "id": "Mc0OK_rwJdc7"
      },
      "source": [
        "from tensorflow.keras.models import Sequential\n",
        "from tensorflow.keras.layers import Embedding\n",
        "import numpy as np\n",
        "\n",
        "from numpy import array\n",
        "from tensorflow.keras.preprocessing.text import one_hot\n",
        "from tensorflow.keras.preprocessing.sequence import pad_sequences\n",
        "from tensorflow.keras.models import Sequential\n",
        "from tensorflow.keras.layers import Flatten, Embedding, Dense\n",
        "\n"
      ],
      "execution_count": null,
      "outputs": []
    },
    {
      "cell_type": "code",
      "metadata": {
        "id": "remUcdcGJdc8"
      },
      "source": [
        "# Enlist 10 movie reviews\n",
        "reviews = [\n",
        "    'Never coming back!',\n",
        "    'unflinching scenes of violence',\n",
        "    'slower than a soap opera',\n",
        "    'complete waste of time',\n",
        "    'Bad mistake',\n",
        "    'A wonderful little production',\n",
        "    'dialogue is witty and the characters are likable!',\n",
        "    'Rocks!',\n",
        "    'artistic work',\n",
        "    'Could not have done better']\n",
        "\n",
        "# Define labels (Y) (1=negative, 0=positive)\n",
        "labels = array([1,1,1,1,1,0,0,0,0,0])"
      ],
      "execution_count": null,
      "outputs": []
    },
    {
      "cell_type": "code",
      "metadata": {
        "id": "RcBwOXWnJdc8",
        "outputId": "de17442b-18c8-4d63-9220-e804504e1a51"
      },
      "source": [
        "len(reviews)"
      ],
      "execution_count": null,
      "outputs": [
        {
          "output_type": "execute_result",
          "data": {
            "text/plain": [
              "10"
            ]
          },
          "metadata": {
            "tags": []
          },
          "execution_count": 4
        }
      ]
    },
    {
      "cell_type": "code",
      "metadata": {
        "id": "TsJY6n_lJdc-"
      },
      "source": [
        ""
      ],
      "execution_count": null,
      "outputs": []
    },
    {
      "cell_type": "code",
      "metadata": {
        "id": "LeqvlnbyJdc-",
        "outputId": "a2a9880c-a304-422f-cf35-ab02790ed2c3"
      },
      "source": [
        "## Identify the max word length of the sentences - to be used for padding\n",
        "max_words = 0\n",
        "for i in range (0, len(reviews)):\n",
        "    if len(reviews[i].split(\" \")) > max_words:\n",
        "        max_words = len(reviews[i].split(\" \"))\n",
        "max_words   "
      ],
      "execution_count": null,
      "outputs": [
        {
          "output_type": "execute_result",
          "data": {
            "text/plain": [
              "8"
            ]
          },
          "metadata": {
            "tags": []
          },
          "execution_count": 5
        }
      ]
    },
    {
      "cell_type": "markdown",
      "metadata": {
        "id": "-9rjaCPdJdc_"
      },
      "source": [
        "## Get vocabulary and word indices"
      ]
    },
    {
      "cell_type": "code",
      "metadata": {
        "id": "6CtPxc13Jdc_"
      },
      "source": [
        "from sklearn.feature_extraction.text import CountVectorizer\n",
        "\n",
        "#Lets understand count vectoriser\n",
        "cv = CountVectorizer()"
      ],
      "execution_count": null,
      "outputs": []
    },
    {
      "cell_type": "code",
      "metadata": {
        "id": "8qrm3DfIJdc_",
        "outputId": "f101a3e5-aed3-4954-d460-7d7d3c44c7b6"
      },
      "source": [
        "test_cv = cv.fit_transform(reviews)\n",
        "test_cv.shape"
      ],
      "execution_count": null,
      "outputs": [
        {
          "output_type": "execute_result",
          "data": {
            "text/plain": [
              "(10, 35)"
            ]
          },
          "metadata": {
            "tags": []
          },
          "execution_count": 7
        }
      ]
    },
    {
      "cell_type": "code",
      "metadata": {
        "id": "ghLkSTCmJddA",
        "outputId": "bc91a51e-82bf-45d6-fa4e-16a1cd1b98e0"
      },
      "source": [
        "test_cv.shape[1]"
      ],
      "execution_count": null,
      "outputs": [
        {
          "output_type": "execute_result",
          "data": {
            "text/plain": [
              "35"
            ]
          },
          "metadata": {
            "tags": []
          },
          "execution_count": 8
        }
      ]
    },
    {
      "cell_type": "code",
      "metadata": {
        "id": "vz2u7SUPJddA",
        "outputId": "c4037bfd-c101-4c36-f4d5-4d201a79604f"
      },
      "source": [
        "VOCAB_SIZE = test_cv.shape[1]\n",
        "VOCAB_SIZE"
      ],
      "execution_count": null,
      "outputs": [
        {
          "output_type": "execute_result",
          "data": {
            "text/plain": [
              "35"
            ]
          },
          "metadata": {
            "tags": []
          },
          "execution_count": 9
        }
      ]
    },
    {
      "cell_type": "code",
      "metadata": {
        "id": "K4o7TM35JddB",
        "outputId": "3ebc6623-b085-4275-d4a0-43eaf3cf65f9"
      },
      "source": [
        "cv.vocabulary_"
      ],
      "execution_count": null,
      "outputs": [
        {
          "output_type": "execute_result",
          "data": {
            "text/plain": [
              "{'never': 17,\n",
              " 'coming': 7,\n",
              " 'back': 3,\n",
              " 'unflinching': 29,\n",
              " 'scenes': 23,\n",
              " 'of': 19,\n",
              " 'violence': 30,\n",
              " 'slower': 24,\n",
              " 'than': 26,\n",
              " 'soap': 25,\n",
              " 'opera': 20,\n",
              " 'complete': 8,\n",
              " 'waste': 31,\n",
              " 'time': 28,\n",
              " 'bad': 4,\n",
              " 'mistake': 16,\n",
              " 'wonderful': 33,\n",
              " 'little': 15,\n",
              " 'production': 21,\n",
              " 'dialogue': 10,\n",
              " 'is': 13,\n",
              " 'witty': 32,\n",
              " 'and': 0,\n",
              " 'the': 27,\n",
              " 'characters': 6,\n",
              " 'are': 1,\n",
              " 'likable': 14,\n",
              " 'rocks': 22,\n",
              " 'artistic': 2,\n",
              " 'work': 34,\n",
              " 'could': 9,\n",
              " 'not': 18,\n",
              " 'have': 12,\n",
              " 'done': 11,\n",
              " 'better': 5}"
            ]
          },
          "metadata": {
            "tags": []
          },
          "execution_count": 10
        }
      ]
    },
    {
      "cell_type": "markdown",
      "metadata": {
        "id": "27fR9C43JddB"
      },
      "source": [
        "**TensorFlow translates all of the words to index values and replaces each word with that index**"
      ]
    },
    {
      "cell_type": "code",
      "metadata": {
        "id": "aRfItp0bJddC",
        "outputId": "b118f6ca-e22d-493a-9b86-923cdaa26901"
      },
      "source": [
        "#TensorFlow one-hot encoding\n",
        "encoded_reviews = [one_hot(d, VOCAB_SIZE) for d in reviews]\n",
        "encoded_reviews"
      ],
      "execution_count": null,
      "outputs": [
        {
          "output_type": "execute_result",
          "data": {
            "text/plain": [
              "[[18, 6, 33],\n",
              " [31, 1, 13, 33],\n",
              " [7, 30, 30, 18, 13],\n",
              " [4, 34, 13, 21],\n",
              " [16, 6],\n",
              " [30, 23, 32, 12],\n",
              " [13, 23, 1, 13, 10, 23, 18, 30],\n",
              " [24],\n",
              " [10, 21],\n",
              " [21, 20, 7, 21, 29]]"
            ]
          },
          "metadata": {
            "tags": []
          },
          "execution_count": 11
        }
      ]
    },
    {
      "cell_type": "markdown",
      "metadata": {
        "id": "P0JBQG3JJddC"
      },
      "source": [
        "## Padding reviews\n",
        "- lengths of sentences are different\n",
        "- pad these reviews to max words"
      ]
    },
    {
      "cell_type": "code",
      "metadata": {
        "id": "8vUGsGaMJddC",
        "outputId": "497101c1-34d0-4490-890e-dfec2f45b2ac"
      },
      "source": [
        "padded_reviews = pad_sequences(encoded_reviews, maxlen=max_words, padding='post')\n",
        "padded_reviews"
      ],
      "execution_count": null,
      "outputs": [
        {
          "output_type": "execute_result",
          "data": {
            "text/plain": [
              "array([[18,  6, 33,  0,  0,  0,  0,  0],\n",
              "       [31,  1, 13, 33,  0,  0,  0,  0],\n",
              "       [ 7, 30, 30, 18, 13,  0,  0,  0],\n",
              "       [ 4, 34, 13, 21,  0,  0,  0,  0],\n",
              "       [16,  6,  0,  0,  0,  0,  0,  0],\n",
              "       [30, 23, 32, 12,  0,  0,  0,  0],\n",
              "       [13, 23,  1, 13, 10, 23, 18, 30],\n",
              "       [24,  0,  0,  0,  0,  0,  0,  0],\n",
              "       [10, 21,  0,  0,  0,  0,  0,  0],\n",
              "       [21, 20,  7, 21, 29,  0,  0,  0]])"
            ]
          },
          "metadata": {
            "tags": []
          },
          "execution_count": 12
        }
      ]
    },
    {
      "cell_type": "markdown",
      "metadata": {
        "id": "t019tU8BJddD"
      },
      "source": [
        "**each review is padded by appending zeros at the end -  padding=post setting**"
      ]
    },
    {
      "cell_type": "markdown",
      "metadata": {
        "id": "bR6_xgVzJddD"
      },
      "source": [
        "### neural network to learn to classify these reviews"
      ]
    },
    {
      "cell_type": "markdown",
      "metadata": {
        "id": "cnnXRUQHJddD"
      },
      "source": [
        "- input_dim = How large is the vocabulary? \n",
        "- output_dim = How many numbers in the vector that you wish to return.\n",
        "- input_length = How many items are in the input feature vector that you need to transform?"
      ]
    },
    {
      "cell_type": "markdown",
      "metadata": {
        "id": "mavhusMrJddD"
      },
      "source": [
        "## Creating the embedding layer"
      ]
    },
    {
      "cell_type": "code",
      "metadata": {
        "id": "5zDaYYnAJddE"
      },
      "source": [
        "model=Sequential()\n",
        "model.add(Embedding(VOCAB_SIZE, 5, input_length=max_words))\n",
        "model.compile('adam','mse')"
      ],
      "execution_count": null,
      "outputs": []
    },
    {
      "cell_type": "code",
      "metadata": {
        "id": "5SD_ee8-JddE",
        "outputId": "d83798ac-8080-4a34-b149-1a643caa4537"
      },
      "source": [
        "model.summary()"
      ],
      "execution_count": null,
      "outputs": [
        {
          "output_type": "stream",
          "text": [
            "Model: \"sequential\"\n",
            "_________________________________________________________________\n",
            "Layer (type)                 Output Shape              Param #   \n",
            "=================================================================\n",
            "embedding (Embedding)        (None, 8, 5)              175       \n",
            "=================================================================\n",
            "Total params: 175\n",
            "Trainable params: 175\n",
            "Non-trainable params: 0\n",
            "_________________________________________________________________\n"
          ],
          "name": "stdout"
        }
      ]
    },
    {
      "cell_type": "code",
      "metadata": {
        "id": "RzvmkErIJddE",
        "outputId": "8e50203d-bf0b-4b0b-f8e8-0a4e903b14a0"
      },
      "source": [
        "#View the word embeddings (8 words of padded review * 5 dimensions per word)\n",
        "print(model.predict(padded_reviews))"
      ],
      "execution_count": null,
      "outputs": [
        {
          "output_type": "stream",
          "text": [
            "[[[ 0.02628726  0.02608377  0.01073365  0.02550543  0.00356968]\n",
            "  [-0.01923581 -0.0143186   0.01217812  0.04515283  0.01381182]\n",
            "  [ 0.03764497 -0.04185117  0.00226804  0.00752691 -0.04151941]\n",
            "  [ 0.04958353 -0.00881586 -0.02619383  0.01204515 -0.02920728]\n",
            "  [ 0.04958353 -0.00881586 -0.02619383  0.01204515 -0.02920728]\n",
            "  [ 0.04958353 -0.00881586 -0.02619383  0.01204515 -0.02920728]\n",
            "  [ 0.04958353 -0.00881586 -0.02619383  0.01204515 -0.02920728]\n",
            "  [ 0.04958353 -0.00881586 -0.02619383  0.01204515 -0.02920728]]\n",
            "\n",
            " [[ 0.0437868  -0.00890525  0.04524394  0.04425904 -0.04062217]\n",
            "  [ 0.0179368   0.0137301  -0.02281821  0.0290441   0.02564264]\n",
            "  [ 0.03283925  0.02162002  0.02333589 -0.0476038  -0.03974309]\n",
            "  [ 0.03764497 -0.04185117  0.00226804  0.00752691 -0.04151941]\n",
            "  [ 0.04958353 -0.00881586 -0.02619383  0.01204515 -0.02920728]\n",
            "  [ 0.04958353 -0.00881586 -0.02619383  0.01204515 -0.02920728]\n",
            "  [ 0.04958353 -0.00881586 -0.02619383  0.01204515 -0.02920728]\n",
            "  [ 0.04958353 -0.00881586 -0.02619383  0.01204515 -0.02920728]]\n",
            "\n",
            " [[ 0.02367197 -0.01324234 -0.00729591 -0.02468982 -0.01332774]\n",
            "  [ 0.03052286  0.02524901  0.00968405 -0.00773164 -0.00633283]\n",
            "  [ 0.03052286  0.02524901  0.00968405 -0.00773164 -0.00633283]\n",
            "  [ 0.02628726  0.02608377  0.01073365  0.02550543  0.00356968]\n",
            "  [ 0.03283925  0.02162002  0.02333589 -0.0476038  -0.03974309]\n",
            "  [ 0.04958353 -0.00881586 -0.02619383  0.01204515 -0.02920728]\n",
            "  [ 0.04958353 -0.00881586 -0.02619383  0.01204515 -0.02920728]\n",
            "  [ 0.04958353 -0.00881586 -0.02619383  0.01204515 -0.02920728]]\n",
            "\n",
            " [[-0.00263637 -0.01305265 -0.00624841  0.01280609  0.039559  ]\n",
            "  [ 0.04695529  0.00364876  0.04622394  0.03212703  0.02184277]\n",
            "  [ 0.03283925  0.02162002  0.02333589 -0.0476038  -0.03974309]\n",
            "  [-0.04431057  0.03200876 -0.04572394  0.02143246  0.01443447]\n",
            "  [ 0.04958353 -0.00881586 -0.02619383  0.01204515 -0.02920728]\n",
            "  [ 0.04958353 -0.00881586 -0.02619383  0.01204515 -0.02920728]\n",
            "  [ 0.04958353 -0.00881586 -0.02619383  0.01204515 -0.02920728]\n",
            "  [ 0.04958353 -0.00881586 -0.02619383  0.01204515 -0.02920728]]\n",
            "\n",
            " [[-0.02100785  0.04295747  0.03705404 -0.00843237 -0.02271463]\n",
            "  [-0.01923581 -0.0143186   0.01217812  0.04515283  0.01381182]\n",
            "  [ 0.04958353 -0.00881586 -0.02619383  0.01204515 -0.02920728]\n",
            "  [ 0.04958353 -0.00881586 -0.02619383  0.01204515 -0.02920728]\n",
            "  [ 0.04958353 -0.00881586 -0.02619383  0.01204515 -0.02920728]\n",
            "  [ 0.04958353 -0.00881586 -0.02619383  0.01204515 -0.02920728]\n",
            "  [ 0.04958353 -0.00881586 -0.02619383  0.01204515 -0.02920728]\n",
            "  [ 0.04958353 -0.00881586 -0.02619383  0.01204515 -0.02920728]]\n",
            "\n",
            " [[ 0.03052286  0.02524901  0.00968405 -0.00773164 -0.00633283]\n",
            "  [-0.01547419 -0.03882653 -0.04381705 -0.02963973 -0.03190432]\n",
            "  [-0.00093503 -0.03596076  0.00283879  0.02258814  0.04816404]\n",
            "  [-0.00038791  0.01393268 -0.01633322 -0.03131167  0.03460857]\n",
            "  [ 0.04958353 -0.00881586 -0.02619383  0.01204515 -0.02920728]\n",
            "  [ 0.04958353 -0.00881586 -0.02619383  0.01204515 -0.02920728]\n",
            "  [ 0.04958353 -0.00881586 -0.02619383  0.01204515 -0.02920728]\n",
            "  [ 0.04958353 -0.00881586 -0.02619383  0.01204515 -0.02920728]]\n",
            "\n",
            " [[ 0.03283925  0.02162002  0.02333589 -0.0476038  -0.03974309]\n",
            "  [-0.01547419 -0.03882653 -0.04381705 -0.02963973 -0.03190432]\n",
            "  [ 0.0179368   0.0137301  -0.02281821  0.0290441   0.02564264]\n",
            "  [ 0.03283925  0.02162002  0.02333589 -0.0476038  -0.03974309]\n",
            "  [ 0.00243461 -0.04330605  0.02748351 -0.04692409  0.04578432]\n",
            "  [-0.01547419 -0.03882653 -0.04381705 -0.02963973 -0.03190432]\n",
            "  [ 0.02628726  0.02608377  0.01073365  0.02550543  0.00356968]\n",
            "  [ 0.03052286  0.02524901  0.00968405 -0.00773164 -0.00633283]]\n",
            "\n",
            " [[-0.04544208  0.00543793  0.00376325  0.00952203 -0.02676283]\n",
            "  [ 0.04958353 -0.00881586 -0.02619383  0.01204515 -0.02920728]\n",
            "  [ 0.04958353 -0.00881586 -0.02619383  0.01204515 -0.02920728]\n",
            "  [ 0.04958353 -0.00881586 -0.02619383  0.01204515 -0.02920728]\n",
            "  [ 0.04958353 -0.00881586 -0.02619383  0.01204515 -0.02920728]\n",
            "  [ 0.04958353 -0.00881586 -0.02619383  0.01204515 -0.02920728]\n",
            "  [ 0.04958353 -0.00881586 -0.02619383  0.01204515 -0.02920728]\n",
            "  [ 0.04958353 -0.00881586 -0.02619383  0.01204515 -0.02920728]]\n",
            "\n",
            " [[ 0.00243461 -0.04330605  0.02748351 -0.04692409  0.04578432]\n",
            "  [-0.04431057  0.03200876 -0.04572394  0.02143246  0.01443447]\n",
            "  [ 0.04958353 -0.00881586 -0.02619383  0.01204515 -0.02920728]\n",
            "  [ 0.04958353 -0.00881586 -0.02619383  0.01204515 -0.02920728]\n",
            "  [ 0.04958353 -0.00881586 -0.02619383  0.01204515 -0.02920728]\n",
            "  [ 0.04958353 -0.00881586 -0.02619383  0.01204515 -0.02920728]\n",
            "  [ 0.04958353 -0.00881586 -0.02619383  0.01204515 -0.02920728]\n",
            "  [ 0.04958353 -0.00881586 -0.02619383  0.01204515 -0.02920728]]\n",
            "\n",
            " [[-0.04431057  0.03200876 -0.04572394  0.02143246  0.01443447]\n",
            "  [ 0.00119364 -0.03473427  0.03446061  0.01627748  0.01256787]\n",
            "  [ 0.02367197 -0.01324234 -0.00729591 -0.02468982 -0.01332774]\n",
            "  [-0.04431057  0.03200876 -0.04572394  0.02143246  0.01443447]\n",
            "  [-0.04586084  0.03224703 -0.04259262  0.04660604  0.013666  ]\n",
            "  [ 0.04958353 -0.00881586 -0.02619383  0.01204515 -0.02920728]\n",
            "  [ 0.04958353 -0.00881586 -0.02619383  0.01204515 -0.02920728]\n",
            "  [ 0.04958353 -0.00881586 -0.02619383  0.01204515 -0.02920728]]]\n"
          ],
          "name": "stdout"
        }
      ]
    },
    {
      "cell_type": "markdown",
      "metadata": {
        "id": "oVsGS12UJddF"
      },
      "source": [
        "## Use embedding layer to build a classification model"
      ]
    },
    {
      "cell_type": "code",
      "metadata": {
        "id": "UATtAVATJddF",
        "outputId": "15c1d8ce-bfb9-4a17-a692-19b31535e3ba"
      },
      "source": [
        "model = Sequential()\n",
        "embedding_layer = Embedding(VOCAB_SIZE, 5, input_length=max_words)\n",
        "model.add(embedding_layer)\n",
        "model.add(Flatten())\n",
        "model.add(Dense(1, activation='sigmoid'))\n",
        "model.compile(optimizer='adam', loss='binary_crossentropy', metrics=['acc'])\n",
        "\n",
        "print(model.summary())"
      ],
      "execution_count": null,
      "outputs": [
        {
          "output_type": "stream",
          "text": [
            "Model: \"sequential_2\"\n",
            "_________________________________________________________________\n",
            "Layer (type)                 Output Shape              Param #   \n",
            "=================================================================\n",
            "embedding_2 (Embedding)      (None, 8, 5)              175       \n",
            "_________________________________________________________________\n",
            "flatten_1 (Flatten)          (None, 40)                0         \n",
            "_________________________________________________________________\n",
            "dense_1 (Dense)              (None, 1)                 41        \n",
            "=================================================================\n",
            "Total params: 216\n",
            "Trainable params: 216\n",
            "Non-trainable params: 0\n",
            "_________________________________________________________________\n",
            "None\n"
          ],
          "name": "stdout"
        }
      ]
    },
    {
      "cell_type": "markdown",
      "metadata": {
        "id": "F1aTxn_bJddF"
      },
      "source": [
        "### Explaining the output\n",
        "\n",
        "- 8 is the max_word used for the padded reviews\n",
        "- 5 is the length of the vector used to represent each word\n",
        "- 5 * 35 (VOCAB_SIZE) is 175 - number of parameters in the embedding layer\n",
        "- Output size from embedding layer is 8*5 = 40\n",
        "- single output neuron is connected to the embedding layer by 33 weights\n",
        "- 32 from the embedding layer and a single bias neuron"
      ]
    },
    {
      "cell_type": "code",
      "metadata": {
        "id": "zT7bHn9IJddG",
        "outputId": "8d642717-10f7-4926-aa2b-f1759295eb22"
      },
      "source": [
        "# fit the model\n",
        "model.fit(padded_reviews,labels, epochs=30, verbose=2)"
      ],
      "execution_count": null,
      "outputs": [
        {
          "output_type": "stream",
          "text": [
            "Epoch 1/30\n",
            "1/1 - 0s - loss: 0.6921 - acc: 0.5000\n",
            "Epoch 2/30\n",
            "1/1 - 0s - loss: 0.6906 - acc: 0.5000\n",
            "Epoch 3/30\n",
            "1/1 - 0s - loss: 0.6891 - acc: 0.6000\n",
            "Epoch 4/30\n",
            "1/1 - 0s - loss: 0.6876 - acc: 0.7000\n",
            "Epoch 5/30\n",
            "1/1 - 0s - loss: 0.6861 - acc: 0.8000\n",
            "Epoch 6/30\n",
            "1/1 - 0s - loss: 0.6846 - acc: 0.8000\n",
            "Epoch 7/30\n",
            "1/1 - 0s - loss: 0.6830 - acc: 1.0000\n",
            "Epoch 8/30\n",
            "1/1 - 0s - loss: 0.6815 - acc: 1.0000\n",
            "Epoch 9/30\n",
            "1/1 - 0s - loss: 0.6800 - acc: 1.0000\n",
            "Epoch 10/30\n",
            "1/1 - 0s - loss: 0.6784 - acc: 1.0000\n",
            "Epoch 11/30\n",
            "1/1 - 0s - loss: 0.6769 - acc: 1.0000\n",
            "Epoch 12/30\n",
            "1/1 - 0s - loss: 0.6753 - acc: 1.0000\n",
            "Epoch 13/30\n",
            "1/1 - 0s - loss: 0.6738 - acc: 1.0000\n",
            "Epoch 14/30\n",
            "1/1 - 0s - loss: 0.6722 - acc: 1.0000\n",
            "Epoch 15/30\n",
            "1/1 - 0s - loss: 0.6707 - acc: 1.0000\n",
            "Epoch 16/30\n",
            "1/1 - 0s - loss: 0.6691 - acc: 1.0000\n",
            "Epoch 17/30\n",
            "1/1 - 0s - loss: 0.6675 - acc: 1.0000\n",
            "Epoch 18/30\n",
            "1/1 - 0s - loss: 0.6659 - acc: 1.0000\n",
            "Epoch 19/30\n",
            "1/1 - 0s - loss: 0.6643 - acc: 1.0000\n",
            "Epoch 20/30\n",
            "1/1 - 0s - loss: 0.6627 - acc: 1.0000\n",
            "Epoch 21/30\n",
            "1/1 - 0s - loss: 0.6611 - acc: 1.0000\n",
            "Epoch 22/30\n",
            "1/1 - 0s - loss: 0.6594 - acc: 1.0000\n",
            "Epoch 23/30\n",
            "1/1 - 0s - loss: 0.6578 - acc: 1.0000\n",
            "Epoch 24/30\n",
            "1/1 - 0s - loss: 0.6561 - acc: 1.0000\n",
            "Epoch 25/30\n",
            "1/1 - 0s - loss: 0.6544 - acc: 1.0000\n",
            "Epoch 26/30\n",
            "1/1 - 0s - loss: 0.6528 - acc: 1.0000\n",
            "Epoch 27/30\n",
            "1/1 - 0s - loss: 0.6511 - acc: 1.0000\n",
            "Epoch 28/30\n",
            "1/1 - 0s - loss: 0.6493 - acc: 1.0000\n",
            "Epoch 29/30\n",
            "1/1 - 0s - loss: 0.6476 - acc: 1.0000\n",
            "Epoch 30/30\n",
            "1/1 - 0s - loss: 0.6459 - acc: 1.0000\n"
          ],
          "name": "stdout"
        },
        {
          "output_type": "execute_result",
          "data": {
            "text/plain": [
              "<tensorflow.python.keras.callbacks.History at 0x185982c28b0>"
            ]
          },
          "metadata": {
            "tags": []
          },
          "execution_count": 21
        }
      ]
    },
    {
      "cell_type": "code",
      "metadata": {
        "id": "rv3p0qSVJddG",
        "outputId": "ea19a7ba-f295-406e-f394-e81793734adf"
      },
      "source": [
        "#Weights of the neural network\n",
        "print(embedding_layer.get_weights()[0].shape)\n",
        "print(embedding_layer.get_weights())"
      ],
      "execution_count": null,
      "outputs": [
        {
          "output_type": "stream",
          "text": [
            "(35, 5)\n",
            "[array([[ 0.00896169,  0.05281427,  0.07611971, -0.00220037, -0.04760801],\n",
            "       [-0.01334171, -0.02854192, -0.01416   ,  0.07467426, -0.01148151],\n",
            "       [-0.00307142, -0.04682486,  0.03691106, -0.04811405,  0.02341738],\n",
            "       [ 0.00628116,  0.03010892, -0.01977941,  0.00172827, -0.01123383],\n",
            "       [ 0.01848032,  0.00916144, -0.06602555,  0.0179408 ,  0.04225676],\n",
            "       [ 0.03119499, -0.03585517,  0.01607618, -0.04502418, -0.04649937],\n",
            "       [-0.00925162, -0.01809002, -0.07927017, -0.018263  ,  0.03500897],\n",
            "       [-0.00839186,  0.03043676, -0.03704572, -0.01208869,  0.03305728],\n",
            "       [-0.01109999, -0.00028785,  0.03328579,  0.04230466,  0.03021765],\n",
            "       [ 0.03680978,  0.01648321,  0.04533643, -0.03523693,  0.0032534 ],\n",
            "       [ 0.04923539, -0.07009612, -0.00024977, -0.00541267, -0.01721736],\n",
            "       [ 0.01752696,  0.01674411, -0.03417907, -0.04716414, -0.02547703],\n",
            "       [ 0.02454761,  0.03098752, -0.04716522, -0.03430349,  0.01053312],\n",
            "       [ 0.00906456,  0.07495803,  0.07602953, -0.03177919, -0.07237231],\n",
            "       [ 0.02360557,  0.01774467,  0.00169853, -0.00833283, -0.01183112],\n",
            "       [-0.01984143, -0.01640562,  0.04260728,  0.00241538,  0.01775937],\n",
            "       [ 0.0012017 ,  0.04114097, -0.01583986,  0.00955763,  0.0488907 ],\n",
            "       [-0.02202783,  0.0338386 , -0.04924473, -0.04235942, -0.03006411],\n",
            "       [-0.06237494, -0.0380014 , -0.05472553, -0.0254873 ,  0.06237224],\n",
            "       [-0.02154192, -0.03909142, -0.03002897, -0.00738821, -0.04057546],\n",
            "       [ 0.05942388,  0.03624741, -0.00105526,  0.04511911, -0.07541196],\n",
            "       [ 0.0540276 , -0.00516938, -0.01531025,  0.0077323 ,  0.01209262],\n",
            "       [ 0.04831139,  0.04434769,  0.03702388, -0.01321965,  0.03091431],\n",
            "       [-0.01536712,  0.05460477,  0.01670773,  0.03049282, -0.00891077],\n",
            "       [ 0.06264698, -0.07477254,  0.02251671, -0.0216235 , -0.05135724],\n",
            "       [-0.03672899,  0.03311837, -0.01443611, -0.02812039, -0.0290795 ],\n",
            "       [ 0.04511091, -0.04284852, -0.01500773, -0.04320686, -0.02736585],\n",
            "       [ 0.03771627, -0.04046135, -0.0120823 ,  0.02101207,  0.04935766],\n",
            "       [-0.03837001,  0.04225809, -0.04401929,  0.04786836, -0.04573964],\n",
            "       [ 0.01107685, -0.06292897, -0.01645067,  0.01298973, -0.05872679],\n",
            "       [ 0.06373498, -0.03547436, -0.00730737, -0.03759551,  0.06231588],\n",
            "       [-0.01394314,  0.04653664,  0.00793482,  0.01945837,  0.07503533],\n",
            "       [-0.01369591,  0.03045131, -0.01620873,  0.05716009,  0.04742688],\n",
            "       [ 0.04624267, -0.05785712,  0.05319428, -0.01456369, -0.01333659],\n",
            "       [-0.07380438, -0.01421474, -0.05453591,  0.00830137,  0.04294069]],\n",
            "      dtype=float32)]\n"
          ],
          "name": "stdout"
        }
      ]
    },
    {
      "cell_type": "markdown",
      "metadata": {
        "id": "gkrzXUWTJddH"
      },
      "source": [
        "**every word in the vocabulary is represented by a vector of 8 numbers**"
      ]
    },
    {
      "cell_type": "code",
      "metadata": {
        "id": "vSxRjS8kJddH",
        "outputId": "767a4ecc-1ff1-421a-ea40-b87e5bbf69a1"
      },
      "source": [
        "loss, accuracy = model.evaluate(padded_reviews, labels, verbose=0)\n",
        "print(f'Accuracy: {accuracy}')"
      ],
      "execution_count": null,
      "outputs": [
        {
          "output_type": "stream",
          "text": [
            "Accuracy: 1.0\n"
          ],
          "name": "stdout"
        }
      ]
    },
    {
      "cell_type": "code",
      "metadata": {
        "id": "_h65kzgpJddH"
      },
      "source": [
        ""
      ],
      "execution_count": null,
      "outputs": []
    }
  ]
}
