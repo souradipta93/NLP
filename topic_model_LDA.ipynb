{
  "nbformat": 4,
  "nbformat_minor": 0,
  "metadata": {
    "kernelspec": {
      "display_name": "Python 3",
      "language": "python",
      "name": "python3"
    },
    "language_info": {
      "codemirror_mode": {
        "name": "ipython",
        "version": 3
      },
      "file_extension": ".py",
      "mimetype": "text/x-python",
      "name": "python",
      "nbconvert_exporter": "python",
      "pygments_lexer": "ipython3",
      "version": "3.8.5"
    },
    "colab": {
      "name": "topic_model_LDA.ipynb",
      "provenance": [],
      "include_colab_link": true
    }
  },
  "cells": [
    {
      "cell_type": "markdown",
      "metadata": {
        "id": "view-in-github",
        "colab_type": "text"
      },
      "source": [
        "<a href=\"https://colab.research.google.com/github/souradipta93/NLP/blob/main/topic_model_LDA.ipynb\" target=\"_parent\"><img src=\"https://colab.research.google.com/assets/colab-badge.svg\" alt=\"Open In Colab\"/></a>"
      ]
    },
    {
      "cell_type": "markdown",
      "metadata": {
        "id": "YKYURcsgEpK8"
      },
      "source": [
        "# LDA in Python – How to grid search best topic models?"
      ]
    },
    {
      "cell_type": "code",
      "metadata": {
        "id": "93jIhd5fEpK9"
      },
      "source": [
        "import numpy as np\n",
        "import pandas as pd\n",
        "import re\n",
        "import nltk"
      ],
      "execution_count": null,
      "outputs": []
    },
    {
      "cell_type": "code",
      "metadata": {
        "id": "xh0jL06HEpK9"
      },
      "source": [
        "# Sklearn\n",
        "from sklearn.decomposition import LatentDirichletAllocation\n",
        "from sklearn.feature_extraction.text import CountVectorizer\n",
        "from sklearn.feature_extraction.text import TfidfVectorizer\n",
        "from sklearn.model_selection import GridSearchCV\n",
        "from pprint import pprint\n",
        "\n",
        "\n",
        "#remove stopwords\n",
        "from nltk.corpus import stopwords\n",
        "stop_words = set(stopwords.words(\"english\"))\n",
        "\n",
        "from nltk.stem.wordnet import WordNetLemmatizer "
      ],
      "execution_count": null,
      "outputs": []
    },
    {
      "cell_type": "code",
      "metadata": {
        "id": "rVNqjUJsEpK-"
      },
      "source": [
        "df = pd.read_csv('drug.csv')"
      ],
      "execution_count": null,
      "outputs": []
    },
    {
      "cell_type": "code",
      "metadata": {
        "id": "cLDDBsMlEpK_",
        "outputId": "4275e149-f36c-4def-eea7-1ec9da20f409"
      },
      "source": [
        "df.head()"
      ],
      "execution_count": null,
      "outputs": [
        {
          "output_type": "execute_result",
          "data": {
            "text/html": [
              "<div>\n",
              "<style scoped>\n",
              "    .dataframe tbody tr th:only-of-type {\n",
              "        vertical-align: middle;\n",
              "    }\n",
              "\n",
              "    .dataframe tbody tr th {\n",
              "        vertical-align: top;\n",
              "    }\n",
              "\n",
              "    .dataframe thead th {\n",
              "        text-align: right;\n",
              "    }\n",
              "</style>\n",
              "<table border=\"1\" class=\"dataframe\">\n",
              "  <thead>\n",
              "    <tr style=\"text-align: right;\">\n",
              "      <th></th>\n",
              "      <th>urlDrugName</th>\n",
              "      <th>rating</th>\n",
              "      <th>Review</th>\n",
              "      <th>score</th>\n",
              "    </tr>\n",
              "  </thead>\n",
              "  <tbody>\n",
              "    <tr>\n",
              "      <th>0</th>\n",
              "      <td>enalapril</td>\n",
              "      <td>4</td>\n",
              "      <td>enalapril management of congestive heart failu...</td>\n",
              "      <td>Low</td>\n",
              "    </tr>\n",
              "    <tr>\n",
              "      <th>1</th>\n",
              "      <td>ortho-tri-cyclen</td>\n",
              "      <td>1</td>\n",
              "      <td>ortho-tri-cyclen birth prevention - Although t...</td>\n",
              "      <td>Low</td>\n",
              "    </tr>\n",
              "    <tr>\n",
              "      <th>2</th>\n",
              "      <td>ponstel</td>\n",
              "      <td>10</td>\n",
              "      <td>ponstel menstrual cramps - I was used to havin...</td>\n",
              "      <td>high</td>\n",
              "    </tr>\n",
              "    <tr>\n",
              "      <th>3</th>\n",
              "      <td>prilosec</td>\n",
              "      <td>3</td>\n",
              "      <td>prilosec acid reflux - The acid reflux went aw...</td>\n",
              "      <td>Low</td>\n",
              "    </tr>\n",
              "    <tr>\n",
              "      <th>4</th>\n",
              "      <td>lyrica</td>\n",
              "      <td>2</td>\n",
              "      <td>lyrica fibromyalgia - I think that the Lyrica ...</td>\n",
              "      <td>Low</td>\n",
              "    </tr>\n",
              "  </tbody>\n",
              "</table>\n",
              "</div>"
            ],
            "text/plain": [
              "        urlDrugName  rating  \\\n",
              "0         enalapril       4   \n",
              "1  ortho-tri-cyclen       1   \n",
              "2           ponstel      10   \n",
              "3          prilosec       3   \n",
              "4            lyrica       2   \n",
              "\n",
              "                                              Review score  \n",
              "0  enalapril management of congestive heart failu...   Low  \n",
              "1  ortho-tri-cyclen birth prevention - Although t...   Low  \n",
              "2  ponstel menstrual cramps - I was used to havin...  high  \n",
              "3  prilosec acid reflux - The acid reflux went aw...   Low  \n",
              "4  lyrica fibromyalgia - I think that the Lyrica ...   Low  "
            ]
          },
          "metadata": {
            "tags": []
          },
          "execution_count": 4
        }
      ]
    },
    {
      "cell_type": "code",
      "metadata": {
        "id": "1vSpoLzgEpK_"
      },
      "source": [
        "#Adding custom stop words\n",
        "new_words = ['http','bit','ly','rt','com','via', 'could', 'would', 'said', 'told', 'yet', 'even', 'shall','let',\n",
        "            'one', 'never', 'might', 'upon', 'first', 'day', 'either', 'rather', 'thing', 'must', 'saw', 'like', 'know',\n",
        "            'time', 'thought', 'made', 'found', 'seemed', 'year', 'mr', 'also', 'last', 'two', 'say', 'make', 'get',\n",
        "            'back', 'take', 'away', 'drug', 'mg', 'side', 'effect', 'medication', 'pill', 'take']\n",
        "stop_words = stop_words.union(new_words)"
      ],
      "execution_count": null,
      "outputs": []
    },
    {
      "cell_type": "code",
      "metadata": {
        "id": "vKllmJfPEpLA"
      },
      "source": [
        "#Text pre-processing\n",
        "corpus = []\n",
        "for i in range(0, df.shape[0]):\n",
        "    #Remove punctuations\n",
        "    text = re.sub('[^a-zA-Z]', ' ', df['Review'][i])\n",
        "    \n",
        "    #Convert to lowercase\n",
        "    text = text.lower()\n",
        "    ##Convert to list from string\n",
        "    text = text.split()\n",
        "    ##Lemmatizing\n",
        "    lm = WordNetLemmatizer() \n",
        "       \n",
        "    \n",
        "    text = [lm.lemmatize(word) for word in text if not word in stop_words] \n",
        "    text = \" \".join(text)\n",
        "    corpus.append(text)"
      ],
      "execution_count": null,
      "outputs": []
    },
    {
      "cell_type": "code",
      "metadata": {
        "id": "goB0SXv-EpLB"
      },
      "source": [
        "#Most frequently occuring words\n",
        "def get_top_n_words(corpus, n=None):\n",
        "    vec = CountVectorizer(stop_words=stop_words, ngram_range=(1,1), max_df=0.7).fit(corpus)\n",
        "    bag_of_words = vec.transform(corpus)\n",
        "    sum_words = bag_of_words.sum(axis=0) \n",
        "    words_freq = [(word, sum_words[0, idx]) for word, idx in vec.vocabulary_.items()]\n",
        "    words_freq =sorted(words_freq, key = lambda x: x[1], reverse=True)\n",
        "    return words_freq[:n]"
      ],
      "execution_count": null,
      "outputs": []
    },
    {
      "cell_type": "code",
      "metadata": {
        "id": "O4-JO9diEpLB",
        "outputId": "a156f310-2793-4b00-850a-30b21e0d4aca"
      },
      "source": [
        "#Convert most freq words to dataframe for plotting bar plot\n",
        "top_words = get_top_n_words(corpus, n=20)\n",
        "top_df = pd.DataFrame(top_words)\n",
        "top_df.columns=[\"Word\", \"Freq\"]\n",
        "top_df.head(20)"
      ],
      "execution_count": null,
      "outputs": [
        {
          "output_type": "execute_result",
          "data": {
            "text/html": [
              "<div>\n",
              "<style scoped>\n",
              "    .dataframe tbody tr th:only-of-type {\n",
              "        vertical-align: middle;\n",
              "    }\n",
              "\n",
              "    .dataframe tbody tr th {\n",
              "        vertical-align: top;\n",
              "    }\n",
              "\n",
              "    .dataframe thead th {\n",
              "        text-align: right;\n",
              "    }\n",
              "</style>\n",
              "<table border=\"1\" class=\"dataframe\">\n",
              "  <thead>\n",
              "    <tr style=\"text-align: right;\">\n",
              "      <th></th>\n",
              "      <th>Word</th>\n",
              "      <th>Freq</th>\n",
              "    </tr>\n",
              "  </thead>\n",
              "  <tbody>\n",
              "    <tr>\n",
              "      <th>0</th>\n",
              "      <td>taking</td>\n",
              "      <td>2278</td>\n",
              "    </tr>\n",
              "    <tr>\n",
              "      <th>1</th>\n",
              "      <td>pain</td>\n",
              "      <td>2038</td>\n",
              "    </tr>\n",
              "    <tr>\n",
              "      <th>2</th>\n",
              "      <td>week</td>\n",
              "      <td>1762</td>\n",
              "    </tr>\n",
              "    <tr>\n",
              "      <th>3</th>\n",
              "      <td>month</td>\n",
              "      <td>1551</td>\n",
              "    </tr>\n",
              "    <tr>\n",
              "      <th>4</th>\n",
              "      <td>treatment</td>\n",
              "      <td>1402</td>\n",
              "    </tr>\n",
              "    <tr>\n",
              "      <th>5</th>\n",
              "      <td>skin</td>\n",
              "      <td>1354</td>\n",
              "    </tr>\n",
              "    <tr>\n",
              "      <th>6</th>\n",
              "      <td>depression</td>\n",
              "      <td>1317</td>\n",
              "    </tr>\n",
              "    <tr>\n",
              "      <th>7</th>\n",
              "      <td>took</td>\n",
              "      <td>1264</td>\n",
              "    </tr>\n",
              "    <tr>\n",
              "      <th>8</th>\n",
              "      <td>sleep</td>\n",
              "      <td>1101</td>\n",
              "    </tr>\n",
              "    <tr>\n",
              "      <th>9</th>\n",
              "      <td>night</td>\n",
              "      <td>1093</td>\n",
              "    </tr>\n",
              "    <tr>\n",
              "      <th>10</th>\n",
              "      <td>doctor</td>\n",
              "      <td>1074</td>\n",
              "    </tr>\n",
              "    <tr>\n",
              "      <th>11</th>\n",
              "      <td>feel</td>\n",
              "      <td>1048</td>\n",
              "    </tr>\n",
              "    <tr>\n",
              "      <th>12</th>\n",
              "      <td>started</td>\n",
              "      <td>1017</td>\n",
              "    </tr>\n",
              "    <tr>\n",
              "      <th>13</th>\n",
              "      <td>acne</td>\n",
              "      <td>972</td>\n",
              "    </tr>\n",
              "    <tr>\n",
              "      <th>14</th>\n",
              "      <td>felt</td>\n",
              "      <td>931</td>\n",
              "    </tr>\n",
              "    <tr>\n",
              "      <th>15</th>\n",
              "      <td>dose</td>\n",
              "      <td>925</td>\n",
              "    </tr>\n",
              "    <tr>\n",
              "      <th>16</th>\n",
              "      <td>anxiety</td>\n",
              "      <td>924</td>\n",
              "    </tr>\n",
              "    <tr>\n",
              "      <th>17</th>\n",
              "      <td>hour</td>\n",
              "      <td>910</td>\n",
              "    </tr>\n",
              "    <tr>\n",
              "      <th>18</th>\n",
              "      <td>symptom</td>\n",
              "      <td>910</td>\n",
              "    </tr>\n",
              "    <tr>\n",
              "      <th>19</th>\n",
              "      <td>work</td>\n",
              "      <td>908</td>\n",
              "    </tr>\n",
              "  </tbody>\n",
              "</table>\n",
              "</div>"
            ],
            "text/plain": [
              "          Word  Freq\n",
              "0       taking  2278\n",
              "1         pain  2038\n",
              "2         week  1762\n",
              "3        month  1551\n",
              "4    treatment  1402\n",
              "5         skin  1354\n",
              "6   depression  1317\n",
              "7         took  1264\n",
              "8        sleep  1101\n",
              "9        night  1093\n",
              "10      doctor  1074\n",
              "11        feel  1048\n",
              "12     started  1017\n",
              "13        acne   972\n",
              "14        felt   931\n",
              "15        dose   925\n",
              "16     anxiety   924\n",
              "17        hour   910\n",
              "18     symptom   910\n",
              "19        work   908"
            ]
          },
          "metadata": {
            "tags": []
          },
          "execution_count": 12
        }
      ]
    },
    {
      "cell_type": "code",
      "metadata": {
        "id": "MzEtXAuQEpLC"
      },
      "source": [
        "vectorizer = TfidfVectorizer(analyzer='word',\n",
        "                             min_df=0.001,\n",
        "                             stop_words=stop_words,\n",
        "                             token_pattern='[a-zA-Z]{3,}',\n",
        "                            ngram_range=(1,1))\n",
        "data_vectorized = vectorizer.fit_transform(corpus)"
      ],
      "execution_count": null,
      "outputs": []
    },
    {
      "cell_type": "code",
      "metadata": {
        "id": "WTLQ2ouQEpLC",
        "outputId": "da37453d-609a-4c7a-9ecf-56d7abd84f3a"
      },
      "source": [
        "print(data_vectorized.shape)"
      ],
      "execution_count": null,
      "outputs": [
        {
          "output_type": "stream",
          "text": [
            "(4143, 3902)\n"
          ],
          "name": "stdout"
        }
      ]
    },
    {
      "cell_type": "code",
      "metadata": {
        "id": "XiJjZostEpLD"
      },
      "source": [
        "# Materialize the sparse data\n",
        "data_dense = data_vectorized.todense()"
      ],
      "execution_count": null,
      "outputs": []
    },
    {
      "cell_type": "code",
      "metadata": {
        "id": "wjXs0_HjEpLD",
        "outputId": "ee193687-295b-445f-9ec4-0a3553d84485"
      },
      "source": [
        "# Compute Sparsity = Percentage of Non-Zero cells\n",
        "print(\"Sparsity: \", ((data_dense > 0).sum()/data_dense.size)*100, \"%\")"
      ],
      "execution_count": null,
      "outputs": [
        {
          "output_type": "stream",
          "text": [
            "Sparsity:  1.0504215455834245 %\n"
          ],
          "name": "stdout"
        }
      ]
    },
    {
      "cell_type": "code",
      "metadata": {
        "id": "-P0cSkYlEpLD",
        "outputId": "e588c748-af9f-4a38-f2cb-302dad286789"
      },
      "source": [
        "# Build a Latent Dirichlet Allocation Model\n",
        "lda_model = LatentDirichletAllocation(n_components=5, \n",
        "                                      max_iter=10, \n",
        "                                      learning_method='online',\n",
        "                                     random_state=123,\n",
        "                                     batch_size=128,\n",
        "                                     evaluate_every=-1,\n",
        "                                     n_jobs=-1)\n",
        "\n",
        "lda_output = lda_model.fit_transform(data_vectorized)\n",
        "\n",
        "print(lda_output.shape)  # (NO_DOCUMENTS, NO_TOPICS)"
      ],
      "execution_count": null,
      "outputs": [
        {
          "output_type": "stream",
          "text": [
            "(4143, 5)\n"
          ],
          "name": "stdout"
        }
      ]
    },
    {
      "cell_type": "markdown",
      "metadata": {
        "id": "B7EMZ86VEpLE"
      },
      "source": [
        "### Let us look at the top 10 words of each topic"
      ]
    },
    {
      "cell_type": "code",
      "metadata": {
        "id": "UDE7r50OEpLE",
        "outputId": "a06303e4-123a-45d7-951c-2c0f65a5f089"
      },
      "source": [
        "n_top_words = 8\n",
        "\n",
        "for topic_idx, topic in enumerate(lda_model.components_):\n",
        "  print(\"Topic {}:\".format(topic_idx), end = ' ')\n",
        "  print(\" \".join([vectorizer.get_feature_names()[i] for i in topic.argsort()[:-n_top_words - 1:-1]]))"
      ],
      "execution_count": null,
      "outputs": [
        {
          "output_type": "stream",
          "text": [
            "Topic 0: blood pressure cholesterol acid reflux hair thyroid high\n",
            "Topic 1: acne skin face cream retin use applied redness\n",
            "Topic 2: flash hot bone lyrica menopause patch premarin estrogen\n",
            "Topic 3: pain taking effect depression week day sleep month\n",
            "Topic 4: outbreak valtrex herpes zovirax genital blister preventive recomended\n"
          ],
          "name": "stdout"
        }
      ]
    },
    {
      "cell_type": "markdown",
      "metadata": {
        "id": "d6nxcvuxEpLF"
      },
      "source": [
        "### Add custom stopwords and repeat pre-processing for better topic word mix"
      ]
    },
    {
      "cell_type": "code",
      "metadata": {
        "id": "zFSyJ3T6EpLF",
        "outputId": "ad63253d-46b2-42c9-8554-2948f9af27a2"
      },
      "source": [
        "# Log Likelyhood: Higher the better\n",
        "print(\"Log Likelihood: \", lda_model.score(data_vectorized))\n",
        "\n",
        "# Perplexity: Lower the better. Perplexity = exp(-1. * log-likelihood per word)\n",
        "print(\"Perplexity: \", lda_model.perplexity(data_vectorized))"
      ],
      "execution_count": null,
      "outputs": [
        {
          "output_type": "stream",
          "text": [
            "Log Likelihood:  -190955.32915979958\n",
            "Perplexity:  4374.574540779342\n"
          ],
          "name": "stdout"
        }
      ]
    },
    {
      "cell_type": "markdown",
      "metadata": {
        "id": "l4s5sNAzEpLF"
      },
      "source": [
        "## View the dominant topic in each document"
      ]
    },
    {
      "cell_type": "code",
      "metadata": {
        "id": "mf3da4_YEpLF",
        "outputId": "ba5aba87-e3c9-471a-de4b-83d6a60041aa"
      },
      "source": [
        "# Create Document - Topic Matrix\n",
        "lda_output = lda_model.transform(data_vectorized)\n",
        "lda_output\n"
      ],
      "execution_count": null,
      "outputs": [
        {
          "output_type": "execute_result",
          "data": {
            "text/plain": [
              "array([[0.07140381, 0.03617521, 0.03615454, 0.82009434, 0.0361721 ],\n",
              "       [0.03005548, 0.03026861, 0.05813579, 0.8515377 , 0.03000242],\n",
              "       [0.03336503, 0.03353801, 0.05702168, 0.84277678, 0.03329849],\n",
              "       ...,\n",
              "       [0.03700974, 0.14465004, 0.03698113, 0.74437349, 0.0369856 ],\n",
              "       [0.02887398, 0.36454784, 0.16207799, 0.41593276, 0.02856743],\n",
              "       [0.04051172, 0.83633753, 0.04043356, 0.04228475, 0.04043244]])"
            ]
          },
          "metadata": {
            "tags": []
          },
          "execution_count": 25
        }
      ]
    },
    {
      "cell_type": "code",
      "metadata": {
        "id": "1JKGfCx2EpLG",
        "outputId": "3e637e18-1a41-4e99-bcde-1bd18ff56c56"
      },
      "source": [
        "# column names\n",
        "topicnames = [\"Topic\" + str(i) for i in range(lda_model.n_components)]\n",
        "topicnames\n"
      ],
      "execution_count": null,
      "outputs": [
        {
          "output_type": "execute_result",
          "data": {
            "text/plain": [
              "['Topic0', 'Topic1', 'Topic2', 'Topic3', 'Topic4']"
            ]
          },
          "metadata": {
            "tags": []
          },
          "execution_count": 26
        }
      ]
    },
    {
      "cell_type": "code",
      "metadata": {
        "id": "nV31fWnOEpLG",
        "outputId": "c2dd5b99-f4b0-4be8-d46c-587a0a1e5674"
      },
      "source": [
        "# index names\n",
        "docnames = [\"Doc\" + str(i) for i in range(len(df))]\n",
        "docnames[10]\n"
      ],
      "execution_count": null,
      "outputs": [
        {
          "output_type": "execute_result",
          "data": {
            "text/plain": [
              "'Doc10'"
            ]
          },
          "metadata": {
            "tags": []
          },
          "execution_count": 27
        }
      ]
    },
    {
      "cell_type": "code",
      "metadata": {
        "id": "ppauRJTpEpLH"
      },
      "source": [
        "# Make the pandas dataframe\n",
        "df_document_topic = pd.DataFrame(np.round(lda_output, 2), columns=topicnames, index=docnames)"
      ],
      "execution_count": null,
      "outputs": []
    },
    {
      "cell_type": "code",
      "metadata": {
        "id": "GsziV6R3EpLH",
        "outputId": "a1e30ed3-8427-4eba-cc50-eb9d1965e945"
      },
      "source": [
        "df_document_topic"
      ],
      "execution_count": null,
      "outputs": [
        {
          "output_type": "execute_result",
          "data": {
            "text/html": [
              "<div>\n",
              "<style scoped>\n",
              "    .dataframe tbody tr th:only-of-type {\n",
              "        vertical-align: middle;\n",
              "    }\n",
              "\n",
              "    .dataframe tbody tr th {\n",
              "        vertical-align: top;\n",
              "    }\n",
              "\n",
              "    .dataframe thead th {\n",
              "        text-align: right;\n",
              "    }\n",
              "</style>\n",
              "<table border=\"1\" class=\"dataframe\">\n",
              "  <thead>\n",
              "    <tr style=\"text-align: right;\">\n",
              "      <th></th>\n",
              "      <th>Topic0</th>\n",
              "      <th>Topic1</th>\n",
              "      <th>Topic2</th>\n",
              "      <th>Topic3</th>\n",
              "      <th>Topic4</th>\n",
              "    </tr>\n",
              "  </thead>\n",
              "  <tbody>\n",
              "    <tr>\n",
              "      <th>Doc0</th>\n",
              "      <td>0.07</td>\n",
              "      <td>0.04</td>\n",
              "      <td>0.04</td>\n",
              "      <td>0.82</td>\n",
              "      <td>0.04</td>\n",
              "    </tr>\n",
              "    <tr>\n",
              "      <th>Doc1</th>\n",
              "      <td>0.03</td>\n",
              "      <td>0.03</td>\n",
              "      <td>0.06</td>\n",
              "      <td>0.85</td>\n",
              "      <td>0.03</td>\n",
              "    </tr>\n",
              "    <tr>\n",
              "      <th>Doc2</th>\n",
              "      <td>0.03</td>\n",
              "      <td>0.03</td>\n",
              "      <td>0.06</td>\n",
              "      <td>0.84</td>\n",
              "      <td>0.03</td>\n",
              "    </tr>\n",
              "    <tr>\n",
              "      <th>Doc3</th>\n",
              "      <td>0.20</td>\n",
              "      <td>0.03</td>\n",
              "      <td>0.03</td>\n",
              "      <td>0.71</td>\n",
              "      <td>0.03</td>\n",
              "    </tr>\n",
              "    <tr>\n",
              "      <th>Doc4</th>\n",
              "      <td>0.04</td>\n",
              "      <td>0.04</td>\n",
              "      <td>0.19</td>\n",
              "      <td>0.70</td>\n",
              "      <td>0.04</td>\n",
              "    </tr>\n",
              "    <tr>\n",
              "      <th>...</th>\n",
              "      <td>...</td>\n",
              "      <td>...</td>\n",
              "      <td>...</td>\n",
              "      <td>...</td>\n",
              "      <td>...</td>\n",
              "    </tr>\n",
              "    <tr>\n",
              "      <th>Doc4138</th>\n",
              "      <td>0.12</td>\n",
              "      <td>0.18</td>\n",
              "      <td>0.03</td>\n",
              "      <td>0.65</td>\n",
              "      <td>0.03</td>\n",
              "    </tr>\n",
              "    <tr>\n",
              "      <th>Doc4139</th>\n",
              "      <td>0.04</td>\n",
              "      <td>0.04</td>\n",
              "      <td>0.04</td>\n",
              "      <td>0.86</td>\n",
              "      <td>0.04</td>\n",
              "    </tr>\n",
              "    <tr>\n",
              "      <th>Doc4140</th>\n",
              "      <td>0.04</td>\n",
              "      <td>0.14</td>\n",
              "      <td>0.04</td>\n",
              "      <td>0.74</td>\n",
              "      <td>0.04</td>\n",
              "    </tr>\n",
              "    <tr>\n",
              "      <th>Doc4141</th>\n",
              "      <td>0.03</td>\n",
              "      <td>0.36</td>\n",
              "      <td>0.16</td>\n",
              "      <td>0.42</td>\n",
              "      <td>0.03</td>\n",
              "    </tr>\n",
              "    <tr>\n",
              "      <th>Doc4142</th>\n",
              "      <td>0.04</td>\n",
              "      <td>0.84</td>\n",
              "      <td>0.04</td>\n",
              "      <td>0.04</td>\n",
              "      <td>0.04</td>\n",
              "    </tr>\n",
              "  </tbody>\n",
              "</table>\n",
              "<p>4143 rows × 5 columns</p>\n",
              "</div>"
            ],
            "text/plain": [
              "         Topic0  Topic1  Topic2  Topic3  Topic4\n",
              "Doc0       0.07    0.04    0.04    0.82    0.04\n",
              "Doc1       0.03    0.03    0.06    0.85    0.03\n",
              "Doc2       0.03    0.03    0.06    0.84    0.03\n",
              "Doc3       0.20    0.03    0.03    0.71    0.03\n",
              "Doc4       0.04    0.04    0.19    0.70    0.04\n",
              "...         ...     ...     ...     ...     ...\n",
              "Doc4138    0.12    0.18    0.03    0.65    0.03\n",
              "Doc4139    0.04    0.04    0.04    0.86    0.04\n",
              "Doc4140    0.04    0.14    0.04    0.74    0.04\n",
              "Doc4141    0.03    0.36    0.16    0.42    0.03\n",
              "Doc4142    0.04    0.84    0.04    0.04    0.04\n",
              "\n",
              "[4143 rows x 5 columns]"
            ]
          },
          "metadata": {
            "tags": []
          },
          "execution_count": 29
        }
      ]
    },
    {
      "cell_type": "code",
      "metadata": {
        "id": "PVyMC9u1EpLH",
        "outputId": "d44fcdd3-d7c7-40fc-ae85-615eb4b1fc0c"
      },
      "source": [
        "# Get dominant topic for each document\n",
        "# argmax - Returns indices of the max element of the array in a particular axis\n",
        "dominant_topic = np.argmax(df_document_topic.values, axis=1)\n",
        "dominant_topic[12]"
      ],
      "execution_count": null,
      "outputs": [
        {
          "output_type": "execute_result",
          "data": {
            "text/plain": [
              "3"
            ]
          },
          "metadata": {
            "tags": []
          },
          "execution_count": 30
        }
      ]
    },
    {
      "cell_type": "code",
      "metadata": {
        "id": "pd9fbugIEpLI"
      },
      "source": [
        "#Add this as a column to the dataframe\n",
        "df_document_topic['dominant_topic'] = dominant_topic"
      ],
      "execution_count": null,
      "outputs": []
    },
    {
      "cell_type": "code",
      "metadata": {
        "id": "ncry2b-AEpLI",
        "outputId": "b8ba891f-97c7-484a-a39e-aaceb2d12a66"
      },
      "source": [
        "df_document_topic"
      ],
      "execution_count": null,
      "outputs": [
        {
          "output_type": "execute_result",
          "data": {
            "text/html": [
              "<div>\n",
              "<style scoped>\n",
              "    .dataframe tbody tr th:only-of-type {\n",
              "        vertical-align: middle;\n",
              "    }\n",
              "\n",
              "    .dataframe tbody tr th {\n",
              "        vertical-align: top;\n",
              "    }\n",
              "\n",
              "    .dataframe thead th {\n",
              "        text-align: right;\n",
              "    }\n",
              "</style>\n",
              "<table border=\"1\" class=\"dataframe\">\n",
              "  <thead>\n",
              "    <tr style=\"text-align: right;\">\n",
              "      <th></th>\n",
              "      <th>Topic0</th>\n",
              "      <th>Topic1</th>\n",
              "      <th>Topic2</th>\n",
              "      <th>Topic3</th>\n",
              "      <th>Topic4</th>\n",
              "      <th>dominant_topic</th>\n",
              "    </tr>\n",
              "  </thead>\n",
              "  <tbody>\n",
              "    <tr>\n",
              "      <th>Doc0</th>\n",
              "      <td>0.07</td>\n",
              "      <td>0.04</td>\n",
              "      <td>0.04</td>\n",
              "      <td>0.82</td>\n",
              "      <td>0.04</td>\n",
              "      <td>3</td>\n",
              "    </tr>\n",
              "    <tr>\n",
              "      <th>Doc1</th>\n",
              "      <td>0.03</td>\n",
              "      <td>0.03</td>\n",
              "      <td>0.06</td>\n",
              "      <td>0.85</td>\n",
              "      <td>0.03</td>\n",
              "      <td>3</td>\n",
              "    </tr>\n",
              "    <tr>\n",
              "      <th>Doc2</th>\n",
              "      <td>0.03</td>\n",
              "      <td>0.03</td>\n",
              "      <td>0.06</td>\n",
              "      <td>0.84</td>\n",
              "      <td>0.03</td>\n",
              "      <td>3</td>\n",
              "    </tr>\n",
              "    <tr>\n",
              "      <th>Doc3</th>\n",
              "      <td>0.20</td>\n",
              "      <td>0.03</td>\n",
              "      <td>0.03</td>\n",
              "      <td>0.71</td>\n",
              "      <td>0.03</td>\n",
              "      <td>3</td>\n",
              "    </tr>\n",
              "    <tr>\n",
              "      <th>Doc4</th>\n",
              "      <td>0.04</td>\n",
              "      <td>0.04</td>\n",
              "      <td>0.19</td>\n",
              "      <td>0.70</td>\n",
              "      <td>0.04</td>\n",
              "      <td>3</td>\n",
              "    </tr>\n",
              "    <tr>\n",
              "      <th>...</th>\n",
              "      <td>...</td>\n",
              "      <td>...</td>\n",
              "      <td>...</td>\n",
              "      <td>...</td>\n",
              "      <td>...</td>\n",
              "      <td>...</td>\n",
              "    </tr>\n",
              "    <tr>\n",
              "      <th>Doc4138</th>\n",
              "      <td>0.12</td>\n",
              "      <td>0.18</td>\n",
              "      <td>0.03</td>\n",
              "      <td>0.65</td>\n",
              "      <td>0.03</td>\n",
              "      <td>3</td>\n",
              "    </tr>\n",
              "    <tr>\n",
              "      <th>Doc4139</th>\n",
              "      <td>0.04</td>\n",
              "      <td>0.04</td>\n",
              "      <td>0.04</td>\n",
              "      <td>0.86</td>\n",
              "      <td>0.04</td>\n",
              "      <td>3</td>\n",
              "    </tr>\n",
              "    <tr>\n",
              "      <th>Doc4140</th>\n",
              "      <td>0.04</td>\n",
              "      <td>0.14</td>\n",
              "      <td>0.04</td>\n",
              "      <td>0.74</td>\n",
              "      <td>0.04</td>\n",
              "      <td>3</td>\n",
              "    </tr>\n",
              "    <tr>\n",
              "      <th>Doc4141</th>\n",
              "      <td>0.03</td>\n",
              "      <td>0.36</td>\n",
              "      <td>0.16</td>\n",
              "      <td>0.42</td>\n",
              "      <td>0.03</td>\n",
              "      <td>3</td>\n",
              "    </tr>\n",
              "    <tr>\n",
              "      <th>Doc4142</th>\n",
              "      <td>0.04</td>\n",
              "      <td>0.84</td>\n",
              "      <td>0.04</td>\n",
              "      <td>0.04</td>\n",
              "      <td>0.04</td>\n",
              "      <td>1</td>\n",
              "    </tr>\n",
              "  </tbody>\n",
              "</table>\n",
              "<p>4143 rows × 6 columns</p>\n",
              "</div>"
            ],
            "text/plain": [
              "         Topic0  Topic1  Topic2  Topic3  Topic4  dominant_topic\n",
              "Doc0       0.07    0.04    0.04    0.82    0.04               3\n",
              "Doc1       0.03    0.03    0.06    0.85    0.03               3\n",
              "Doc2       0.03    0.03    0.06    0.84    0.03               3\n",
              "Doc3       0.20    0.03    0.03    0.71    0.03               3\n",
              "Doc4       0.04    0.04    0.19    0.70    0.04               3\n",
              "...         ...     ...     ...     ...     ...             ...\n",
              "Doc4138    0.12    0.18    0.03    0.65    0.03               3\n",
              "Doc4139    0.04    0.04    0.04    0.86    0.04               3\n",
              "Doc4140    0.04    0.14    0.04    0.74    0.04               3\n",
              "Doc4141    0.03    0.36    0.16    0.42    0.03               3\n",
              "Doc4142    0.04    0.84    0.04    0.04    0.04               1\n",
              "\n",
              "[4143 rows x 6 columns]"
            ]
          },
          "metadata": {
            "tags": []
          },
          "execution_count": 32
        }
      ]
    },
    {
      "cell_type": "code",
      "metadata": {
        "id": "dPZJKOohEpLJ",
        "outputId": "21237845-516e-421f-e501-3b40109b1d27"
      },
      "source": [
        "# Styling\n",
        "def color_red(val):\n",
        "    color = 'red' if val > .1 else 'black'\n",
        "    return 'color: {col}'.format(col=color)\n",
        "\n",
        "def make_bold(val):\n",
        "    weight = 700 if val > .1 else 400\n",
        "    return 'font-weight: {weight}'.format(weight=weight)\n",
        "\n",
        "# Apply Style\n",
        "df_document_topics = df_document_topic.head(5).style.applymap(color_red).applymap(make_bold)\n",
        "df_document_topics"
      ],
      "execution_count": null,
      "outputs": [
        {
          "output_type": "execute_result",
          "data": {
            "text/html": [
              "<style  type=\"text/css\" >\n",
              "#T_3bb96_row0_col0,#T_3bb96_row0_col1,#T_3bb96_row0_col2,#T_3bb96_row0_col4,#T_3bb96_row1_col0,#T_3bb96_row1_col1,#T_3bb96_row1_col2,#T_3bb96_row1_col4,#T_3bb96_row2_col0,#T_3bb96_row2_col1,#T_3bb96_row2_col2,#T_3bb96_row2_col4,#T_3bb96_row3_col1,#T_3bb96_row3_col2,#T_3bb96_row3_col4,#T_3bb96_row4_col0,#T_3bb96_row4_col1,#T_3bb96_row4_col4{\n",
              "            color:  black;\n",
              "            font-weight:  400;\n",
              "        }#T_3bb96_row0_col3,#T_3bb96_row0_col5,#T_3bb96_row1_col3,#T_3bb96_row1_col5,#T_3bb96_row2_col3,#T_3bb96_row2_col5,#T_3bb96_row3_col0,#T_3bb96_row3_col3,#T_3bb96_row3_col5,#T_3bb96_row4_col2,#T_3bb96_row4_col3,#T_3bb96_row4_col5{\n",
              "            color:  red;\n",
              "            font-weight:  700;\n",
              "        }</style><table id=\"T_3bb96_\" ><thead>    <tr>        <th class=\"blank level0\" ></th>        <th class=\"col_heading level0 col0\" >Topic0</th>        <th class=\"col_heading level0 col1\" >Topic1</th>        <th class=\"col_heading level0 col2\" >Topic2</th>        <th class=\"col_heading level0 col3\" >Topic3</th>        <th class=\"col_heading level0 col4\" >Topic4</th>        <th class=\"col_heading level0 col5\" >dominant_topic</th>    </tr></thead><tbody>\n",
              "                <tr>\n",
              "                        <th id=\"T_3bb96_level0_row0\" class=\"row_heading level0 row0\" >Doc0</th>\n",
              "                        <td id=\"T_3bb96_row0_col0\" class=\"data row0 col0\" >0.070000</td>\n",
              "                        <td id=\"T_3bb96_row0_col1\" class=\"data row0 col1\" >0.040000</td>\n",
              "                        <td id=\"T_3bb96_row0_col2\" class=\"data row0 col2\" >0.040000</td>\n",
              "                        <td id=\"T_3bb96_row0_col3\" class=\"data row0 col3\" >0.820000</td>\n",
              "                        <td id=\"T_3bb96_row0_col4\" class=\"data row0 col4\" >0.040000</td>\n",
              "                        <td id=\"T_3bb96_row0_col5\" class=\"data row0 col5\" >3</td>\n",
              "            </tr>\n",
              "            <tr>\n",
              "                        <th id=\"T_3bb96_level0_row1\" class=\"row_heading level0 row1\" >Doc1</th>\n",
              "                        <td id=\"T_3bb96_row1_col0\" class=\"data row1 col0\" >0.030000</td>\n",
              "                        <td id=\"T_3bb96_row1_col1\" class=\"data row1 col1\" >0.030000</td>\n",
              "                        <td id=\"T_3bb96_row1_col2\" class=\"data row1 col2\" >0.060000</td>\n",
              "                        <td id=\"T_3bb96_row1_col3\" class=\"data row1 col3\" >0.850000</td>\n",
              "                        <td id=\"T_3bb96_row1_col4\" class=\"data row1 col4\" >0.030000</td>\n",
              "                        <td id=\"T_3bb96_row1_col5\" class=\"data row1 col5\" >3</td>\n",
              "            </tr>\n",
              "            <tr>\n",
              "                        <th id=\"T_3bb96_level0_row2\" class=\"row_heading level0 row2\" >Doc2</th>\n",
              "                        <td id=\"T_3bb96_row2_col0\" class=\"data row2 col0\" >0.030000</td>\n",
              "                        <td id=\"T_3bb96_row2_col1\" class=\"data row2 col1\" >0.030000</td>\n",
              "                        <td id=\"T_3bb96_row2_col2\" class=\"data row2 col2\" >0.060000</td>\n",
              "                        <td id=\"T_3bb96_row2_col3\" class=\"data row2 col3\" >0.840000</td>\n",
              "                        <td id=\"T_3bb96_row2_col4\" class=\"data row2 col4\" >0.030000</td>\n",
              "                        <td id=\"T_3bb96_row2_col5\" class=\"data row2 col5\" >3</td>\n",
              "            </tr>\n",
              "            <tr>\n",
              "                        <th id=\"T_3bb96_level0_row3\" class=\"row_heading level0 row3\" >Doc3</th>\n",
              "                        <td id=\"T_3bb96_row3_col0\" class=\"data row3 col0\" >0.200000</td>\n",
              "                        <td id=\"T_3bb96_row3_col1\" class=\"data row3 col1\" >0.030000</td>\n",
              "                        <td id=\"T_3bb96_row3_col2\" class=\"data row3 col2\" >0.030000</td>\n",
              "                        <td id=\"T_3bb96_row3_col3\" class=\"data row3 col3\" >0.710000</td>\n",
              "                        <td id=\"T_3bb96_row3_col4\" class=\"data row3 col4\" >0.030000</td>\n",
              "                        <td id=\"T_3bb96_row3_col5\" class=\"data row3 col5\" >3</td>\n",
              "            </tr>\n",
              "            <tr>\n",
              "                        <th id=\"T_3bb96_level0_row4\" class=\"row_heading level0 row4\" >Doc4</th>\n",
              "                        <td id=\"T_3bb96_row4_col0\" class=\"data row4 col0\" >0.040000</td>\n",
              "                        <td id=\"T_3bb96_row4_col1\" class=\"data row4 col1\" >0.040000</td>\n",
              "                        <td id=\"T_3bb96_row4_col2\" class=\"data row4 col2\" >0.190000</td>\n",
              "                        <td id=\"T_3bb96_row4_col3\" class=\"data row4 col3\" >0.700000</td>\n",
              "                        <td id=\"T_3bb96_row4_col4\" class=\"data row4 col4\" >0.040000</td>\n",
              "                        <td id=\"T_3bb96_row4_col5\" class=\"data row4 col5\" >3</td>\n",
              "            </tr>\n",
              "    </tbody></table>"
            ],
            "text/plain": [
              "<pandas.io.formats.style.Styler at 0x226337e8820>"
            ]
          },
          "metadata": {
            "tags": []
          },
          "execution_count": 34
        }
      ]
    },
    {
      "cell_type": "markdown",
      "metadata": {
        "id": "8D-pMrDNEpLJ"
      },
      "source": [
        "## Review topics distribution across documents"
      ]
    },
    {
      "cell_type": "code",
      "metadata": {
        "id": "bZ324nPPEpLK",
        "outputId": "8268edb7-b7be-42eb-ee02-751277384311"
      },
      "source": [
        "df_topic_distribution = df_document_topic['dominant_topic'].value_counts(normalize=True)\n",
        "df_topic_distribution"
      ],
      "execution_count": null,
      "outputs": [
        {
          "output_type": "execute_result",
          "data": {
            "text/plain": [
              "3    0.886073\n",
              "1    0.088342\n",
              "0    0.022448\n",
              "2    0.003138\n",
              "Name: dominant_topic, dtype: float64"
            ]
          },
          "metadata": {
            "tags": []
          },
          "execution_count": 35
        }
      ]
    },
    {
      "cell_type": "code",
      "metadata": {
        "id": "L9wBgr6XEpLK"
      },
      "source": [
        "df_topic_distribution = df_document_topic['dominant_topic'].value_counts().reset_index(name=\"Num Documents\")\n"
      ],
      "execution_count": null,
      "outputs": []
    },
    {
      "cell_type": "code",
      "metadata": {
        "id": "TOMaN7CAEpLK",
        "outputId": "255d3bab-2a8e-4b00-8580-cfbaf7981ee6"
      },
      "source": [
        "df_topic_distribution.columns = ['Topic Num', 'Num Documents']\n",
        "df_topic_distribution"
      ],
      "execution_count": null,
      "outputs": [
        {
          "output_type": "execute_result",
          "data": {
            "text/html": [
              "<div>\n",
              "<style scoped>\n",
              "    .dataframe tbody tr th:only-of-type {\n",
              "        vertical-align: middle;\n",
              "    }\n",
              "\n",
              "    .dataframe tbody tr th {\n",
              "        vertical-align: top;\n",
              "    }\n",
              "\n",
              "    .dataframe thead th {\n",
              "        text-align: right;\n",
              "    }\n",
              "</style>\n",
              "<table border=\"1\" class=\"dataframe\">\n",
              "  <thead>\n",
              "    <tr style=\"text-align: right;\">\n",
              "      <th></th>\n",
              "      <th>Topic Num</th>\n",
              "      <th>Num Documents</th>\n",
              "    </tr>\n",
              "  </thead>\n",
              "  <tbody>\n",
              "    <tr>\n",
              "      <th>0</th>\n",
              "      <td>3</td>\n",
              "      <td>3671</td>\n",
              "    </tr>\n",
              "    <tr>\n",
              "      <th>1</th>\n",
              "      <td>1</td>\n",
              "      <td>366</td>\n",
              "    </tr>\n",
              "    <tr>\n",
              "      <th>2</th>\n",
              "      <td>0</td>\n",
              "      <td>93</td>\n",
              "    </tr>\n",
              "    <tr>\n",
              "      <th>3</th>\n",
              "      <td>2</td>\n",
              "      <td>13</td>\n",
              "    </tr>\n",
              "  </tbody>\n",
              "</table>\n",
              "</div>"
            ],
            "text/plain": [
              "   Topic Num  Num Documents\n",
              "0          3           3671\n",
              "1          1            366\n",
              "2          0             93\n",
              "3          2             13"
            ]
          },
          "metadata": {
            "tags": []
          },
          "execution_count": 37
        }
      ]
    },
    {
      "cell_type": "code",
      "metadata": {
        "id": "YR3j04oJEpLL",
        "outputId": "0f13fcd1-c406-45e1-eb50-664b7a326821"
      },
      "source": [
        "# Topic-Keyword Matrix\n",
        "df_topic_keywords = pd.DataFrame(lda_model.components_)\n",
        "\n",
        "# Assign Column and Index\n",
        "df_topic_keywords.columns = vectorizer.get_feature_names()\n",
        "df_topic_keywords.index = topicnames\n",
        "\n",
        "# View\n",
        "df_topic_keywords.head()"
      ],
      "execution_count": null,
      "outputs": [
        {
          "output_type": "execute_result",
          "data": {
            "text/html": [
              "<div>\n",
              "<style scoped>\n",
              "    .dataframe tbody tr th:only-of-type {\n",
              "        vertical-align: middle;\n",
              "    }\n",
              "\n",
              "    .dataframe tbody tr th {\n",
              "        vertical-align: top;\n",
              "    }\n",
              "\n",
              "    .dataframe thead th {\n",
              "        text-align: right;\n",
              "    }\n",
              "</style>\n",
              "<table border=\"1\" class=\"dataframe\">\n",
              "  <thead>\n",
              "    <tr style=\"text-align: right;\">\n",
              "      <th></th>\n",
              "      <th>abated</th>\n",
              "      <th>abdomen</th>\n",
              "      <th>abdominal</th>\n",
              "      <th>abilify</th>\n",
              "      <th>ability</th>\n",
              "      <th>able</th>\n",
              "      <th>abnormal</th>\n",
              "      <th>abnormality</th>\n",
              "      <th>abruptly</th>\n",
              "      <th>absence</th>\n",
              "      <th>...</th>\n",
              "      <th>zocor</th>\n",
              "      <th>zofran</th>\n",
              "      <th>zoloft</th>\n",
              "      <th>zombie</th>\n",
              "      <th>zomig</th>\n",
              "      <th>zone</th>\n",
              "      <th>zovirax</th>\n",
              "      <th>zyban</th>\n",
              "      <th>zyprexa</th>\n",
              "      <th>zyrtec</th>\n",
              "    </tr>\n",
              "  </thead>\n",
              "  <tbody>\n",
              "    <tr>\n",
              "      <th>Topic0</th>\n",
              "      <td>0.705020</td>\n",
              "      <td>0.237443</td>\n",
              "      <td>0.201231</td>\n",
              "      <td>0.200098</td>\n",
              "      <td>0.201884</td>\n",
              "      <td>0.201029</td>\n",
              "      <td>0.737843</td>\n",
              "      <td>0.217773</td>\n",
              "      <td>0.200646</td>\n",
              "      <td>0.200076</td>\n",
              "      <td>...</td>\n",
              "      <td>5.610294</td>\n",
              "      <td>0.200666</td>\n",
              "      <td>0.200111</td>\n",
              "      <td>0.200111</td>\n",
              "      <td>0.200073</td>\n",
              "      <td>0.202437</td>\n",
              "      <td>0.200413</td>\n",
              "      <td>0.200063</td>\n",
              "      <td>0.200058</td>\n",
              "      <td>0.200884</td>\n",
              "    </tr>\n",
              "    <tr>\n",
              "      <th>Topic1</th>\n",
              "      <td>0.200078</td>\n",
              "      <td>0.201015</td>\n",
              "      <td>0.200664</td>\n",
              "      <td>0.200057</td>\n",
              "      <td>0.200222</td>\n",
              "      <td>0.622672</td>\n",
              "      <td>0.204528</td>\n",
              "      <td>0.200089</td>\n",
              "      <td>0.200075</td>\n",
              "      <td>0.200062</td>\n",
              "      <td>...</td>\n",
              "      <td>0.200027</td>\n",
              "      <td>0.200057</td>\n",
              "      <td>0.200046</td>\n",
              "      <td>0.200060</td>\n",
              "      <td>0.200073</td>\n",
              "      <td>0.631187</td>\n",
              "      <td>0.207575</td>\n",
              "      <td>0.200042</td>\n",
              "      <td>0.200038</td>\n",
              "      <td>0.200880</td>\n",
              "    </tr>\n",
              "    <tr>\n",
              "      <th>Topic2</th>\n",
              "      <td>0.200167</td>\n",
              "      <td>1.701398</td>\n",
              "      <td>0.201122</td>\n",
              "      <td>0.200117</td>\n",
              "      <td>0.200541</td>\n",
              "      <td>0.200588</td>\n",
              "      <td>0.209630</td>\n",
              "      <td>0.200134</td>\n",
              "      <td>0.200095</td>\n",
              "      <td>0.201381</td>\n",
              "      <td>...</td>\n",
              "      <td>0.200057</td>\n",
              "      <td>0.201665</td>\n",
              "      <td>0.200207</td>\n",
              "      <td>0.200141</td>\n",
              "      <td>0.200173</td>\n",
              "      <td>0.200138</td>\n",
              "      <td>0.200330</td>\n",
              "      <td>0.200101</td>\n",
              "      <td>0.200120</td>\n",
              "      <td>0.200106</td>\n",
              "    </tr>\n",
              "    <tr>\n",
              "      <th>Topic3</th>\n",
              "      <td>1.434778</td>\n",
              "      <td>2.052775</td>\n",
              "      <td>9.369212</td>\n",
              "      <td>6.413028</td>\n",
              "      <td>16.129860</td>\n",
              "      <td>52.567443</td>\n",
              "      <td>1.426209</td>\n",
              "      <td>1.164844</td>\n",
              "      <td>1.171766</td>\n",
              "      <td>1.392382</td>\n",
              "      <td>...</td>\n",
              "      <td>0.202094</td>\n",
              "      <td>3.322752</td>\n",
              "      <td>18.685107</td>\n",
              "      <td>5.585479</td>\n",
              "      <td>7.493940</td>\n",
              "      <td>0.866432</td>\n",
              "      <td>1.499163</td>\n",
              "      <td>5.065145</td>\n",
              "      <td>3.255718</td>\n",
              "      <td>13.056540</td>\n",
              "    </tr>\n",
              "    <tr>\n",
              "      <th>Topic4</th>\n",
              "      <td>0.200183</td>\n",
              "      <td>0.200202</td>\n",
              "      <td>0.200344</td>\n",
              "      <td>0.200172</td>\n",
              "      <td>0.200129</td>\n",
              "      <td>0.200179</td>\n",
              "      <td>0.200218</td>\n",
              "      <td>0.200197</td>\n",
              "      <td>0.200139</td>\n",
              "      <td>0.200172</td>\n",
              "      <td>...</td>\n",
              "      <td>0.200079</td>\n",
              "      <td>0.200148</td>\n",
              "      <td>0.200127</td>\n",
              "      <td>0.200124</td>\n",
              "      <td>0.200164</td>\n",
              "      <td>0.200200</td>\n",
              "      <td>2.793731</td>\n",
              "      <td>0.200140</td>\n",
              "      <td>0.200127</td>\n",
              "      <td>0.200151</td>\n",
              "    </tr>\n",
              "  </tbody>\n",
              "</table>\n",
              "<p>5 rows × 3902 columns</p>\n",
              "</div>"
            ],
            "text/plain": [
              "          abated   abdomen  abdominal   abilify    ability       able  \\\n",
              "Topic0  0.705020  0.237443   0.201231  0.200098   0.201884   0.201029   \n",
              "Topic1  0.200078  0.201015   0.200664  0.200057   0.200222   0.622672   \n",
              "Topic2  0.200167  1.701398   0.201122  0.200117   0.200541   0.200588   \n",
              "Topic3  1.434778  2.052775   9.369212  6.413028  16.129860  52.567443   \n",
              "Topic4  0.200183  0.200202   0.200344  0.200172   0.200129   0.200179   \n",
              "\n",
              "        abnormal  abnormality  abruptly   absence  ...     zocor    zofran  \\\n",
              "Topic0  0.737843     0.217773  0.200646  0.200076  ...  5.610294  0.200666   \n",
              "Topic1  0.204528     0.200089  0.200075  0.200062  ...  0.200027  0.200057   \n",
              "Topic2  0.209630     0.200134  0.200095  0.201381  ...  0.200057  0.201665   \n",
              "Topic3  1.426209     1.164844  1.171766  1.392382  ...  0.202094  3.322752   \n",
              "Topic4  0.200218     0.200197  0.200139  0.200172  ...  0.200079  0.200148   \n",
              "\n",
              "           zoloft    zombie     zomig      zone   zovirax     zyban   zyprexa  \\\n",
              "Topic0   0.200111  0.200111  0.200073  0.202437  0.200413  0.200063  0.200058   \n",
              "Topic1   0.200046  0.200060  0.200073  0.631187  0.207575  0.200042  0.200038   \n",
              "Topic2   0.200207  0.200141  0.200173  0.200138  0.200330  0.200101  0.200120   \n",
              "Topic3  18.685107  5.585479  7.493940  0.866432  1.499163  5.065145  3.255718   \n",
              "Topic4   0.200127  0.200124  0.200164  0.200200  2.793731  0.200140  0.200127   \n",
              "\n",
              "           zyrtec  \n",
              "Topic0   0.200884  \n",
              "Topic1   0.200880  \n",
              "Topic2   0.200106  \n",
              "Topic3  13.056540  \n",
              "Topic4   0.200151  \n",
              "\n",
              "[5 rows x 3902 columns]"
            ]
          },
          "metadata": {
            "tags": []
          },
          "execution_count": 42
        }
      ]
    },
    {
      "cell_type": "code",
      "metadata": {
        "id": "75zII7WxEpLL",
        "outputId": "5db737ea-8a18-4c60-ba87-5cbee419cf18"
      },
      "source": [
        "# Show top n keywords for each topic\n",
        "def show_topics(vectorizer=vectorizer, lda_model=lda_model, n_words=10):\n",
        "    keywords = np.array(vectorizer.get_feature_names())\n",
        "    topic_keywords = []\n",
        "    for topic_weights in lda_model.components_:\n",
        "        top_keyword_locs = (-topic_weights).argsort()[:n_words]\n",
        "        topic_keywords.append(keywords.take(top_keyword_locs))\n",
        "    return topic_keywords\n",
        "\n",
        "topic_keywords = show_topics(vectorizer=vectorizer, lda_model=lda_model, n_words=10)        \n",
        "topic_keywords\n"
      ],
      "execution_count": null,
      "outputs": [
        {
          "output_type": "execute_result",
          "data": {
            "text/plain": [
              "[array(['blood', 'pressure', 'cholesterol', 'acid', 'reflux', 'hair',\n",
              "        'thyroid', 'high', 'synthroid', 'level'], dtype='<U19'),\n",
              " array(['acne', 'skin', 'face', 'cream', 'retin', 'use', 'applied',\n",
              "        'redness', 'dry', 'apply'], dtype='<U19'),\n",
              " array(['flash', 'hot', 'bone', 'lyrica', 'menopause', 'patch', 'premarin',\n",
              "        'estrogen', 'density', 'osteoporosis'], dtype='<U19'),\n",
              " array(['pain', 'taking', 'effect', 'depression', 'week', 'day', 'sleep',\n",
              "        'month', 'took', 'anxiety'], dtype='<U19'),\n",
              " array(['outbreak', 'valtrex', 'herpes', 'zovirax', 'genital', 'blister',\n",
              "        'preventive', 'recomended', 'discussed', 'gastritis'], dtype='<U19')]"
            ]
          },
          "metadata": {
            "tags": []
          },
          "execution_count": 40
        }
      ]
    },
    {
      "cell_type": "code",
      "metadata": {
        "id": "Be3KKLXjEpLL"
      },
      "source": [
        ""
      ],
      "execution_count": null,
      "outputs": []
    },
    {
      "cell_type": "code",
      "metadata": {
        "id": "nWRV_DNXEpLL",
        "outputId": "b2eb3e5c-44bf-40ed-92a2-5abc27449c8c"
      },
      "source": [
        "# Topic - Keywords Dataframe\n",
        "df_topic_keywords = pd.DataFrame(topic_keywords)\n",
        "df_topic_keywords.columns = ['Word '+str(i) for i in range(df_topic_keywords.shape[1])]\n",
        "df_topic_keywords.index = ['Topic '+str(i) for i in range(df_topic_keywords.shape[0])]\n",
        "df_topic_keywords"
      ],
      "execution_count": null,
      "outputs": [
        {
          "output_type": "execute_result",
          "data": {
            "text/html": [
              "<div>\n",
              "<style scoped>\n",
              "    .dataframe tbody tr th:only-of-type {\n",
              "        vertical-align: middle;\n",
              "    }\n",
              "\n",
              "    .dataframe tbody tr th {\n",
              "        vertical-align: top;\n",
              "    }\n",
              "\n",
              "    .dataframe thead th {\n",
              "        text-align: right;\n",
              "    }\n",
              "</style>\n",
              "<table border=\"1\" class=\"dataframe\">\n",
              "  <thead>\n",
              "    <tr style=\"text-align: right;\">\n",
              "      <th></th>\n",
              "      <th>Word 0</th>\n",
              "      <th>Word 1</th>\n",
              "      <th>Word 2</th>\n",
              "      <th>Word 3</th>\n",
              "      <th>Word 4</th>\n",
              "      <th>Word 5</th>\n",
              "      <th>Word 6</th>\n",
              "      <th>Word 7</th>\n",
              "      <th>Word 8</th>\n",
              "      <th>Word 9</th>\n",
              "    </tr>\n",
              "  </thead>\n",
              "  <tbody>\n",
              "    <tr>\n",
              "      <th>Topic 0</th>\n",
              "      <td>blood</td>\n",
              "      <td>pressure</td>\n",
              "      <td>cholesterol</td>\n",
              "      <td>acid</td>\n",
              "      <td>reflux</td>\n",
              "      <td>hair</td>\n",
              "      <td>thyroid</td>\n",
              "      <td>high</td>\n",
              "      <td>synthroid</td>\n",
              "      <td>level</td>\n",
              "    </tr>\n",
              "    <tr>\n",
              "      <th>Topic 1</th>\n",
              "      <td>acne</td>\n",
              "      <td>skin</td>\n",
              "      <td>face</td>\n",
              "      <td>cream</td>\n",
              "      <td>retin</td>\n",
              "      <td>use</td>\n",
              "      <td>applied</td>\n",
              "      <td>redness</td>\n",
              "      <td>dry</td>\n",
              "      <td>apply</td>\n",
              "    </tr>\n",
              "    <tr>\n",
              "      <th>Topic 2</th>\n",
              "      <td>flash</td>\n",
              "      <td>hot</td>\n",
              "      <td>bone</td>\n",
              "      <td>lyrica</td>\n",
              "      <td>menopause</td>\n",
              "      <td>patch</td>\n",
              "      <td>premarin</td>\n",
              "      <td>estrogen</td>\n",
              "      <td>density</td>\n",
              "      <td>osteoporosis</td>\n",
              "    </tr>\n",
              "    <tr>\n",
              "      <th>Topic 3</th>\n",
              "      <td>pain</td>\n",
              "      <td>taking</td>\n",
              "      <td>effect</td>\n",
              "      <td>depression</td>\n",
              "      <td>week</td>\n",
              "      <td>day</td>\n",
              "      <td>sleep</td>\n",
              "      <td>month</td>\n",
              "      <td>took</td>\n",
              "      <td>anxiety</td>\n",
              "    </tr>\n",
              "    <tr>\n",
              "      <th>Topic 4</th>\n",
              "      <td>outbreak</td>\n",
              "      <td>valtrex</td>\n",
              "      <td>herpes</td>\n",
              "      <td>zovirax</td>\n",
              "      <td>genital</td>\n",
              "      <td>blister</td>\n",
              "      <td>preventive</td>\n",
              "      <td>recomended</td>\n",
              "      <td>discussed</td>\n",
              "      <td>gastritis</td>\n",
              "    </tr>\n",
              "  </tbody>\n",
              "</table>\n",
              "</div>"
            ],
            "text/plain": [
              "           Word 0    Word 1       Word 2      Word 3     Word 4   Word 5  \\\n",
              "Topic 0     blood  pressure  cholesterol        acid     reflux     hair   \n",
              "Topic 1      acne      skin         face       cream      retin      use   \n",
              "Topic 2     flash       hot         bone      lyrica  menopause    patch   \n",
              "Topic 3      pain    taking       effect  depression       week      day   \n",
              "Topic 4  outbreak   valtrex       herpes     zovirax    genital  blister   \n",
              "\n",
              "             Word 6      Word 7     Word 8        Word 9  \n",
              "Topic 0     thyroid        high  synthroid         level  \n",
              "Topic 1     applied     redness        dry         apply  \n",
              "Topic 2    premarin    estrogen    density  osteoporosis  \n",
              "Topic 3       sleep       month       took       anxiety  \n",
              "Topic 4  preventive  recomended  discussed     gastritis  "
            ]
          },
          "metadata": {
            "tags": []
          },
          "execution_count": 41
        }
      ]
    },
    {
      "cell_type": "code",
      "metadata": {
        "id": "BMV3a72jEpLM"
      },
      "source": [
        ""
      ],
      "execution_count": null,
      "outputs": []
    }
  ]
}