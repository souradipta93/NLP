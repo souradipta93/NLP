{
  "nbformat": 4,
  "nbformat_minor": 0,
  "metadata": {
    "kernelspec": {
      "display_name": "Python 3",
      "language": "python",
      "name": "python3"
    },
    "language_info": {
      "codemirror_mode": {
        "name": "ipython",
        "version": 3
      },
      "file_extension": ".py",
      "mimetype": "text/x-python",
      "name": "python",
      "nbconvert_exporter": "python",
      "pygments_lexer": "ipython3",
      "version": "3.8.5"
    },
    "colab": {
      "name": "sentiment_debates.ipynb",
      "provenance": [],
      "include_colab_link": true
    }
  },
  "cells": [
    {
      "cell_type": "markdown",
      "metadata": {
        "id": "view-in-github",
        "colab_type": "text"
      },
      "source": [
        "<a href=\"https://colab.research.google.com/github/souradipta93/NLP/blob/main/sentiment_debates.ipynb\" target=\"_parent\"><img src=\"https://colab.research.google.com/assets/colab-badge.svg\" alt=\"Open In Colab\"/></a>"
      ]
    },
    {
      "cell_type": "markdown",
      "metadata": {
        "id": "JFBmt6ZWIjPA"
      },
      "source": [
        "## Sentiment analysis of debates"
      ]
    },
    {
      "cell_type": "markdown",
      "metadata": {
        "id": "JEbu2S-eIjPD"
      },
      "source": [
        "* Analyze debate texts of 2016 US elections pertaining to Trump and Clinton\n",
        "* Come up with comparative sentiment scores\n"
      ]
    },
    {
      "cell_type": "code",
      "metadata": {
        "id": "WlEYQNc_IjPE"
      },
      "source": [
        "import numpy as np\n",
        "import pandas as pd\n",
        "\n",
        "import warnings\n",
        "warnings.filterwarnings('ignore')"
      ],
      "execution_count": null,
      "outputs": []
    },
    {
      "cell_type": "code",
      "metadata": {
        "id": "INBv-OUZIjPF"
      },
      "source": [
        "from matplotlib import pyplot as plt\n",
        "import nltk\n",
        "from nltk.sentiment.vader import SentimentIntensityAnalyzer\n",
        "from collections import defaultdict\n",
        "import seaborn as sns\n",
        "\n",
        "pd.set_option('display.max_columns', None)"
      ],
      "execution_count": null,
      "outputs": []
    },
    {
      "cell_type": "code",
      "metadata": {
        "id": "mSbkUK_SIjPF",
        "outputId": "1d0fd070-6002-48e9-d0fe-096ca8a75c70"
      },
      "source": [
        "## Read the file\n",
        "debates = pd.read_csv('debates_small.csv')\n",
        "debates.columns"
      ],
      "execution_count": null,
      "outputs": [
        {
          "output_type": "execute_result",
          "data": {
            "text/plain": [
              "Index(['Line', 'Speaker', 'Text', 'Date', 'Party', 'Location', 'URL'], dtype='object')"
            ]
          },
          "metadata": {
            "tags": []
          },
          "execution_count": 3
        }
      ]
    },
    {
      "cell_type": "code",
      "metadata": {
        "id": "AlqV4n5KIjPG"
      },
      "source": [
        "##remove redundant columns\n",
        "debate1 = debates.drop(['Line', 'Location', 'Date', 'URL'], axis=1)"
      ],
      "execution_count": null,
      "outputs": []
    },
    {
      "cell_type": "code",
      "metadata": {
        "id": "R0a21Tr3IjPH",
        "outputId": "c8807e5a-fa39-4f0f-c828-f9d19a2e2516"
      },
      "source": [
        "#number of debates - trump vs clinton\n",
        "debate1['Speaker'].value_counts()"
      ],
      "execution_count": null,
      "outputs": [
        {
          "output_type": "execute_result",
          "data": {
            "text/plain": [
              "Trump      878\n",
              "Clinton    704\n",
              "Name: Speaker, dtype: int64"
            ]
          },
          "metadata": {
            "tags": []
          },
          "execution_count": 5
        }
      ]
    },
    {
      "cell_type": "code",
      "metadata": {
        "id": "XVRGI3nSIjPH"
      },
      "source": [
        "## Function to extract sentiment scores\n",
        "def score_speaker(speaker_df):\n",
        "    df_dict = {}\n",
        "    for i,response in speaker_df.iterrows():\n",
        "        scorer = SentimentIntensityAnalyzer()\n",
        "        scores = scorer.polarity_scores(response.Text)\n",
        "        df_dict[i] = scores\n",
        "    df = pd.DataFrame.from_dict(df_dict)\n",
        "    df = df.T\n",
        "    return df"
      ],
      "execution_count": null,
      "outputs": []
    },
    {
      "cell_type": "code",
      "metadata": {
        "id": "L5KrgEIrIjPI",
        "outputId": "0265b3e9-c9a0-4118-a5ea-ba4241c1a084"
      },
      "source": [
        "## Create a dataframe with debate text\n",
        "df1 = debate1[['Text']]\n",
        "df1.head()"
      ],
      "execution_count": null,
      "outputs": [
        {
          "output_type": "execute_result",
          "data": {
            "text/html": [
              "<div>\n",
              "<style scoped>\n",
              "    .dataframe tbody tr th:only-of-type {\n",
              "        vertical-align: middle;\n",
              "    }\n",
              "\n",
              "    .dataframe tbody tr th {\n",
              "        vertical-align: top;\n",
              "    }\n",
              "\n",
              "    .dataframe thead th {\n",
              "        text-align: right;\n",
              "    }\n",
              "</style>\n",
              "<table border=\"1\" class=\"dataframe\">\n",
              "  <thead>\n",
              "    <tr style=\"text-align: right;\">\n",
              "      <th></th>\n",
              "      <th>Text</th>\n",
              "    </tr>\n",
              "  </thead>\n",
              "  <tbody>\n",
              "    <tr>\n",
              "      <th>0</th>\n",
              "      <td>Thank you.</td>\n",
              "    </tr>\n",
              "    <tr>\n",
              "      <th>1</th>\n",
              "      <td>I'm running for president to knock down all th...</td>\n",
              "    </tr>\n",
              "    <tr>\n",
              "      <th>2</th>\n",
              "      <td>Judy, I think that the best analysis that I've...</td>\n",
              "    </tr>\n",
              "    <tr>\n",
              "      <th>3</th>\n",
              "      <td>I can only say that we both share the goal of ...</td>\n",
              "    </tr>\n",
              "    <tr>\n",
              "      <th>4</th>\n",
              "      <td>And why I am a staunch supporter of President ...</td>\n",
              "    </tr>\n",
              "  </tbody>\n",
              "</table>\n",
              "</div>"
            ],
            "text/plain": [
              "                                                Text\n",
              "0                                         Thank you.\n",
              "1  I'm running for president to knock down all th...\n",
              "2  Judy, I think that the best analysis that I've...\n",
              "3  I can only say that we both share the goal of ...\n",
              "4  And why I am a staunch supporter of President ..."
            ]
          },
          "metadata": {
            "tags": []
          },
          "execution_count": 7
        }
      ]
    },
    {
      "cell_type": "code",
      "metadata": {
        "id": "pe1kArRkIjPI"
      },
      "source": [
        "## Get sentiment scores using function\n",
        "df_sent = score_speaker(df1)"
      ],
      "execution_count": null,
      "outputs": []
    },
    {
      "cell_type": "code",
      "metadata": {
        "id": "aCoeawdYIjPJ",
        "outputId": "1dc992b3-e8ca-4c9d-cb7b-747fc9f1e57a"
      },
      "source": [
        "df_sent"
      ],
      "execution_count": null,
      "outputs": [
        {
          "output_type": "execute_result",
          "data": {
            "text/html": [
              "<div>\n",
              "<style scoped>\n",
              "    .dataframe tbody tr th:only-of-type {\n",
              "        vertical-align: middle;\n",
              "    }\n",
              "\n",
              "    .dataframe tbody tr th {\n",
              "        vertical-align: top;\n",
              "    }\n",
              "\n",
              "    .dataframe thead th {\n",
              "        text-align: right;\n",
              "    }\n",
              "</style>\n",
              "<table border=\"1\" class=\"dataframe\">\n",
              "  <thead>\n",
              "    <tr style=\"text-align: right;\">\n",
              "      <th></th>\n",
              "      <th>neg</th>\n",
              "      <th>neu</th>\n",
              "      <th>pos</th>\n",
              "      <th>compound</th>\n",
              "    </tr>\n",
              "  </thead>\n",
              "  <tbody>\n",
              "    <tr>\n",
              "      <th>0</th>\n",
              "      <td>0.000</td>\n",
              "      <td>0.286</td>\n",
              "      <td>0.714</td>\n",
              "      <td>0.3612</td>\n",
              "    </tr>\n",
              "    <tr>\n",
              "      <th>1</th>\n",
              "      <td>0.059</td>\n",
              "      <td>0.801</td>\n",
              "      <td>0.140</td>\n",
              "      <td>0.9522</td>\n",
              "    </tr>\n",
              "    <tr>\n",
              "      <th>2</th>\n",
              "      <td>0.000</td>\n",
              "      <td>0.924</td>\n",
              "      <td>0.076</td>\n",
              "      <td>0.8954</td>\n",
              "    </tr>\n",
              "    <tr>\n",
              "      <th>3</th>\n",
              "      <td>0.000</td>\n",
              "      <td>0.833</td>\n",
              "      <td>0.167</td>\n",
              "      <td>0.8225</td>\n",
              "    </tr>\n",
              "    <tr>\n",
              "      <th>4</th>\n",
              "      <td>0.052</td>\n",
              "      <td>0.852</td>\n",
              "      <td>0.097</td>\n",
              "      <td>0.8777</td>\n",
              "    </tr>\n",
              "    <tr>\n",
              "      <th>...</th>\n",
              "      <td>...</td>\n",
              "      <td>...</td>\n",
              "      <td>...</td>\n",
              "      <td>...</td>\n",
              "    </tr>\n",
              "    <tr>\n",
              "      <th>1577</th>\n",
              "      <td>0.000</td>\n",
              "      <td>1.000</td>\n",
              "      <td>0.000</td>\n",
              "      <td>0.0000</td>\n",
              "    </tr>\n",
              "    <tr>\n",
              "      <th>1578</th>\n",
              "      <td>0.000</td>\n",
              "      <td>0.870</td>\n",
              "      <td>0.130</td>\n",
              "      <td>0.2732</td>\n",
              "    </tr>\n",
              "    <tr>\n",
              "      <th>1579</th>\n",
              "      <td>0.000</td>\n",
              "      <td>0.783</td>\n",
              "      <td>0.217</td>\n",
              "      <td>0.3612</td>\n",
              "    </tr>\n",
              "    <tr>\n",
              "      <th>1580</th>\n",
              "      <td>0.000</td>\n",
              "      <td>1.000</td>\n",
              "      <td>0.000</td>\n",
              "      <td>0.0000</td>\n",
              "    </tr>\n",
              "    <tr>\n",
              "      <th>1581</th>\n",
              "      <td>0.049</td>\n",
              "      <td>0.772</td>\n",
              "      <td>0.179</td>\n",
              "      <td>0.9637</td>\n",
              "    </tr>\n",
              "  </tbody>\n",
              "</table>\n",
              "<p>1582 rows × 4 columns</p>\n",
              "</div>"
            ],
            "text/plain": [
              "        neg    neu    pos  compound\n",
              "0     0.000  0.286  0.714    0.3612\n",
              "1     0.059  0.801  0.140    0.9522\n",
              "2     0.000  0.924  0.076    0.8954\n",
              "3     0.000  0.833  0.167    0.8225\n",
              "4     0.052  0.852  0.097    0.8777\n",
              "...     ...    ...    ...       ...\n",
              "1577  0.000  1.000  0.000    0.0000\n",
              "1578  0.000  0.870  0.130    0.2732\n",
              "1579  0.000  0.783  0.217    0.3612\n",
              "1580  0.000  1.000  0.000    0.0000\n",
              "1581  0.049  0.772  0.179    0.9637\n",
              "\n",
              "[1582 rows x 4 columns]"
            ]
          },
          "metadata": {
            "tags": []
          },
          "execution_count": 9
        }
      ]
    },
    {
      "cell_type": "code",
      "metadata": {
        "id": "eNh-KeagIjPJ"
      },
      "source": [
        "## Add speaker as a column and re-arrange columns\n",
        "df_sent['Speaker'] = debate1['Speaker']\n",
        "df_sent = df_sent.reindex(columns=['Speaker','neg','neu','pos', 'compound'])"
      ],
      "execution_count": null,
      "outputs": []
    },
    {
      "cell_type": "code",
      "metadata": {
        "id": "d15ibUgLIjPK",
        "outputId": "2b1b2792-89d0-4d81-cc82-527952d4d68c"
      },
      "source": [
        "df_sent.head()"
      ],
      "execution_count": null,
      "outputs": [
        {
          "output_type": "execute_result",
          "data": {
            "text/html": [
              "<div>\n",
              "<style scoped>\n",
              "    .dataframe tbody tr th:only-of-type {\n",
              "        vertical-align: middle;\n",
              "    }\n",
              "\n",
              "    .dataframe tbody tr th {\n",
              "        vertical-align: top;\n",
              "    }\n",
              "\n",
              "    .dataframe thead th {\n",
              "        text-align: right;\n",
              "    }\n",
              "</style>\n",
              "<table border=\"1\" class=\"dataframe\">\n",
              "  <thead>\n",
              "    <tr style=\"text-align: right;\">\n",
              "      <th></th>\n",
              "      <th>Speaker</th>\n",
              "      <th>neg</th>\n",
              "      <th>neu</th>\n",
              "      <th>pos</th>\n",
              "      <th>compound</th>\n",
              "    </tr>\n",
              "  </thead>\n",
              "  <tbody>\n",
              "    <tr>\n",
              "      <th>0</th>\n",
              "      <td>Clinton</td>\n",
              "      <td>0.000</td>\n",
              "      <td>0.286</td>\n",
              "      <td>0.714</td>\n",
              "      <td>0.3612</td>\n",
              "    </tr>\n",
              "    <tr>\n",
              "      <th>1</th>\n",
              "      <td>Clinton</td>\n",
              "      <td>0.059</td>\n",
              "      <td>0.801</td>\n",
              "      <td>0.140</td>\n",
              "      <td>0.9522</td>\n",
              "    </tr>\n",
              "    <tr>\n",
              "      <th>2</th>\n",
              "      <td>Clinton</td>\n",
              "      <td>0.000</td>\n",
              "      <td>0.924</td>\n",
              "      <td>0.076</td>\n",
              "      <td>0.8954</td>\n",
              "    </tr>\n",
              "    <tr>\n",
              "      <th>3</th>\n",
              "      <td>Clinton</td>\n",
              "      <td>0.000</td>\n",
              "      <td>0.833</td>\n",
              "      <td>0.167</td>\n",
              "      <td>0.8225</td>\n",
              "    </tr>\n",
              "    <tr>\n",
              "      <th>4</th>\n",
              "      <td>Clinton</td>\n",
              "      <td>0.052</td>\n",
              "      <td>0.852</td>\n",
              "      <td>0.097</td>\n",
              "      <td>0.8777</td>\n",
              "    </tr>\n",
              "  </tbody>\n",
              "</table>\n",
              "</div>"
            ],
            "text/plain": [
              "   Speaker    neg    neu    pos  compound\n",
              "0  Clinton  0.000  0.286  0.714    0.3612\n",
              "1  Clinton  0.059  0.801  0.140    0.9522\n",
              "2  Clinton  0.000  0.924  0.076    0.8954\n",
              "3  Clinton  0.000  0.833  0.167    0.8225\n",
              "4  Clinton  0.052  0.852  0.097    0.8777"
            ]
          },
          "metadata": {
            "tags": []
          },
          "execution_count": 11
        }
      ]
    },
    {
      "cell_type": "code",
      "metadata": {
        "id": "TMvDlKROIjPK",
        "outputId": "d0bd77aa-6858-4f49-d4ac-fe9eec0a6a13"
      },
      "source": [
        "#Mean score per speaker\n",
        "df_sent.groupby('Speaker').mean()"
      ],
      "execution_count": null,
      "outputs": [
        {
          "output_type": "execute_result",
          "data": {
            "text/html": [
              "<div>\n",
              "<style scoped>\n",
              "    .dataframe tbody tr th:only-of-type {\n",
              "        vertical-align: middle;\n",
              "    }\n",
              "\n",
              "    .dataframe tbody tr th {\n",
              "        vertical-align: top;\n",
              "    }\n",
              "\n",
              "    .dataframe thead th {\n",
              "        text-align: right;\n",
              "    }\n",
              "</style>\n",
              "<table border=\"1\" class=\"dataframe\">\n",
              "  <thead>\n",
              "    <tr style=\"text-align: right;\">\n",
              "      <th></th>\n",
              "      <th>neg</th>\n",
              "      <th>neu</th>\n",
              "      <th>pos</th>\n",
              "      <th>compound</th>\n",
              "    </tr>\n",
              "    <tr>\n",
              "      <th>Speaker</th>\n",
              "      <th></th>\n",
              "      <th></th>\n",
              "      <th></th>\n",
              "      <th></th>\n",
              "    </tr>\n",
              "  </thead>\n",
              "  <tbody>\n",
              "    <tr>\n",
              "      <th>Clinton</th>\n",
              "      <td>0.054351</td>\n",
              "      <td>0.814574</td>\n",
              "      <td>0.131087</td>\n",
              "      <td>0.301563</td>\n",
              "    </tr>\n",
              "    <tr>\n",
              "      <th>Trump</th>\n",
              "      <td>0.088413</td>\n",
              "      <td>0.784694</td>\n",
              "      <td>0.126890</td>\n",
              "      <td>0.100825</td>\n",
              "    </tr>\n",
              "  </tbody>\n",
              "</table>\n",
              "</div>"
            ],
            "text/plain": [
              "              neg       neu       pos  compound\n",
              "Speaker                                        \n",
              "Clinton  0.054351  0.814574  0.131087  0.301563\n",
              "Trump    0.088413  0.784694  0.126890  0.100825"
            ]
          },
          "metadata": {
            "tags": []
          },
          "execution_count": 12
        }
      ]
    },
    {
      "cell_type": "code",
      "metadata": {
        "id": "e7v_MXvcIjPK"
      },
      "source": [
        ""
      ],
      "execution_count": null,
      "outputs": []
    }
  ]
}